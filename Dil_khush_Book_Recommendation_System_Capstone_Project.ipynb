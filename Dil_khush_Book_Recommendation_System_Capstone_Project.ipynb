{
  "nbformat": 4,
  "nbformat_minor": 0,
  "metadata": {
    "colab": {
      "private_outputs": true,
      "provenance": [],
      "collapsed_sections": [
        "vncDsAP0Gaoa",
        "FJNUwmbgGyua",
        "w6K7xa23Elo4",
        "yQaldy8SH6Dl",
        "mDgbUHAGgjLW",
        "O_i_v8NEhb9l",
        "HhfV-JJviCcP",
        "Y3lxredqlCYt",
        "3RnN4peoiCZX",
        "x71ZqKXriCWQ",
        "7hBIi_osiCS2",
        "JlHwYmJAmNHm",
        "35m5QtbWiB9F",
        "PoPl-ycgm1ru",
        "H0kj-8xxnORC",
        "nA9Y7ga8ng1Z",
        "PBTbrJXOngz2",
        "u3PMJOP6ngxN",
        "dauF4eBmngu3",
        "bKJF3rekwFvQ",
        "MSa1f5Uengrz",
        "GF8Ens_Soomf",
        "0wOQAZs5pc--",
        "K5QZ13OEpz2H",
        "lQ7QKXXCp7Bj",
        "448CDAPjqfQr",
        "KSlN3yHqYklG",
        "t6dVpIINYklI",
        "ijmpgYnKYklI",
        "-JiQyfWJYklI",
        "EM7whBJCYoAo",
        "fge-S5ZAYoAp",
        "85gYPyotYoAp",
        "RoGjAbkUYoAp",
        "4Of9eVA-YrdM",
        "iky9q4vBYrdO",
        "F6T5p64dYrdO",
        "y-Ehk30pYrdP",
        "bamQiAODYuh1",
        "QHF8YVU7Yuh3",
        "GwzvFGzlYuh3",
        "qYpmQ266Yuh3",
        "OH-pJp9IphqM",
        "bbFf2-_FphqN",
        "_ouA3fa0phqN",
        "Seke61FWphqN",
        "PIIx-8_IphqN",
        "t27r6nlMphqO",
        "r2jJGEOYphqO",
        "b0JNsNcRphqO",
        "BZR9WyysphqO",
        "jj7wYXLtphqO",
        "eZrbJ2SmphqO",
        "rFu4xreNphqO",
        "YJ55k-q6phqO",
        "gCFgpxoyphqP",
        "OVtJsKN_phqQ",
        "lssrdh5qphqQ",
        "U2RJ9gkRphqQ",
        "1M8mcRywphqQ",
        "tgIPom80phqQ",
        "JMzcOPDDphqR",
        "x-EpHcCOp1ci",
        "X_VqEhTip1ck",
        "8zGJKyg5p1ck",
        "PVzmfK_Ep1ck",
        "n3dbpmDWp1ck",
        "ylSl6qgtp1ck",
        "ZWILFDl5p1ck",
        "M7G43BXep1ck",
        "Ag9LCva-p1cl",
        "E6MkPsBcp1cl",
        "2cELzS2fp1cl",
        "3MPXvC8up1cl",
        "NC_X3p0fY2L0",
        "UV0SzAkaZNRQ",
        "YPEH6qLeZNRQ",
        "q29F0dvdveiT",
        "EXh0U9oCveiU",
        "22aHeOlLveiV",
        "g-ATYxFrGrvw",
        "Yfr_Vlr8HBkt",
        "8yEUt7NnHlrM",
        "tEA2Xm5dHt1r",
        "I79__PHVH19G",
        "Ou-I18pAyIpj",
        "fF3858GYyt-u",
        "4_0_7-oCpUZd",
        "hwyV_J3ipUZe",
        "3yB-zSqbpUZe",
        "dEUvejAfpUZe",
        "Fd15vwWVpUZf",
        "bn_IUdTipZyH",
        "49K5P_iCpZyH",
        "Nff-vKELpZyI",
        "kLW572S8pZyI",
        "dWbDXHzopZyI",
        "yLjJCtPM0KBk",
        "xiyOF9F70UgQ",
        "7wuGOrhz0itI",
        "id1riN9m0vUs",
        "578E2V7j08f6",
        "89xtkJwZ18nB",
        "67NQN5KX2AMe",
        "Iwf50b-R2tYG",
        "GMQiZwjn3iu7",
        "WVIkgGqN3qsr",
        "XkPnILGE3zoT",
        "Hlsf0x5436Go",
        "mT9DMSJo4nBL",
        "c49ITxTc407N",
        "OeJFEK0N496M",
        "9ExmJH0g5HBk",
        "cJNqERVU536h",
        "k5UmGsbsOxih",
        "T0VqWOYE6DLQ",
        "qBMux9mC6MCf",
        "-oLEiFgy-5Pf",
        "C74aWNz2AliB",
        "2DejudWSA-a0",
        "pEMng2IbBLp7",
        "rAdphbQ9Bhjc",
        "TNVZ9zx19K6k",
        "nqoHp30x9hH9",
        "rMDnDkt2B6du",
        "yiiVWRdJDDil",
        "1UUpS68QDMuG",
        "kexQrXU-DjzY",
        "T5CmagL3EC8N",
        "BhH2vgX9EjGr",
        "qjKvONjwE8ra",
        "P1XJ9OREExlT",
        "VFOzZv6IFROw",
        "TIqpNgepFxVj",
        "VfCC591jGiD4",
        "OB4l2ZhMeS1U",
        "ArJBuiUVfxKd",
        "4qY1EAkEfxKe",
        "PiV4Ypx8fxKe",
        "TfvqoZmBfxKf",
        "dJ2tPlVmpsJ0",
        "JWYfwnehpsJ1",
        "-jK_YjpMpsJ2",
        "HAih1iBOpsJ2",
        "zVGeBEFhpsJ2",
        "bmKjuQ-FpsJ3",
        "Fze-IPXLpx6K",
        "7AN1z2sKpx6M",
        "9PIHJqyupx6M",
        "_-qAgymDpx6N",
        "Z-hykwinpx6N",
        "h_CCil-SKHpo",
        "cBFFvTBNJzUa",
        "HvGl1hHyA_VK",
        "EyNgTHvd2WFk",
        "KH5McJBi2d8v",
        "iW_Lq9qf2h6X",
        "-Kee-DAl2viO",
        "gCX9965dhzqZ",
        "gIfDvo9L0UH2"
      ],
      "include_colab_link": true
    },
    "kernelspec": {
      "name": "python3",
      "display_name": "Python 3"
    },
    "language_info": {
      "name": "python"
    }
  },
  "cells": [
    {
      "cell_type": "markdown",
      "metadata": {
        "id": "view-in-github",
        "colab_type": "text"
      },
      "source": [
        "<a href=\"https://colab.research.google.com/github/dil150898/Book-Recommendation-System--Capstone-Project/blob/main/Dil_khush_Book_Recommendation_System_Capstone_Project.ipynb\" target=\"_parent\"><img src=\"https://colab.research.google.com/assets/colab-badge.svg\" alt=\"Open In Colab\"/></a>"
      ]
    },
    {
      "cell_type": "markdown",
      "source": [
        "# **Project Name**    -  **Book Recommendation System**\n",
        "\n"
      ],
      "metadata": {
        "id": "vncDsAP0Gaoa"
      }
    },
    {
      "cell_type": "markdown",
      "source": [
        "##### **Project Type**    - Unsupervised\n",
        "##### **Contribution**    - Team\n",
        "##### **Team Member 1 -**Vaibhav Kumar Gupta\n",
        "##### **Team Member 2 -**Bhavik Verma\n",
        "##### **Team Member 3 -**Priyanka Pal\n",
        "##### **Team Member 4 -**Dil Khush Sharma\n",
        "##### **Team Member 5 -**Shayan Somanna"
      ],
      "metadata": {
        "id": "beRrZCGUAJYm"
      }
    },
    {
      "cell_type": "markdown",
      "source": [
        "# **Project Summary -**"
      ],
      "metadata": {
        "id": "FJNUwmbgGyua"
      }
    },
    {
      "cell_type": "markdown",
      "source": [
        "* This project is all about recomendation system.In this project we have tried to use some approches for recomending the books to the readers or users .We have used various ways such as collaborative Filtering and Content based Filtering for recomendation of the books to the users .\n",
        "\n",
        "**ABOUT THE DATASET :** We have three diffrent datsets namely book.csv which contains information about the books such as book-author , publisher , book title , year of publication, image links and unique Book ID i.e ISBN Number .Then we have ratings.csv which contain information about ratings given by the users for the books, it contains user ID ,ISBN number and book rating (scale between 1-10). Then we have users.csv which contain information about users such as their location , age and their user ID \n",
        "\n",
        "**EDA :** For the EDA part we have analysed about the top Books rated by the users , top authors who got most ratings , top authors on the basis of number of books , Top publishers who have published maximum number of books, we have analysed the users age and lastly we have analysed their ratings we got that most of the users have rated 8.\n",
        "\n",
        "**Recomendation Approaches :**\n",
        "\n",
        "*  Collaborative Filtering\n",
        "\n",
        "   In Collaborative Filtering we make predictions of the taste or the intrests of the user based based on the other similar users behaviour (which is called collaborative) .The simple understanding is that if a person P1 have similar opinion with person P2 , then if person P1 is reading Harry Potter books then person P2 may also read Harry Potter books\n",
        "\n",
        "   Collaborative Filtering has mainly two implimentaion strategies\n",
        "   *   Model Based\n",
        "   *   Memory Based\n",
        "\n",
        "We have used the following approaches\n",
        "\n",
        "   Memory based\n",
        "   *  User_based Collaborative Filtering \n",
        "\n",
        "      *In this technique we try to predict on basis of what user may like based on the ratings that they had given to the items. In simpe words here we try to indentify the neghbouring users on the basis of similarity of active users and then scoring of the items  is calculated on the basis of those neighbour users* \n",
        "   *  Item_based Collaborative Filtering\n",
        "\n",
        "      *In Item based collaborative filtering we try to find similar items based on the items whichs user has liked or interacted with .It suggests an item based on items the user has previously consumed. It looks for the items the user has consumed then it finds other items similar to consumed items and recommends accordingly*\n",
        "\n",
        "\n",
        "   Model based Collaborative Filtering Approach\n",
        "   * Singular value decomposition(SVD)\n",
        "\n",
        "     *It is a popular method in field of Data Science and Machine Learning .It is a classical method from the Linear Algebra concept. It is popular beacuse of its properties and its use in Recomendation System. We can use this in recomending Books, movies etc.*\n",
        "\n",
        "     *SVD is a method from linear algebra that has been generally used as a dimensionality reduction technique in ML problems. It is amtrix Factorisation technique which tries to reduce the number of feature or attributes by reducing the sapce dimension from N dimension to I dimension.SVD is used as a collaborative filtering technique in recomendation technique domain. It consist of a matrix structure where the rows define the users and columns defines the item.*\n",
        "\n",
        "\n",
        "  * Non-Negetive Matrix Factorisation(NMF): \n",
        "  \n",
        "    *Our goal in NMF is to approximate the users-item V matrix by the dot product of two arrays W and H. Dimensions of the arrays are defined by dimensions of V and number of components we set to the algorithm. If V has n rows and m columns and we want to decompose it to k components, then W has n rows, and k columns and H has k rows and m columns.This is actually matrix factorization part of the algorithm. The Non-negative part refers to V, W, and H — all the values have to be equal or greater than zero, i.e., non-negative*\n",
        "   \n",
        "\n",
        "\n",
        "**Content based Filtering :**\n",
        "  \n",
        "   It is type of recomendation system which depends upon the data which we get from the customers , based on the data a user profile is generated"
      ],
      "metadata": {
        "id": "F6v_1wHtG2nS"
      }
    },
    {
      "cell_type": "markdown",
      "source": [],
      "metadata": {
        "id": "HIiYB16joaut"
      }
    },
    {
      "cell_type": "markdown",
      "source": [
        "# **GitHub Link -**"
      ],
      "metadata": {
        "id": "w6K7xa23Elo4"
      }
    },
    {
      "cell_type": "markdown",
      "source": [
        "https://github.com/dil150898/Book-Recommendation-System--Capstone-Project"
      ],
      "metadata": {
        "id": "h1o69JH3Eqqn"
      }
    },
    {
      "cell_type": "markdown",
      "source": [],
      "metadata": {
        "id": "9GZ7gmTNohCw"
      }
    },
    {
      "cell_type": "markdown",
      "source": [
        "# **Problem Statement**\n"
      ],
      "metadata": {
        "id": "yQaldy8SH6Dl"
      }
    },
    {
      "cell_type": "markdown",
      "source": [
        "### During the last few decades, with the rise of Youtube, Amazon, Netflix, and many other such web services, recommender systems have taken more and more place in our lives. From e-commerce (suggest to buyers articles that could interest them) to online advertisement (suggest to users the right contents, matching their preferences), recommender systems are today unavoidable in our daily online journeys.\n",
        "\n",
        "### In a very general way, recommender systems are algorithms aimed at suggesting relevant items to users (items being movies to watch, text to read, products to buy, or anything else depending on industries). Recommender systems are really critical in some industries as they can generate a huge amount of income when they are efficient or also be a way to stand out significantly from competitors. The main objective is to create a book recommendation system for users."
      ],
      "metadata": {
        "id": "DpeJGUA3kjGy"
      }
    },
    {
      "cell_type": "markdown",
      "source": [
        "# **General Guidelines** : -  "
      ],
      "metadata": {
        "id": "mDgbUHAGgjLW"
      }
    },
    {
      "cell_type": "markdown",
      "source": [
        "1.   Well-structured, formatted, and commented code is required. \n",
        "2.   Exception Handling, Production Grade Code & Deployment Ready Code will be a plus. Those students will be awarded some additional credits. \n",
        "     \n",
        "     The additional credits will have advantages over other students during Star Student selection.\n",
        "       \n",
        "             [ Note: - Deployment Ready Code is defined as, the whole .ipynb notebook should be executable in one go\n",
        "                       without a single error logged. ]\n",
        "\n",
        "3.   Each and every logic should have proper comments.\n",
        "4. You may add as many number of charts you want. Make Sure for each and every chart the following format should be answered.\n",
        "        \n",
        "\n",
        "```\n",
        "# Chart visualization code\n",
        "```\n",
        "            \n",
        "\n",
        "*   Why did you pick the specific chart?\n",
        "*   What is/are the insight(s) found from the chart?\n",
        "* Will the gained insights help creating a positive business impact? \n",
        "Are there any insights that lead to negative growth? Justify with specific reason.\n",
        "\n",
        "5. You have to create at least 15 logical & meaningful charts having important insights.\n",
        "\n",
        "\n",
        "[ Hints : - Do the Vizualization in  a structured way while following \"UBM\" Rule. \n",
        "\n",
        "U - Univariate Analysis,\n",
        "\n",
        "B - Bivariate Analysis (Numerical - Categorical, Numerical - Numerical, Categorical - Categorical)\n",
        "\n",
        "M - Multivariate Analysis\n",
        " ]\n",
        "\n",
        "\n",
        "\n",
        "\n",
        "\n",
        "6. You may add more ml algorithms for model creation. Make sure for each and every algorithm, the following format should be answered.\n",
        "\n",
        "\n",
        "*   Explain the ML Model used and it's performance using Evaluation metric Score Chart.\n",
        "\n",
        "\n",
        "*   Cross- Validation & Hyperparameter Tuning\n",
        "\n",
        "*   Have you seen any improvement? Note down the improvement with updates Evaluation metric Score Chart.\n",
        "\n",
        "*   Explain each evaluation metric's indication towards business and the business impact pf the ML model used.\n",
        "\n",
        "\n",
        "\n",
        "\n",
        "\n",
        "\n",
        "\n",
        "\n",
        "\n",
        "\n",
        "\n",
        "\n",
        "\n",
        "\n",
        "\n",
        "\n",
        "\n",
        "\n"
      ],
      "metadata": {
        "id": "ZrxVaUj-hHfC"
      }
    },
    {
      "cell_type": "markdown",
      "source": [
        "For implimentation of SVD and NMF techniques we require Surprise library"
      ],
      "metadata": {
        "id": "keQ6NdOuk7zQ"
      }
    },
    {
      "cell_type": "markdown",
      "source": [
        "# ***Let's Begin !***"
      ],
      "metadata": {
        "id": "OU9S1VwQrXSg"
      }
    },
    {
      "cell_type": "markdown",
      "source": [
        "## ***1. Know Your Data***"
      ],
      "metadata": {
        "id": "HhfV-JJviCcP"
      }
    },
    {
      "cell_type": "markdown",
      "source": [
        "### Import Libraries"
      ],
      "metadata": {
        "id": "Y3lxredqlCYt"
      }
    },
    {
      "cell_type": "markdown",
      "source": [
        "For implimentation of SVD and NMF techniques we require Surprise library"
      ],
      "metadata": {
        "id": "2Vl9ovgfq22e"
      }
    },
    {
      "cell_type": "code",
      "source": [
        "pip install surprise"
      ],
      "metadata": {
        "id": "gnckZYjJk5q_"
      },
      "execution_count": null,
      "outputs": []
    },
    {
      "cell_type": "code",
      "source": [
        "# Import Libraries\n",
        "# for dealing with regular expression techniques\n",
        "import re\n",
        "import requests\n",
        "import random\n",
        "#for NLP related tasks\n",
        "from sklearn.feature_extraction.text import CountVectorizer\n",
        "import nltk\n",
        "\n",
        "# basic libraries\n",
        "import pandas as pd\n",
        "import numpy as np\n",
        "\n",
        "\n",
        "import seaborn as sns\n",
        "import warnings\n",
        "warnings.filterwarnings(\"ignore\")\n",
        "#for TF-IDF vectorization\n",
        "from sklearn.feature_extraction.text import TfidfVectorizer\n",
        "# for finding similarity\n",
        "from sklearn.metrics.pairwise import cosine_similarity\n",
        "\n",
        "import scipy\n",
        "import math\n",
        "import sklearn\n",
        "#for removing stopwords\n",
        "from nltk.corpus import stopwords\n",
        "from sklearn.model_selection import train_test_split\n",
        "#for SVD model\n",
        "from scipy.sparse.linalg import svds\n",
        "# for plotting graphs\n",
        "import matplotlib.pyplot as plt\n",
        "\n",
        "from surprise import Dataset, Reader\n",
        "from surprise import SVD, NMF\n",
        "from surprise.model_selection import cross_validate, train_test_split, GridSearchCV"
      ],
      "metadata": {
        "id": "M8Vqi-pPk-HR"
      },
      "execution_count": null,
      "outputs": []
    },
    {
      "cell_type": "markdown",
      "source": [
        "### Dataset Loading"
      ],
      "metadata": {
        "id": "3RnN4peoiCZX"
      }
    },
    {
      "cell_type": "code",
      "source": [
        "# Load Dataset\n",
        "# Import Google Drive\n",
        "from google.colab import drive\n",
        "drive.mount('/content/drive')"
      ],
      "metadata": {
        "id": "4CkvbW_SlZ_R"
      },
      "execution_count": null,
      "outputs": []
    },
    {
      "cell_type": "code",
      "source": [
        "# Load Dataset Vaibhav\n",
        "path_book='/content/drive/MyDrive/Almabetter/Capstone Project/Unsupervised Machine Learning/Book Recommendation System/Book Recommendation System/Dil khush Sharma/data_book_recommendation/Books.csv'\n",
        "df_books=pd.read_csv(path_book)\n",
        "\n",
        "path_rating='/content/drive/MyDrive/Almabetter/Capstone Project/Unsupervised Machine Learning/Book Recommendation System/Book Recommendation System/Dil khush Sharma/data_book_recommendation/Ratings.csv'\n",
        "df_ratings=pd.read_csv(path_rating)\n",
        "\n",
        "path_users='/content/drive/MyDrive/Almabetter/Capstone Project/Unsupervised Machine Learning/Book Recommendation System/Book Recommendation System/Dil khush Sharma/data_book_recommendation/Users.csv'\n",
        "df_users=pd.read_csv(path_users)"
      ],
      "metadata": {
        "id": "ZCfo7a1xpEPE"
      },
      "execution_count": null,
      "outputs": []
    },
    {
      "cell_type": "markdown",
      "source": [
        "### Dataset First View"
      ],
      "metadata": {
        "id": "x71ZqKXriCWQ"
      }
    },
    {
      "cell_type": "code",
      "source": [
        "# Dataset First Look\n",
        "df_books.head(3)"
      ],
      "metadata": {
        "id": "LWNFOSvLl09H"
      },
      "execution_count": null,
      "outputs": []
    },
    {
      "cell_type": "code",
      "source": [
        "df_ratings.head(3)"
      ],
      "metadata": {
        "id": "g5dsrvZeqJt1"
      },
      "execution_count": null,
      "outputs": []
    },
    {
      "cell_type": "code",
      "source": [
        "df_users.head(3)"
      ],
      "metadata": {
        "id": "7zPzSCD6qRr1"
      },
      "execution_count": null,
      "outputs": []
    },
    {
      "cell_type": "markdown",
      "source": [
        "### Dataset Rows & Columns count"
      ],
      "metadata": {
        "id": "7hBIi_osiCS2"
      }
    },
    {
      "cell_type": "code",
      "source": [
        "# Dataset Rows & Columns count\n",
        "\n",
        "print(f\"Books has {df_books.shape[0]} rows and {df_books.shape[1]} columns \" )\n",
        "print(f\"Rating has {df_ratings.shape[0]} rows and {df_ratings.shape[1]} columns \" )\n",
        "print(f\"Users has {df_users.shape[0]} rows and {df_users.shape[1]} columns \" )"
      ],
      "metadata": {
        "id": "Kllu7SJgmLij"
      },
      "execution_count": null,
      "outputs": []
    },
    {
      "cell_type": "markdown",
      "source": [
        "*  books have 271360 rows and 8 columns\n",
        "*  ratings has 1149780 rows and 3 columns\n",
        "*  Users has 278858 rows and 3 columns\n"
      ],
      "metadata": {
        "id": "T0c8qWV6qkve"
      }
    },
    {
      "cell_type": "markdown",
      "source": [
        "### Dataset Information"
      ],
      "metadata": {
        "id": "JlHwYmJAmNHm"
      }
    },
    {
      "cell_type": "code",
      "source": [
        "# Dataset Info\n",
        "df_books.info()\n"
      ],
      "metadata": {
        "id": "e9hRXRi6meOf"
      },
      "execution_count": null,
      "outputs": []
    },
    {
      "cell_type": "code",
      "source": [
        "df_ratings.info()"
      ],
      "metadata": {
        "id": "N8mdOf9u5cMP"
      },
      "execution_count": null,
      "outputs": []
    },
    {
      "cell_type": "code",
      "source": [
        "df_users.info()"
      ],
      "metadata": {
        "id": "zWH-4NbD5wLb"
      },
      "execution_count": null,
      "outputs": []
    },
    {
      "cell_type": "markdown",
      "source": [
        "#### Duplicate Values"
      ],
      "metadata": {
        "id": "35m5QtbWiB9F"
      }
    },
    {
      "cell_type": "code",
      "source": [
        "# Dataset Duplicate Value Count\n",
        "# Missing Values/Null Values Count\n",
        "print(\"Duplicate Values in BOOKS\" ,len(df_books[df_books.duplicated()]))\n",
        "print(\"Duplicate Values in RATINGS \",len(df_ratings[df_ratings.duplicated()]))\n",
        "print(\"Duplicate Values in USERS\",len(df_users[df_users.duplicated()]))"
      ],
      "metadata": {
        "id": "1sLdpKYkmox0"
      },
      "execution_count": null,
      "outputs": []
    },
    {
      "cell_type": "markdown",
      "source": [
        "#### Missing Values/Null Values"
      ],
      "metadata": {
        "id": "PoPl-ycgm1ru"
      }
    },
    {
      "cell_type": "code",
      "source": [
        "# Missing Values/Null Values Count\n",
        "print(\"NULL Values in BOOKS\" ,df_books.isnull().sum())\n",
        "print(\"NULL Values in RATINGS \",df_ratings.isnull().sum())\n",
        "print(\"NULL Values in USERS\",df_users.isnull().sum())"
      ],
      "metadata": {
        "id": "GgHWkxvamxVg"
      },
      "execution_count": null,
      "outputs": []
    },
    {
      "cell_type": "code",
      "source": [
        "# Visualizing the missing values\n",
        "plt.figure(figsize=(10,6))\n",
        "sns.displot(\n",
        "    data=df_books.isnull().melt(value_name=\"missing\"),\n",
        "    y=\"variable\",\n",
        "    hue=\"missing\",\n",
        "    multiple=\"fill\",\n",
        "    aspect=1.25\n",
        ")"
      ],
      "metadata": {
        "id": "3q5wnI3om9sJ"
      },
      "execution_count": null,
      "outputs": []
    },
    {
      "cell_type": "markdown",
      "source": [
        "Since the missing values are very less as compared to total number of instances ,therefore we are not able visualie the missing values . The number of missing values are 1,2 and 3 and total insatnces is 271360 so the proportion is 0.000011 hence it is negligible"
      ],
      "metadata": {
        "id": "nqVyadXhrXFf"
      }
    },
    {
      "cell_type": "code",
      "source": [
        "# Visualizing the missing values\n",
        "plt.figure(figsize=(10,6))\n",
        "sns.displot(\n",
        "    data=df_users.isnull().melt(value_name=\"missing\"),\n",
        "    y=\"variable\",\n",
        "    hue=\"missing\",\n",
        "    multiple=\"fill\",\n",
        "    aspect=1.25\n",
        ")"
      ],
      "metadata": {
        "id": "MmegbKgm4y7k"
      },
      "execution_count": null,
      "outputs": []
    },
    {
      "cell_type": "markdown",
      "source": [
        "* For the users data we have about 0.4 proportion values of the Age column which is missing."
      ],
      "metadata": {
        "id": "RZBCT5e25MXA"
      }
    },
    {
      "cell_type": "markdown",
      "source": [
        "### What did you know about your dataset?"
      ],
      "metadata": {
        "id": "H0kj-8xxnORC"
      }
    },
    {
      "cell_type": "markdown",
      "source": [
        "*  There 271360 rows and 8 columns in Books Dataset \n",
        "\n",
        "*  There are  1149780 rows and 3 columns in Rating Dataset\n",
        "\n",
        "*  There are 278858 rows and 3 columns in Users Dataset\n",
        "\n",
        "*  There are no duplicate values in any of the dataset for Books ,Ratings and Users\n",
        "\n",
        "* There are very few (0.0011%) values which are missing for the columns Book_author , Publisher and Image_URL-L"
      ],
      "metadata": {
        "id": "gfoNAAC-nUe_"
      }
    },
    {
      "cell_type": "markdown",
      "source": [
        "## ***2. Understanding Your Variables***"
      ],
      "metadata": {
        "id": "nA9Y7ga8ng1Z"
      }
    },
    {
      "cell_type": "code",
      "source": [
        "# Dataset Columns\n",
        "df_books.columns"
      ],
      "metadata": {
        "id": "j7xfkqrt5Ag5"
      },
      "execution_count": null,
      "outputs": []
    },
    {
      "cell_type": "code",
      "source": [
        "df_ratings.columns"
      ],
      "metadata": {
        "id": "NC0LMF2H0agz"
      },
      "execution_count": null,
      "outputs": []
    },
    {
      "cell_type": "code",
      "source": [
        "df_users.columns"
      ],
      "metadata": {
        "id": "rHZ999T509Wd"
      },
      "execution_count": null,
      "outputs": []
    },
    {
      "cell_type": "code",
      "source": [
        "# Dataset Describe\n",
        "df_books.describe()"
      ],
      "metadata": {
        "id": "DnOaZdaE5Q5t"
      },
      "execution_count": null,
      "outputs": []
    },
    {
      "cell_type": "code",
      "source": [
        "df_ratings.describe()"
      ],
      "metadata": {
        "id": "kNY0ItLZ3G6r"
      },
      "execution_count": null,
      "outputs": []
    },
    {
      "cell_type": "code",
      "source": [
        "df_users.describe()"
      ],
      "metadata": {
        "id": "1ED4vZgr3NEj"
      },
      "execution_count": null,
      "outputs": []
    },
    {
      "cell_type": "markdown",
      "source": [
        "### Variables Description "
      ],
      "metadata": {
        "id": "PBTbrJXOngz2"
      }
    },
    {
      "cell_type": "markdown",
      "source": [
        "*  Books are identified by their respective **ISBN**. Moreover, some content-based information is given (**Book-Title, Book-Author, Year-Of-Publication, Publisher**) are obtained from Amazon Web Services. \n",
        "\n",
        "*  URLs linking to cover images are also given,It has basicaly three flovors of images (**Image-URL-S, Image-URL-M, Image-URL-L**), i.e., small, medium, large. These URLs point to the Amazon web site."
      ],
      "metadata": {
        "id": "nzeXYjvn9H22"
      }
    },
    {
      "cell_type": "markdown",
      "source": [
        "*  Users variables\n",
        "   *  The average age of the users of books reader is 34-35 \n",
        "*  Ratings variables\n",
        "   *  The average rating given by the user is 2.8669 out of 10\n",
        "   *  Range of rating is 0-10\n",
        "\n",
        "*  Books variables\n",
        "   *  There are total 102023 unique Authors listed in this dataset\n",
        "   *  Top publisher which has largest number of books listed in this dataset is Harlequin\n",
        "   *  There are 16807 unique publishers listed in this Dataset"
      ],
      "metadata": {
        "id": "aJV4KIxSnxay"
      }
    },
    {
      "cell_type": "markdown",
      "source": [
        "### Check Unique Values for each variable."
      ],
      "metadata": {
        "id": "u3PMJOP6ngxN"
      }
    },
    {
      "cell_type": "code",
      "source": [
        "# Check Unique Values for each variable.\n",
        "df_books.nunique()"
      ],
      "metadata": {
        "id": "zms12Yq5n-jE"
      },
      "execution_count": null,
      "outputs": []
    },
    {
      "cell_type": "code",
      "source": [
        "df_ratings.nunique()"
      ],
      "metadata": {
        "id": "XHwlw_VO6ROs"
      },
      "execution_count": null,
      "outputs": []
    },
    {
      "cell_type": "code",
      "source": [
        "df_users.nunique()"
      ],
      "metadata": {
        "id": "iQSkNCVt6XGj"
      },
      "execution_count": null,
      "outputs": []
    },
    {
      "cell_type": "markdown",
      "source": [
        "## 3. ***Data Wrangling***"
      ],
      "metadata": {
        "id": "dauF4eBmngu3"
      }
    },
    {
      "cell_type": "markdown",
      "source": [
        "### Data Wrangling Code"
      ],
      "metadata": {
        "id": "bKJF3rekwFvQ"
      }
    },
    {
      "cell_type": "code",
      "source": [
        "# Write your code to make your dataset analysis ready.\n",
        "# first we have to merge the datsets \n",
        "df_books_rating=df_books.merge(df_ratings,on=\"ISBN\")\n",
        "df_books_rating.head(3)"
      ],
      "metadata": {
        "id": "wk-9a2fpoLcV"
      },
      "execution_count": null,
      "outputs": []
    },
    {
      "cell_type": "markdown",
      "source": [
        "*  **Checking the percentage of books which have  0 rating**"
      ],
      "metadata": {
        "id": "AQ9lq9RaIYXZ"
      }
    },
    {
      "cell_type": "code",
      "source": [
        "print(f'there are {(len(df_books_rating[df_books_rating[\"Book-Rating\"]==0])/len(df_books_rating))*100} of the books which have 0 rating' )"
      ],
      "metadata": {
        "id": "bDANyx_8Fy-H"
      },
      "execution_count": null,
      "outputs": []
    },
    {
      "cell_type": "markdown",
      "source": [
        "*  **Droping some unnecessary columns and data**"
      ],
      "metadata": {
        "id": "zJNCi7ZIInGR"
      }
    },
    {
      "cell_type": "code",
      "source": [
        "df_books_rating_copy=df_books_rating.copy()\n",
        "# removing null values\n",
        "df_books_rating_copy.dropna(inplace=True)\n",
        "df_books_rating_copy.reset_index(drop=True,inplace=True)\n",
        "\n",
        "\n",
        "# as the columns ISBN has no use for the analysis also Year-Of-publication\n",
        "# we can also remove the medium and small scale of a image link i.e Image-URL-S and Image-URL-M\n",
        "df_books_rating_copy.drop(columns=[\"ISBN\",\"Year-Of-Publication\",\"Image-URL-S\",\"Image-URL-M\"],axis=1,inplace=True)\n",
        "\n",
        "# we can also drop the book details where the ratings is 0 as it is not a valid rating\n",
        "df_books_rating_copy.drop(index=df_books_rating_copy[df_books_rating_copy[\"Book-Rating\"]==0].index,inplace=True)\n",
        "\n",
        "df_books_rating_copy[\"Book-Title\"]=df_books_rating_copy[\"Book-Title\"].apply(lambda x: re.sub(\"[\\W_]+\",\" \",x).strip())\n",
        "df_books_rating_copy.head()"
      ],
      "metadata": {
        "id": "KDw_roS5991t"
      },
      "execution_count": null,
      "outputs": []
    },
    {
      "cell_type": "markdown",
      "source": [
        "## ***4. Data Vizualization, Storytelling & Experimenting with charts : Understand the relationships between variables***"
      ],
      "metadata": {
        "id": "GF8Ens_Soomf"
      }
    },
    {
      "cell_type": "markdown",
      "source": [
        "#### Chart - 1"
      ],
      "metadata": {
        "id": "0wOQAZs5pc--"
      }
    },
    {
      "cell_type": "markdown",
      "source": [
        "### **Top 20 author with number of books**"
      ],
      "metadata": {
        "id": "oIEKESxjiEhh"
      }
    },
    {
      "cell_type": "code",
      "source": [
        "\n",
        "# Chart - 1 visualization code\n",
        "plt.figure(figsize=(12,6))\n",
        "sns.countplot(y=\"Book-Author\",palette = 'Paired', data=df_books,order=df_books['Book-Author'].value_counts().index[0:20])\n",
        "plt.title(\"Top 20 author with number of books\")"
      ],
      "metadata": {
        "id": "7v_ESjsspbW7"
      },
      "execution_count": null,
      "outputs": []
    },
    {
      "cell_type": "markdown",
      "source": [
        "##### 1. Why did you pick the specific chart?"
      ],
      "metadata": {
        "id": "K5QZ13OEpz2H"
      }
    },
    {
      "cell_type": "markdown",
      "source": [
        "*  To get the top 20 Author with number of Books\n"
      ],
      "metadata": {
        "id": "XESiWehPqBRc"
      }
    },
    {
      "cell_type": "markdown",
      "source": [
        "##### 2. What is/are the insight(s) found from the chart?"
      ],
      "metadata": {
        "id": "lQ7QKXXCp7Bj"
      }
    },
    {
      "cell_type": "markdown",
      "source": [
        "* Based on this dataset Agatha Christie released maximums books .Followed by William Shakespeare and Stephen King are 2nd and 3rd most Authors who have relased maximum books."
      ],
      "metadata": {
        "id": "C_j1G7yiqdRP"
      }
    },
    {
      "cell_type": "markdown",
      "source": [
        "#### Chart - 2"
      ],
      "metadata": {
        "id": "KSlN3yHqYklG"
      }
    },
    {
      "cell_type": "code",
      "source": [
        "# Chart - 2 visualization code\n",
        "# plotting the rating column distribusion\n",
        "plt.figure(figsize=(12,8))\n",
        "sns.countplot(x=\"Book-Rating\", data=df_ratings)\n",
        "plt.title(\"Ratings\")"
      ],
      "metadata": {
        "id": "R4YgtaqtYklH"
      },
      "execution_count": null,
      "outputs": []
    },
    {
      "cell_type": "markdown",
      "source": [
        "##### 1. Why did you pick the specific chart?"
      ],
      "metadata": {
        "id": "t6dVpIINYklI"
      }
    },
    {
      "cell_type": "markdown",
      "source": [
        "* To study the distribustion of Rating"
      ],
      "metadata": {
        "id": "5aaW0BYyYklI"
      }
    },
    {
      "cell_type": "markdown",
      "source": [
        "##### 2. What is/are the insight(s) found from the chart?"
      ],
      "metadata": {
        "id": "ijmpgYnKYklI"
      }
    },
    {
      "cell_type": "markdown",
      "source": [
        "*  Most of the books have 0 rating . As might be most of the books were not read , or not recorded its ratings . So during the time of dataset preparation they might have explicitly filled with zeros\n",
        "\n",
        "\n",
        "* If we ignore this 0 ratings then 8 is the most common rating given by users out of 10"
      ],
      "metadata": {
        "id": "PSx9atu2YklI"
      }
    },
    {
      "cell_type": "markdown",
      "source": [
        "#### Chart - 3"
      ],
      "metadata": {
        "id": "EM7whBJCYoAo"
      }
    },
    {
      "cell_type": "markdown",
      "source": [
        "### **Top 10 Books with highest nuumber of ratings**"
      ],
      "metadata": {
        "id": "wsXpJhr2EHej"
      }
    },
    {
      "cell_type": "code",
      "source": [
        "# Chart - 3 visualization code\n",
        "valid_rating=df_ratings[df_ratings['Book-Rating'] != 0]\n",
        "top10_ratings=valid_rating.groupby('ISBN')['Book-Rating'].count().sort_values(ascending=False).head(10)\n",
        "top10_ratings"
      ],
      "metadata": {
        "id": "t6GMdE67YoAp"
      },
      "execution_count": null,
      "outputs": []
    },
    {
      "cell_type": "markdown",
      "source": [
        "#### Chart - 4"
      ],
      "metadata": {
        "id": "4Of9eVA-YrdM"
      }
    },
    {
      "cell_type": "markdown",
      "source": [
        "### **Users Age distribution**"
      ],
      "metadata": {
        "id": "D6_Wx7Z0IRQd"
      }
    },
    {
      "cell_type": "code",
      "source": [
        "# Chart - 4 visualization code\n",
        "# Checking data distribution from distplot\n",
        "sns.distplot(df_users.Age)\n",
        "plt.title('Age Distribution Plot')"
      ],
      "metadata": {
        "id": "irlUoxc8YrdO"
      },
      "execution_count": null,
      "outputs": []
    },
    {
      "cell_type": "markdown",
      "source": [
        "##### 1. Why did you pick the specific chart?"
      ],
      "metadata": {
        "id": "iky9q4vBYrdO"
      }
    },
    {
      "cell_type": "markdown",
      "source": [
        "* To study the distriution of Age"
      ],
      "metadata": {
        "id": "aJRCwT6DYrdO"
      }
    },
    {
      "cell_type": "markdown",
      "source": [
        "##### 2. What is/are the insight(s) found from the chart?"
      ],
      "metadata": {
        "id": "F6T5p64dYrdO"
      }
    },
    {
      "cell_type": "markdown",
      "source": [
        "* Age is postively skewed it may contain outliers also we have some age as 0 , which might be explicity filled for the users who hadn't reported their age"
      ],
      "metadata": {
        "id": "Xx8WAJvtYrdO"
      }
    },
    {
      "cell_type": "markdown",
      "source": [
        "#### Chart - 5"
      ],
      "metadata": {
        "id": "bamQiAODYuh1"
      }
    },
    {
      "cell_type": "markdown",
      "source": [
        "### **Checking Outliers for the Users Age column**"
      ],
      "metadata": {
        "id": "r2SUthhuJt1k"
      }
    },
    {
      "cell_type": "code",
      "source": [
        "# Chart - 5 visualization code\n",
        "fig = plt.figure(figsize=(6,4))\n",
        "sns.boxplot(x='Age',data=df_users)"
      ],
      "metadata": {
        "id": "TIJwrbroYuh3"
      },
      "execution_count": null,
      "outputs": []
    },
    {
      "cell_type": "markdown",
      "source": [
        "##### 1. Why did you pick the specific chart?"
      ],
      "metadata": {
        "id": "QHF8YVU7Yuh3"
      }
    },
    {
      "cell_type": "markdown",
      "source": [
        "* To check the outliers in the age column"
      ],
      "metadata": {
        "id": "dcxuIMRPYuh3"
      }
    },
    {
      "cell_type": "markdown",
      "source": [
        "##### 2. What is/are the insight(s) found from the chart?"
      ],
      "metadata": {
        "id": "GwzvFGzlYuh3"
      }
    },
    {
      "cell_type": "markdown",
      "source": [
        "* We can notice that there are some outliers for age column"
      ],
      "metadata": {
        "id": "uyqkiB8YYuh3"
      }
    },
    {
      "cell_type": "markdown",
      "source": [
        "#### Chart - 6"
      ],
      "metadata": {
        "id": "OH-pJp9IphqM"
      }
    },
    {
      "cell_type": "code",
      "source": [
        "# Chart - 6 visualization code\n",
        "plt.figure(figsize=(12,6))\n",
        "sns.countplot(y=\"Book-Author\",palette = 'Paired', data=df_books_rating_copy,order=df_books_rating_copy['Book-Author'].value_counts().index[0:20])\n",
        "plt.title(\"Top 20 author with maximum number of rating\")"
      ],
      "metadata": {
        "id": "kuRf4wtuphqN"
      },
      "execution_count": null,
      "outputs": []
    },
    {
      "cell_type": "markdown",
      "source": [
        "##### 1. Why did you pick the specific chart?"
      ],
      "metadata": {
        "id": "bbFf2-_FphqN"
      }
    },
    {
      "cell_type": "markdown",
      "source": [
        "* To study the Authors who got highest number of votes or ratings"
      ],
      "metadata": {
        "id": "loh7H2nzphqN"
      }
    },
    {
      "cell_type": "markdown",
      "source": [
        "##### 2. What is/are the insight(s) found from the chart?"
      ],
      "metadata": {
        "id": "_ouA3fa0phqN"
      }
    },
    {
      "cell_type": "markdown",
      "source": [
        "* As per this dataset Stephen King is the Author who got maximum number of ratings by the users"
      ],
      "metadata": {
        "id": "VECbqPI7phqN"
      }
    },
    {
      "cell_type": "markdown",
      "source": [
        "#### Chart - 7"
      ],
      "metadata": {
        "id": "PIIx-8_IphqN"
      }
    },
    {
      "cell_type": "markdown",
      "source": [
        "### **Top 10 books which got highest numbers of rating**"
      ],
      "metadata": {
        "id": "_kH_Roe7DdvR"
      }
    },
    {
      "cell_type": "code",
      "source": [
        "# Chart - 7 visualization code\n",
        "df_books_rating_copy.groupby(['Book-Title'])['Book-Rating'].count().sort_values(ascending=False).head(10).plot(kind='bar')"
      ],
      "metadata": {
        "id": "lqAIGUfyphqO"
      },
      "execution_count": null,
      "outputs": []
    },
    {
      "cell_type": "markdown",
      "source": [
        "##### 1. Why did you pick the specific chart?"
      ],
      "metadata": {
        "id": "t27r6nlMphqO"
      }
    },
    {
      "cell_type": "markdown",
      "source": [
        "* To study the highest rated Books"
      ],
      "metadata": {
        "id": "iv6ro40sphqO"
      }
    },
    {
      "cell_type": "markdown",
      "source": [
        "##### 2. What is/are the insight(s) found from the chart?"
      ],
      "metadata": {
        "id": "r2jJGEOYphqO"
      }
    },
    {
      "cell_type": "markdown",
      "source": [
        "* Top-10 most rated books were essentially novels. Books like The Lovely Bone and Wild Animus were very famous"
      ],
      "metadata": {
        "id": "Po6ZPi4hphqO"
      }
    },
    {
      "cell_type": "markdown",
      "source": [
        "#### Chart - 8"
      ],
      "metadata": {
        "id": "BZR9WyysphqO"
      }
    },
    {
      "cell_type": "markdown",
      "source": [
        "### **Top 10 publishers with maximum number of ratings**"
      ],
      "metadata": {
        "id": "mLdkTkbIDwiw"
      }
    },
    {
      "cell_type": "code",
      "source": [
        "df_books.columns"
      ],
      "metadata": {
        "id": "WPc9OeFrOibd"
      },
      "execution_count": null,
      "outputs": []
    },
    {
      "cell_type": "code",
      "source": [
        "# Chart - 8 visualization code\n",
        "plt.figure(figsize=(12,6))\n",
        "sns.countplot(y='Publisher',palette = 'Paired', data=df_books,order=df_books['Publisher'].value_counts().index[0:10])\n",
        "plt.title(\"Top 10 'Publisher' with maximum number of rating\")"
      ],
      "metadata": {
        "id": "TdPTWpAVphqO"
      },
      "execution_count": null,
      "outputs": []
    },
    {
      "cell_type": "markdown",
      "source": [
        "##### 1. Why did you pick the specific chart?"
      ],
      "metadata": {
        "id": "jj7wYXLtphqO"
      }
    },
    {
      "cell_type": "markdown",
      "source": [
        "* To study the Publishers who have got most ratings"
      ],
      "metadata": {
        "id": "Ob8u6rCTphqO"
      }
    },
    {
      "cell_type": "markdown",
      "source": [
        "##### 2. What is/are the insight(s) found from the chart?"
      ],
      "metadata": {
        "id": "eZrbJ2SmphqO"
      }
    },
    {
      "cell_type": "markdown",
      "source": [
        "* Most of the books were  pulblised by Hariequin, Silhouette and Pocket"
      ],
      "metadata": {
        "id": "mZtgC_hjphqO"
      }
    },
    {
      "cell_type": "markdown",
      "source": [
        "### 1. Handling Missing Values"
      ],
      "metadata": {
        "id": "xiyOF9F70UgQ"
      }
    },
    {
      "cell_type": "code",
      "source": [
        "# Handling Missing Values & Missing Value Imputation\n",
        "# filling null values of the age column of users data\n",
        "# as age contains outliers so we can use median\n",
        "df_users[\"Age\"].fillna(df_users.Age.median(),inplace=True)"
      ],
      "metadata": {
        "id": "iRsAHk1K0fpS"
      },
      "execution_count": null,
      "outputs": []
    },
    {
      "cell_type": "code",
      "source": [
        "# checking the unique values of year of publication\n",
        "df_books['Year-Of-Publication'].unique()"
      ],
      "metadata": {
        "id": "p-uwvNFuWXj7"
      },
      "execution_count": null,
      "outputs": []
    },
    {
      "cell_type": "markdown",
      "source": [
        "* There are values such as 'DK Publishing Inc' and 'Gallimard' which are in text form \n",
        "\n",
        "* There are values such as 0 for the year-of-publication column\n",
        "\n",
        "\n",
        "\n",
        "\n",
        "\n"
      ],
      "metadata": {
        "id": "RRjkAiOMYPkh"
      }
    },
    {
      "cell_type": "code",
      "source": [
        "# checking the data where the 'Year-Of-Publication' is 'DK Publishing Inc'\n",
        "df_books.loc[df_books['Year-Of-Publication'] == 'DK Publishing Inc',:]"
      ],
      "metadata": {
        "id": "99tOKKeIYzUK"
      },
      "execution_count": null,
      "outputs": []
    },
    {
      "cell_type": "markdown",
      "source": [
        "* We can notice that the Book-Author ,Year-of-Publication , Book-Author and Publisher columns are exchanged with each others and publication column contain image links\n",
        "\n",
        "* we need to find the Book-Author on our own for the book DK Readers: Creating the X-Men, How It All Beg.. and DK Readers: Creating the X-Men, How Comic Book.."
      ],
      "metadata": {
        "id": "4gcJ5Cc1ZQbP"
      }
    },
    {
      "cell_type": "code",
      "source": [
        "#Fixing the wrongly inputed values \n",
        "#ISBN '0789466953'\n",
        "df_books.loc[df_books.ISBN == '0789466953','Year-Of-Publication'] = 2000\n",
        "df_books.loc[df_books.ISBN == '0789466953','Book-Author'] = \"James Buckley\" # this we gathered from the google \n",
        "df_books.loc[df_books.ISBN == '0789466953','Publisher'] = \"DK Publishing Inc\"\n",
        "df_books.loc[df_books.ISBN == '0789466953','Book-Title'] = \"DK Readers: Creating the X-Men, How Comic Books Come to Life (Level 4: Proficient Readers)\"\n",
        "\n",
        "#ISBN '078946697X'\n",
        "df_books.loc[df_books.ISBN == '078946697X','Year-Of-Publication'] = 2000\n",
        "df_books.loc[df_books.ISBN == '078946697X','Book-Author'] = \"Michael Teitelbaum\" # this we gathered from the google\n",
        "df_books.loc[df_books.ISBN == '078946697X','Publisher'] = \"DK Publishing Inc\"\n",
        "df_books.loc[df_books.ISBN == '078946697X','Book-Title'] = \"DK Readers: Creating the X-Men, How It All Began (Level 4: Proficient Readers)\"\n"
      ],
      "metadata": {
        "id": "q9eXWRNpZeuj"
      },
      "execution_count": null,
      "outputs": []
    },
    {
      "cell_type": "code",
      "source": [
        "# checking for the Gallimard\n",
        "df_books.loc[df_books['Year-Of-Publication'] == 'Gallimard',:]"
      ],
      "metadata": {
        "id": "GH32OAsjbBLz"
      },
      "execution_count": null,
      "outputs": []
    },
    {
      "cell_type": "markdown",
      "source": [
        "* Here also we can see that Book-Author, year-of-publication and publishers values are interchnaged and publishers actual name is missing"
      ],
      "metadata": {
        "id": "QEpyxZysbVWX"
      }
    },
    {
      "cell_type": "code",
      "source": [
        "df_books.loc[df_books.ISBN == '2070426769','Year-Of-Publication'] = 2003\n",
        "df_books.loc[df_books.ISBN == '2070426769','Book-Author'] = \"Jean-Marie Gustave Le ClÃ?Â©zio\"\n",
        "df_books.loc[df_books.ISBN == '2070426769','Publisher'] = \"Gallimard\"\n",
        "df_books.loc[df_books.ISBN == '2070426769','Book-Title'] = \"Peuple du ciel, suivi de 'Les Bergers\""
      ],
      "metadata": {
        "id": "XQmxXEkmbj5A"
      },
      "execution_count": null,
      "outputs": []
    },
    {
      "cell_type": "code",
      "source": [
        "# Rechecking the correction made\n",
        "df_books['Year-Of-Publication'].unique()"
      ],
      "metadata": {
        "id": "4WNpS9azb3kr"
      },
      "execution_count": null,
      "outputs": []
    },
    {
      "cell_type": "code",
      "source": [
        "df_books['Year-Of-Publication'] = df_books['Year-Of-Publication'].astype(int)\n",
        "# Replacing invalid values such as year greateer than 2022 and year having 0 with the NaN\n",
        "# so that we can fill those null values with proper measure of centreal tendency\n",
        "\n",
        "df_books.loc[(df_books['Year-Of-Publication'] > 2022) | (df_books['Year-Of-Publication'] == 0),'Year-Of-Publication'] = np.NAN\n",
        "\n",
        "# filling the null values with median values as there are outliers in year-of-publication column\n",
        "df_books['Year-Of-Publication'].fillna(round(df_books['Year-Of-Publication'].median()),inplace=True)"
      ],
      "metadata": {
        "id": "28Hb_pI0cCfs"
      },
      "execution_count": null,
      "outputs": []
    },
    {
      "cell_type": "code",
      "source": [
        "# filling null values for the column Book-Author and Publisher\n",
        "# as we have only very few null values  1 and 2 only so we acn fill those values with other \n",
        "df_books[\"Book-Author\"].fillna(\"other\", inplace = True)  \n",
        "df_books[\"Publisher\"].fillna(\"other\", inplace = True)  "
      ],
      "metadata": {
        "id": "P68iar-kc_lr"
      },
      "execution_count": null,
      "outputs": []
    },
    {
      "cell_type": "markdown",
      "source": [
        "#### What all missing value imputation techniques have you used and why did you use those techniques?"
      ],
      "metadata": {
        "id": "7wuGOrhz0itI"
      }
    },
    {
      "cell_type": "markdown",
      "source": [
        "* Filling the values with median when the column contain outilers "
      ],
      "metadata": {
        "id": "1ixusLtI0pqI"
      }
    },
    {
      "cell_type": "markdown",
      "source": [
        "### 2. Handling Outliers"
      ],
      "metadata": {
        "id": "id1riN9m0vUs"
      }
    },
    {
      "cell_type": "code",
      "source": [
        "# Handling Outliers & Outlier treatments\n",
        "Q3,Q1 = np.percentile(df_users['Age'],[75,25])\n",
        "#Calculating Inter Quartile Range\n",
        "IQR = Q3-Q1\n",
        "#Fixing Boundaries for outliers\n",
        "max = Q3+(1.5*IQR)\n",
        "min = Q1-(1.5*IQR)\n",
        "df_users[\"Age\"] = np.where(df_users[\"Age\"] > max, max, df_users['Age'])\n",
        "df_users[\"Age\"] = np.where(df_users[\"Age\"] < min, min, df_users['Age'])"
      ],
      "metadata": {
        "id": "M6w2CzZf04JK"
      },
      "execution_count": null,
      "outputs": []
    },
    {
      "cell_type": "code",
      "source": [
        "# chceking the outliers again\n",
        "fig = plt.figure(figsize=(6,4))\n",
        "sns.boxplot(x='Age',data=df_users)"
      ],
      "metadata": {
        "id": "RKpU11S3faec"
      },
      "execution_count": null,
      "outputs": []
    },
    {
      "cell_type": "markdown",
      "source": [
        "* We can notice that the Outliers has been handeled smoothly and now we dont have any outliers"
      ],
      "metadata": {
        "id": "Yt2kDmyQfgT5"
      }
    },
    {
      "cell_type": "markdown",
      "source": [
        "##### What all outlier treatment techniques have you used and why did you use those techniques?"
      ],
      "metadata": {
        "id": "578E2V7j08f6"
      }
    },
    {
      "cell_type": "markdown",
      "source": [
        "* We used IQR method to fill the right side otliers with maximum value calculated from IQR and Left side outliers with the minimum value calculated from IQR"
      ],
      "metadata": {
        "id": "uGZz5OrT1HH-"
      }
    },
    {
      "cell_type": "markdown",
      "source": [
        "## **Popularity Based Approach**\n",
        "\n",
        "* The main idea behind Popularity Based Approach is to recomend the books which are popular , the popularity can be calculated on the basis of ratings "
      ],
      "metadata": {
        "id": "_Dvi62FHLnOH"
      }
    },
    {
      "cell_type": "code",
      "source": [
        "def popularity_approach(df,number_of_top_book=50):\n",
        "    # first we have groupy with Book-Ttle and Book-rating as we wou recomend popularity on the these columns  \n",
        "    rating_counts=df.groupby(\"Book-Title\").count()[\"Book-Rating\"].reset_index()\n",
        "    # counting the number of ratings that particular book-title has got\n",
        "    rating_counts.rename(columns={\"Book-Rating\":\"num_of_ratings\"},inplace=True)\n",
        "    \n",
        "    # calculating average rating\n",
        "    rating_avg=df.groupby(\"Book-Title\")[\"Book-Rating\"].mean().reset_index()\n",
        "    rating_avg.rename(columns={\"Book-Rating\":\"average_rating\"},inplace=True)\n",
        "    \n",
        "    df_popular_books=rating_counts.merge(rating_avg,on=\"Book-Title\")\n",
        "\n",
        "    # average rating can be misguiding as they may be baised to number of ratings\n",
        "    # so taking account of number of ratings for particular book-title\n",
        "    # therefore  creating a function for calculating meaningfull average rating\n",
        "    mean_avg_rating=df_popular_books[\"average_rating\"].mean()\n",
        "    total_ratings=df_popular_books[\"num_of_ratings\"].quantile(0.90)\n",
        "    def weighted_rate(df):\n",
        "        number_of_rating_vector=df[\"num_of_ratings\"]\n",
        "        average_rating_vector=df[\"average_rating\"]\n",
        "        \n",
        "        return ((number_of_rating_vector*average_rating_vector) + (total_ratings*mean_avg_rating)) / (number_of_rating_vector+total_ratings)\n",
        "    \n",
        "    \n",
        "    # checking only for books which got more than \n",
        "    df_popular_books=df_popular_books[df_popular_books[\"num_of_ratings\"] >=100]\n",
        "    # calculating popularity of books using weighted_rate\n",
        "    df_popular_books[\"popularity\"]=df_popular_books.apply(weighted_rate,axis=1)\n",
        "    # sorting the books by its popularity in decending order\n",
        "    df_popular_books=df_popular_books.sort_values(by=\"popularity\",ascending=False)\n",
        "    # returning the top n books \n",
        "    return df_popular_books[[\"Book-Title\",\"num_of_ratings\",\"average_rating\",\"popularity\"]].reset_index(drop=True).head(number_of_top_book)"
      ],
      "metadata": {
        "id": "IG6oxvBiLltx"
      },
      "execution_count": null,
      "outputs": []
    },
    {
      "cell_type": "code",
      "source": [
        "# top 20 popular books\n",
        "top_20=pd.DataFrame(popularity_approach(df_books_rating_copy,20))\n",
        "top_20"
      ],
      "metadata": {
        "id": "MxCt33qfW8b5"
      },
      "execution_count": null,
      "outputs": []
    },
    {
      "cell_type": "markdown",
      "source": [
        "## **Collaborative Filtering Approaches**\n",
        "\n",
        "In Collaborative Filtering we make predictions of the taste or the intrests of the user based based on the other similar users behaviour (which is called collaborative) .The simple understanding is that if a person P1 have similar opinion with person P2 , then if person P1 is reading Harry Potter books then person P2 may also read Harry Potter books\n",
        "\n",
        "Collaborative Filtering has mainly two implimentaion strategies\n",
        "*   Model Based\n",
        "*   Memory Based\n",
        "\n",
        "we will use following approaches\n",
        "*  User_based Collaborative Filtering and \n",
        "*  Item_based Collaborative Filtering\n",
        "\n",
        "* Content Based Filtering\n",
        "\n",
        "\n",
        "*  Model based Collaborative Filtering Approach\n",
        "  * Singular value decomposition(SVD)\n",
        "  * Non-Negetive Matrix Factorisation(NMF)"
      ],
      "metadata": {
        "id": "V9tX8VhwZmfh"
      }
    },
    {
      "cell_type": "markdown",
      "source": [
        "### **User Based Collaborative Filtering**\n",
        "\n",
        "*  In this technique we try to predict on basis of what user may like based on the ratings that they had given to the items. In simpe words here we try to indentify the neghbouring users on the basis of similarity of active users and then scoring of the items  is calculated on the basis of those neighbour users"
      ],
      "metadata": {
        "id": "pR3HE03Xgv0C"
      }
    },
    {
      "cell_type": "code",
      "source": [
        "# Drop users who have given less number of votings \n",
        "# we will drop the users where the number of votes are less than 100\n",
        "new_df=df_books_rating_copy[df_books_rating_copy['User-ID'].map(df_books_rating_copy['User-ID'].value_counts()) > 100] \n",
        "\n",
        "# creating a pivot tables consisting user realted information\n",
        "users_info=new_df.pivot_table(index=[\"User-ID\"],columns=[\"Book-Title\"],values=\"Book-Rating\")\n",
        "users_info.fillna(0,inplace=True)\n"
      ],
      "metadata": {
        "id": "_DSi-vj_bbx5"
      },
      "execution_count": null,
      "outputs": []
    },
    {
      "cell_type": "code",
      "source": [
        "users_info.head(3)"
      ],
      "metadata": {
        "id": "HmJT7y0Iimvy"
      },
      "execution_count": null,
      "outputs": []
    },
    {
      "cell_type": "code",
      "source": [
        "def choice_of_users(id):\n",
        "    \n",
        "    user_favourite=new_df[new_df[\"User-ID\"]==id].sort_values([\"Book-Rating\"],ascending=False)[0:10]\n",
        "    return user_favourite\n",
        "\n",
        "def user_based_collaborative(new_df,user_id):\n",
        "    if user_id not in new_df[\"User-ID\"].values:\n",
        "        print(\"USER NOT FOUND\")\n",
        "        \n",
        "        \n",
        "    else:\n",
        "        user_index=np.where(users_info.index==user_id)[0][0]\n",
        "        similar=cosine_similarity(users_info)\n",
        "        similar_users_list=list(enumerate(similar[user_index]))\n",
        "        similar_users_list = sorted(similar_users_list,key = lambda x:x[1],reverse=True)[0:10]\n",
        "    \n",
        "        record_of_users=[]\n",
        "    \n",
        "        for ind in similar_users_list:\n",
        "                data=df_books_rating_copy[df_books_rating_copy[\"User-ID\"]==users_info.index[ind[0]]]\n",
        "                record_of_users.extend(list(data.drop_duplicates(\"User-ID\")[\"User-ID\"].values))\n",
        "        \n",
        "    return record_of_users\n",
        "\n",
        "def common(df,users_list,user_id):\n",
        "    temp1=new_df[df[\"User-ID\"]==user_id]\n",
        "    suggested_books=[]\n",
        "    users_list=list(users_list)\n",
        "    for id in users_list:\n",
        "        temp2=df[(df[\"User-ID\"]==id)]\n",
        "        all_books=temp2.loc[~temp2[\"Book-Title\"].isin(temp1[\"Book-Title\"]),:]\n",
        "        all_books=all_books.sort_values([\"Book-Rating\"],ascending=False)[0:10]\n",
        "        suggested_books.extend(all_books[\"Book-Title\"].values)\n",
        "        \n",
        "    return suggested_books[0:10]\n",
        "\n",
        "\n",
        "\n"
      ],
      "metadata": {
        "id": "m_aAVve9iwCe"
      },
      "execution_count": null,
      "outputs": []
    },
    {
      "cell_type": "code",
      "source": [
        "# taking any random user_id\n",
        "random_user_id=random.choice(new_df[\"User-ID\"].values)\n",
        "# showing users choice based on history\n",
        "user_choice=pd.DataFrame(choice_of_users(random_user_id))\n",
        "# subseting users favourite from users choice\n",
        "user_favorite=choice_of_users(random_user_id)\n",
        "n=len(user_choice[\"Book-Title\"].values)\n",
        "print(f\"USER: {random_user_id} \")"
      ],
      "metadata": {
        "id": "pBuNdD7Kz6Uy"
      },
      "execution_count": null,
      "outputs": []
    },
    {
      "cell_type": "code",
      "source": [
        "user_favorite"
      ],
      "metadata": {
        "id": "YKT8FTXL7MFj"
      },
      "execution_count": null,
      "outputs": []
    },
    {
      "cell_type": "code",
      "source": [
        "# getting user based data for particular random user id\n",
        "user_based=user_based_collaborative(new_df,random_user_id)\n",
        "# getting recomended books for that particular random user id\n",
        "book_suggesions_user=common(new_df,user_based,random_user_id)\n",
        "# ceating a dataframe to store the results\n",
        "book_suggesions_user=pd.DataFrame(book_suggesions_user,columns=[\"Book-Title\"])\n",
        "book_suggesions_user"
      ],
      "metadata": {
        "id": "t-Ad5Iwj8omW"
      },
      "execution_count": null,
      "outputs": []
    },
    {
      "cell_type": "markdown",
      "source": [
        "### **Item Based Collaborative Filtering**\n",
        "\n",
        "*  In Item based collaborative filtering we try to find similar items based on the items whichs user has liked or interacted with .It suggests an item based on items the user has previously consumed. It looks for the items the user has consumed then it finds other items similar to consumed items and recommends accordingly"
      ],
      "metadata": {
        "id": "Y5JVf8V6-EY3"
      }
    },
    {
      "cell_type": "code",
      "source": [
        "def item_based_approach(data,querry_bookTitle,number_of_suggesions):\n",
        "    querry_bookTitle=str(querry_bookTitle)\n",
        "    \n",
        "    if querry_bookTitle in data[\"Book-Title\"].values:\n",
        "        count_rating=pd.DataFrame(data[\"Book-Title\"].value_counts())\n",
        "        # seperating rare books\n",
        "        rare=count_rating[count_rating[\"Book-Title\"]<=100].index\n",
        "        # defining common books \n",
        "        # as those books which are not rare are common books\n",
        "        common_b=data[~data[\"Book-Title\"].isin(rare)]\n",
        "        \n",
        "        # If the qerry book title is very rare then we would suggest the most common books\n",
        "        if querry_bookTitle in rare:\n",
        "            # storing most common books \n",
        "            ran5=pd.Series(common_b[\"Book-Title\"].unique()).sample(5).values\n",
        "            print(\"No hard recomendation for this book can be suggested\")\n",
        "            print(\"but you can try with most common books \")\n",
        "            # suggesting randomly 5 books from set of common books\n",
        "            print(f\"1st {ran5[0]}\")\n",
        "            print(f\"2nd {ran5[1]}\")\n",
        "            print(f\"3rd {ran5[2]}\")\n",
        "            print(f\"4th {ran5[3]}\")\n",
        "            print(f\"5th {ran5[4]}\")\n",
        "        else:\n",
        "            common_b_pivot=common_b.pivot_table(index=[\"User-ID\"],columns=[\"Book-Title\"],values=\"Book-Rating\")\n",
        "            # defining book-title as t\n",
        "            t=common_b_pivot[querry_bookTitle]\n",
        "            # making suggesions based on the correlation\n",
        "            suggesion_df=pd.DataFrame(common_b_pivot.corrwith(t).sort_values(ascending=False)).reset_index(drop=False)\n",
        "            \n",
        "            if querry_bookTitle in [ele for ele in suggesion_df[\"Book-Title\"]]:\n",
        "                suggesion_df=suggesion_df.drop(suggesion_df[suggesion_df[\"Book-Title\"]==querry_bookTitle].index[0])\n",
        "                \n",
        "            less_rating=[]\n",
        "            for ele in suggesion_df[\"Book-Title\"]:\n",
        "                if data[data[\"Book-Title\"]==ele][\"Book-Rating\"].mean() < 5:\n",
        "                    less_rating.append(ele)\n",
        "            if suggesion_df.shape[0] - len(less_rating) > 5:\n",
        "                suggesion_df=suggesion_df[~suggesion_df[\"Book-Title\"].isin(less_rating)]\n",
        "                \n",
        "            suggesion_df=suggesion_df[0:number_of_suggesions]\n",
        "            suggesion_df.columns=[\"Book-Title\",\"Correlation\"]\n",
        "\n",
        "            return suggesion_df\n",
        "            \n",
        "    else:\n",
        "        print(\"No Results Found  !!!\")"
      ],
      "metadata": {
        "id": "f1-nc-Sx-M4W"
      },
      "execution_count": null,
      "outputs": []
    },
    {
      "cell_type": "code",
      "source": [
        "# getting top 10 suggesions from item-based approach\n",
        "item_based_approach(df_books_rating_copy,\"The Da Vinci Code\",10)"
      ],
      "metadata": {
        "id": "PajxtNes_nPf"
      },
      "execution_count": null,
      "outputs": []
    },
    {
      "cell_type": "code",
      "source": [
        "# when the book title is not present\n",
        "item_based_approach(df_books_rating_copy,\"machine learning\",10)"
      ],
      "metadata": {
        "id": "s1rafgfPFUmJ"
      },
      "execution_count": null,
      "outputs": []
    },
    {
      "cell_type": "markdown",
      "source": [
        "## **Content based**"
      ],
      "metadata": {
        "id": "F9SghLjTQIZq"
      }
    },
    {
      "cell_type": "markdown",
      "source": [
        "In Content based Filtering approach we recomend item to the users based on the content we have about the history of users. We recomend similar books  based what other books that particular user has read.In simple words based on what we like ,the algorithm will simply pick the items with similar content to recomend us.\n",
        "\n",
        "\n",
        "![content.png](data:image/png;base64,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)\n",
        "\n",
        "source:[click here](https://miro.medium.com/max/720/1*BME1JjIlBEAI9BV5pOO5Mg.webp)"
      ],
      "metadata": {
        "id": "IWuUzbER8D3-"
      }
    },
    {
      "cell_type": "code",
      "source": [
        "def content_based_approach(data,querry_bookTitle,number_of_books):\n",
        "    querry_bookTitle=str(querry_bookTitle)\n",
        "    \n",
        "    if querry_bookTitle in data[\"Book-Title\"].values:\n",
        "        count_rating=pd.DataFrame(data[\"Book-Title\"].value_counts())\n",
        "        # seperating rare books\n",
        "        rare=count_rating[count_rating[\"Book-Title\"]<=100].index\n",
        "        # defining common books \n",
        "        # as those books which are not rare are common books\n",
        "        common_b=data[~data[\"Book-Title\"].isin(rare)]\n",
        "        \n",
        "        # If the qerry book title is very rare then we would suggest the most common books\n",
        "        if querry_bookTitle in rare:\n",
        "            # storing most common books \n",
        "            ran5=pd.Series(common_b[\"Book-Title\"].unique()).sample(5).values\n",
        "            print(\"No hard recomendation for this book can be suggested\")\n",
        "            print(\"but you can try with most common books \")\n",
        "            # suggesting randomly 5 books from set of common books\n",
        "            print(f\"1st {ran5[0]}\")\n",
        "            print(f\"2nd {ran5[1]}\")\n",
        "            print(f\"3rd {ran5[2]}\")\n",
        "            print(f\"4th {ran5[3]}\")\n",
        "            print(f\"5th {ran5[4]}\")\n",
        "        else:\n",
        "            #first we drop the dulplicates Book Title\n",
        "            common_b=common_b.drop_duplicates(subset=[\"Book-Title\"])\n",
        "            common_b.reset_index(inplace=True)\n",
        "            # setting the index to length of unique common books\n",
        "            common_b[\"index\"]=[ele for ele in range(common_b.shape[0])]\n",
        "            # taking content based book-title , book-Author and publisher\n",
        "            list_of_targets=[\"Book-Title\",\"Book-Author\",\"Publisher\"]\n",
        "            common_b[\"all_features\"] = [\" \".join(common_b[list_of_targets].iloc[ele,].values) for ele in range(common_b[list_of_targets].shape[0])]\n",
        "            # transfforming into vectorized form\n",
        "            vectorizer=CountVectorizer()\n",
        "            common_booksVector=vectorizer.fit_transform(common_b[\"all_features\"])\n",
        "            # finding similarity based on book-title , book-Author and publisher\n",
        "            similar=cosine_similarity(common_booksVector)\n",
        "            index=common_b[common_b[\"Book-Title\"]==querry_bookTitle][\"index\"].values[0]\n",
        "            similar_books_list=list(enumerate(similar[index]))\n",
        "            similar_books_sorted=sorted(similar_books_list,key=lambda ele:ele[1],reverse=True)[1:number_of_books+1]\n",
        "            suggested_books=[]\n",
        "            for ele in range(len(similar_books_sorted)):\n",
        "                \n",
        "                suggested_books.append(common_b[common_b[\"index\"]==similar_books_sorted[ele][0]][\"Book-Title\"].item())\n",
        "            return suggested_books\n",
        "    else:\n",
        "        print(\" COULD NOT FIND THE CONTENT\") "
      ],
      "metadata": {
        "id": "jdf1KV6QQH7q"
      },
      "execution_count": null,
      "outputs": []
    },
    {
      "cell_type": "code",
      "source": [
        "content_based_approach(df_books_rating_copy,'The Da Vinci Code',10)"
      ],
      "metadata": {
        "id": "D66kUl4TVazU"
      },
      "execution_count": null,
      "outputs": []
    },
    {
      "cell_type": "markdown",
      "source": [],
      "metadata": {
        "id": "M2biPhTQtGCv"
      }
    }
  ]
}