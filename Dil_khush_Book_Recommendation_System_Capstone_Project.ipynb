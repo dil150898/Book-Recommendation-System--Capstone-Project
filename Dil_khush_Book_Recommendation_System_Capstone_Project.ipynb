{
  "nbformat": 4,
  "nbformat_minor": 0,
  "metadata": {
    "colab": {
      "provenance": [],
      "collapsed_sections": [
        "vncDsAP0Gaoa",
        "FJNUwmbgGyua",
        "w6K7xa23Elo4",
        "yQaldy8SH6Dl",
        "mDgbUHAGgjLW",
        "O_i_v8NEhb9l",
        "HhfV-JJviCcP",
        "Y3lxredqlCYt",
        "3RnN4peoiCZX",
        "x71ZqKXriCWQ",
        "7hBIi_osiCS2",
        "JlHwYmJAmNHm",
        "35m5QtbWiB9F",
        "PoPl-ycgm1ru",
        "H0kj-8xxnORC",
        "nA9Y7ga8ng1Z",
        "PBTbrJXOngz2",
        "u3PMJOP6ngxN",
        "dauF4eBmngu3",
        "bKJF3rekwFvQ",
        "MSa1f5Uengrz",
        "GF8Ens_Soomf",
        "0wOQAZs5pc--",
        "K5QZ13OEpz2H",
        "lQ7QKXXCp7Bj",
        "448CDAPjqfQr",
        "KSlN3yHqYklG",
        "t6dVpIINYklI",
        "ijmpgYnKYklI",
        "-JiQyfWJYklI",
        "EM7whBJCYoAo",
        "fge-S5ZAYoAp",
        "85gYPyotYoAp",
        "RoGjAbkUYoAp",
        "4Of9eVA-YrdM",
        "iky9q4vBYrdO",
        "F6T5p64dYrdO",
        "y-Ehk30pYrdP",
        "bamQiAODYuh1",
        "QHF8YVU7Yuh3",
        "GwzvFGzlYuh3",
        "qYpmQ266Yuh3",
        "OH-pJp9IphqM",
        "bbFf2-_FphqN",
        "_ouA3fa0phqN",
        "Seke61FWphqN",
        "PIIx-8_IphqN",
        "t27r6nlMphqO",
        "r2jJGEOYphqO",
        "b0JNsNcRphqO",
        "BZR9WyysphqO",
        "jj7wYXLtphqO",
        "eZrbJ2SmphqO",
        "rFu4xreNphqO",
        "YJ55k-q6phqO",
        "gCFgpxoyphqP",
        "OVtJsKN_phqQ",
        "lssrdh5qphqQ",
        "U2RJ9gkRphqQ",
        "1M8mcRywphqQ",
        "tgIPom80phqQ",
        "JMzcOPDDphqR",
        "x-EpHcCOp1ci",
        "X_VqEhTip1ck",
        "8zGJKyg5p1ck",
        "PVzmfK_Ep1ck",
        "n3dbpmDWp1ck",
        "ylSl6qgtp1ck",
        "ZWILFDl5p1ck",
        "M7G43BXep1ck",
        "Ag9LCva-p1cl",
        "E6MkPsBcp1cl",
        "2cELzS2fp1cl",
        "3MPXvC8up1cl",
        "NC_X3p0fY2L0",
        "UV0SzAkaZNRQ",
        "YPEH6qLeZNRQ",
        "q29F0dvdveiT",
        "EXh0U9oCveiU",
        "22aHeOlLveiV",
        "g-ATYxFrGrvw",
        "Yfr_Vlr8HBkt",
        "8yEUt7NnHlrM",
        "tEA2Xm5dHt1r",
        "I79__PHVH19G",
        "Ou-I18pAyIpj",
        "fF3858GYyt-u",
        "4_0_7-oCpUZd",
        "hwyV_J3ipUZe",
        "3yB-zSqbpUZe",
        "dEUvejAfpUZe",
        "Fd15vwWVpUZf",
        "bn_IUdTipZyH",
        "49K5P_iCpZyH",
        "Nff-vKELpZyI",
        "kLW572S8pZyI",
        "dWbDXHzopZyI",
        "yLjJCtPM0KBk",
        "xiyOF9F70UgQ",
        "7wuGOrhz0itI",
        "id1riN9m0vUs",
        "578E2V7j08f6",
        "89xtkJwZ18nB",
        "67NQN5KX2AMe",
        "Iwf50b-R2tYG",
        "GMQiZwjn3iu7",
        "WVIkgGqN3qsr",
        "XkPnILGE3zoT",
        "Hlsf0x5436Go",
        "mT9DMSJo4nBL",
        "c49ITxTc407N",
        "OeJFEK0N496M",
        "9ExmJH0g5HBk",
        "cJNqERVU536h",
        "k5UmGsbsOxih",
        "T0VqWOYE6DLQ",
        "qBMux9mC6MCf",
        "-oLEiFgy-5Pf",
        "C74aWNz2AliB",
        "2DejudWSA-a0",
        "pEMng2IbBLp7",
        "rAdphbQ9Bhjc",
        "TNVZ9zx19K6k",
        "nqoHp30x9hH9",
        "rMDnDkt2B6du",
        "yiiVWRdJDDil",
        "1UUpS68QDMuG",
        "kexQrXU-DjzY",
        "T5CmagL3EC8N",
        "BhH2vgX9EjGr",
        "qjKvONjwE8ra",
        "P1XJ9OREExlT",
        "VFOzZv6IFROw",
        "TIqpNgepFxVj",
        "VfCC591jGiD4",
        "OB4l2ZhMeS1U",
        "ArJBuiUVfxKd",
        "4qY1EAkEfxKe",
        "PiV4Ypx8fxKe",
        "TfvqoZmBfxKf",
        "dJ2tPlVmpsJ0",
        "JWYfwnehpsJ1",
        "-jK_YjpMpsJ2",
        "HAih1iBOpsJ2",
        "zVGeBEFhpsJ2",
        "bmKjuQ-FpsJ3",
        "Fze-IPXLpx6K",
        "7AN1z2sKpx6M",
        "9PIHJqyupx6M",
        "_-qAgymDpx6N",
        "Z-hykwinpx6N",
        "h_CCil-SKHpo",
        "cBFFvTBNJzUa",
        "HvGl1hHyA_VK",
        "EyNgTHvd2WFk",
        "KH5McJBi2d8v",
        "iW_Lq9qf2h6X",
        "-Kee-DAl2viO",
        "gCX9965dhzqZ",
        "gIfDvo9L0UH2"
      ],
      "include_colab_link": true
    },
    "kernelspec": {
      "name": "python3",
      "display_name": "Python 3"
    },
    "language_info": {
      "name": "python"
    },
    "gpuClass": "standard"
  },
  "cells": [
    {
      "cell_type": "markdown",
      "metadata": {
        "id": "view-in-github",
        "colab_type": "text"
      },
      "source": [
        "<a href=\"https://colab.research.google.com/github/dil150898/Book-Recommendation-System--Capstone-Project/blob/main/Dil_khush_Book_Recommendation_System_Capstone_Project.ipynb\" target=\"_parent\"><img src=\"https://colab.research.google.com/assets/colab-badge.svg\" alt=\"Open In Colab\"/></a>"
      ]
    },
    {
      "cell_type": "markdown",
      "source": [
        "# **Project Name**    -  **Book  Recommendation  System**\n",
        "\n"
      ],
      "metadata": {
        "id": "vncDsAP0Gaoa"
      }
    },
    {
      "cell_type": "markdown",
      "source": [
        "##### **Project Type**    - Unsupervised\n",
        "##### **Contribution**    - Team\n",
        "##### **Team Member 1 -**Vaibhav Kumar Gupta\n",
        "##### **Team Member 2 -**Bhavik Verma\n",
        "##### **Team Member 3 -**Priyanka Pal\n",
        "##### **Team Member 4 -**Dil Khush Sharma\n",
        "##### **Team Member 5 -**Shayan Somanna"
      ],
      "metadata": {
        "id": "beRrZCGUAJYm"
      }
    },
    {
      "cell_type": "markdown",
      "source": [
        "# **Project Summary -**"
      ],
      "metadata": {
        "id": "FJNUwmbgGyua"
      }
    },
    {
      "cell_type": "markdown",
      "source": [
        "* This project is all about recomendation system.In this project we have tried to use some approches for recomending the books to the readers or users .We have used various ways such as collaborative Filtering and Content based Filtering for recomendation of the books to the users .\n",
        "\n",
        "**ABOUT THE DATASET :** We have three diffrent datsets namely book.csv which contains information about the books such as book-author , publisher , book title , year of publication, image links and unique Book ID i.e ISBN Number .Then we have ratings.csv which contain information about ratings given by the users for the books, it contains user ID ,ISBN number and book rating (scale between 1-10). Then we have users.csv which contain information about users such as their location , age and their user ID \n",
        "\n",
        "**EDA :** For the EDA part we have analysed about the top Books rated by the users , top authors who got most ratings , top authors on the basis of number of books , Top publishers who have published maximum number of books, we have analysed the users age and lastly we have analysed their ratings we got that most of the users have rated 8.\n",
        "\n",
        "**Recomendation Approaches :**\n",
        "\n",
        "*  Collaborative Filtering\n",
        "\n",
        "   In Collaborative Filtering we make predictions of the taste or the intrests of the user based based on the other similar users behaviour (which is called collaborative) .The simple understanding is that if a person P1 have similar opinion with person P2 , then if person P1 is reading Harry Potter books then person P2 may also read Harry Potter books\n",
        "\n",
        "   Collaborative Filtering has mainly two implimentaion strategies\n",
        "   *   Model Based\n",
        "   *   Memory Based\n",
        "\n",
        "We have used the following approaches\n",
        "\n",
        "   Memory based\n",
        "   *  User_based Collaborative Filtering \n",
        "\n",
        "      *In this technique we try to predict on basis of what user may like based on the ratings that they had given to the items. In simpe words here we try to indentify the neghbouring users on the basis of similarity of active users and then scoring of the items  is calculated on the basis of those neighbour users* \n",
        "   *  Item_based Collaborative Filtering\n",
        "\n",
        "      *In Item based collaborative filtering we try to find similar items based on the items whichs user has liked or interacted with .It suggests an item based on items the user has previously consumed. It looks for the items the user has consumed then it finds other items similar to consumed items and recommends accordingly*\n",
        "\n",
        "\n",
        "   Model based Collaborative Filtering Approach\n",
        "   * Singular value decomposition(SVD)\n",
        "\n",
        "     *It is a popular method in field of Data Science and Machine Learning .It is a classical method from the Linear Algebra concept. It is popular beacuse of its properties and its use in Recomendation System. We can use this in recomending Books, movies etc.*\n",
        "\n",
        "     *SVD is a method from linear algebra that has been generally used as a dimensionality reduction technique in ML problems. It is amtrix Factorisation technique which tries to reduce the number of feature or attributes by reducing the sapce dimension from N dimension to I dimension.SVD is used as a collaborative filtering technique in recomendation technique domain. It consist of a matrix structure where the rows define the users and columns defines the item.*\n",
        "\n",
        "\n",
        "  * Non-Negetive Matrix Factorisation(NMF): \n",
        "  \n",
        "    *Our goal in NMF is to approximate the users-item V matrix by the dot product of two arrays W and H. Dimensions of the arrays are defined by dimensions of V and number of components we set to the algorithm. If V has n rows and m columns and we want to decompose it to k components, then W has n rows, and k columns and H has k rows and m columns.This is actually matrix factorization part of the algorithm. The Non-negative part refers to V, W, and H — all the values have to be equal or greater than zero, i.e., non-negative*\n",
        "   \n",
        "\n",
        "\n",
        "**Content based Filtering :**\n",
        "  \n",
        "   It is type of recomendation system which depends upon the data which we get from the customers , based on the data a user profile is generated"
      ],
      "metadata": {
        "id": "F6v_1wHtG2nS"
      }
    },
    {
      "cell_type": "markdown",
      "source": [],
      "metadata": {
        "id": "HIiYB16joaut"
      }
    },
    {
      "cell_type": "markdown",
      "source": [
        "# **GitHub Link -**"
      ],
      "metadata": {
        "id": "w6K7xa23Elo4"
      }
    },
    {
      "cell_type": "markdown",
      "source": [
        "https://github.com/dil150898/Book-Recommendation-System--Capstone-Project"
      ],
      "metadata": {
        "id": "h1o69JH3Eqqn"
      }
    },
    {
      "cell_type": "markdown",
      "source": [
        "# **Problem Statement**\n"
      ],
      "metadata": {
        "id": "yQaldy8SH6Dl"
      }
    },
    {
      "cell_type": "markdown",
      "source": [
        "### During the last few decades, with the rise of Youtube, Amazon, Netflix, and many other such web services, recommender systems have taken more and more place in our lives. From e-commerce (suggest to buyers articles that could interest them) to online advertisement (suggest to users the right contents, matching their preferences), recommender systems are today unavoidable in our daily online journeys.\n",
        "\n",
        "### In a very general way, recommender systems are algorithms aimed at suggesting relevant items to users (items being movies to watch, text to read, products to buy, or anything else depending on industries). Recommender systems are really critical in some industries as they can generate a huge amount of income when they are efficient or also be a way to stand out significantly from competitors. The main objective is to create a book recommendation system for users."
      ],
      "metadata": {
        "id": "DpeJGUA3kjGy"
      }
    },
    {
      "cell_type": "markdown",
      "source": [
        "# **General Guidelines** : -  "
      ],
      "metadata": {
        "id": "mDgbUHAGgjLW"
      }
    },
    {
      "cell_type": "markdown",
      "source": [
        "1.   Well-structured, formatted, and commented code is required. \n",
        "2.   Exception Handling, Production Grade Code & Deployment Ready Code will be a plus. Those students will be awarded some additional credits. \n",
        "     \n",
        "     The additional credits will have advantages over other students during Star Student selection.\n",
        "       \n",
        "             [ Note: - Deployment Ready Code is defined as, the whole .ipynb notebook should be executable in one go\n",
        "                       without a single error logged. ]\n",
        "\n",
        "3.   Each and every logic should have proper comments.\n",
        "4. You may add as many number of charts you want. Make Sure for each and every chart the following format should be answered.\n",
        "        \n",
        "\n",
        "```\n",
        "# Chart visualization code\n",
        "```\n",
        "            \n",
        "\n",
        "*   Why did you pick the specific chart?\n",
        "*   What is/are the insight(s) found from the chart?\n",
        "* Will the gained insights help creating a positive business impact? \n",
        "Are there any insights that lead to negative growth? Justify with specific reason.\n",
        "\n",
        "5. You have to create at least 15 logical & meaningful charts having important insights.\n",
        "\n",
        "\n",
        "[ Hints : - Do the Vizualization in  a structured way while following \"UBM\" Rule. \n",
        "\n",
        "U - Univariate Analysis,\n",
        "\n",
        "B - Bivariate Analysis (Numerical - Categorical, Numerical - Numerical, Categorical - Categorical)\n",
        "\n",
        "M - Multivariate Analysis\n",
        " ]\n",
        "\n",
        "\n",
        "\n",
        "\n",
        "\n",
        "6. You may add more ml algorithms for model creation. Make sure for each and every algorithm, the following format should be answered.\n",
        "\n",
        "\n",
        "*   Explain the ML Model used and it's performance using Evaluation metric Score Chart.\n",
        "\n",
        "\n",
        "*   Cross- Validation & Hyperparameter Tuning\n",
        "\n",
        "*   Have you seen any improvement? Note down the improvement with updates Evaluation metric Score Chart.\n",
        "\n",
        "*   Explain each evaluation metric's indication towards business and the business impact pf the ML model used.\n",
        "\n",
        "\n",
        "\n",
        "\n",
        "\n",
        "\n",
        "\n",
        "\n",
        "\n",
        "\n",
        "\n",
        "\n",
        "\n",
        "\n",
        "\n",
        "\n",
        "\n",
        "\n"
      ],
      "metadata": {
        "id": "ZrxVaUj-hHfC"
      }
    },
    {
      "cell_type": "markdown",
      "source": [
        "For implimentation of SVD and NMF techniques we require Surprise library"
      ],
      "metadata": {
        "id": "keQ6NdOuk7zQ"
      }
    },
    {
      "cell_type": "markdown",
      "source": [
        "# ***Let's Begin !***"
      ],
      "metadata": {
        "id": "OU9S1VwQrXSg"
      }
    },
    {
      "cell_type": "markdown",
      "source": [
        "## ***1. Know Your Data***"
      ],
      "metadata": {
        "id": "HhfV-JJviCcP"
      }
    },
    {
      "cell_type": "markdown",
      "source": [
        "### Import Libraries"
      ],
      "metadata": {
        "id": "Y3lxredqlCYt"
      }
    },
    {
      "cell_type": "markdown",
      "source": [
        "For implimentation of SVD and NMF techniques we require Surprise library"
      ],
      "metadata": {
        "id": "2Vl9ovgfq22e"
      }
    },
    {
      "cell_type": "code",
      "source": [
        "pip install surprise"
      ],
      "metadata": {
        "id": "gnckZYjJk5q_",
        "colab": {
          "base_uri": "https://localhost:8080/"
        },
        "outputId": "8bb41318-159e-4c80-a10b-198095c1ead0"
      },
      "execution_count": 238,
      "outputs": [
        {
          "output_type": "stream",
          "name": "stdout",
          "text": [
            "Looking in indexes: https://pypi.org/simple, https://us-python.pkg.dev/colab-wheels/public/simple/\n",
            "Requirement already satisfied: surprise in /usr/local/lib/python3.8/dist-packages (0.1)\n",
            "Requirement already satisfied: scikit-surprise in /usr/local/lib/python3.8/dist-packages (from surprise) (1.1.3)\n",
            "Requirement already satisfied: joblib>=1.0.0 in /usr/local/lib/python3.8/dist-packages (from scikit-surprise->surprise) (1.2.0)\n",
            "Requirement already satisfied: numpy>=1.17.3 in /usr/local/lib/python3.8/dist-packages (from scikit-surprise->surprise) (1.21.6)\n",
            "Requirement already satisfied: scipy>=1.3.2 in /usr/local/lib/python3.8/dist-packages (from scikit-surprise->surprise) (1.7.3)\n"
          ]
        }
      ]
    },
    {
      "cell_type": "code",
      "source": [
        "# Import Libraries\n",
        "# for dealing with regular expression techniques\n",
        "import re\n",
        "import requests\n",
        "import random\n",
        "#for NLP related tasks\n",
        "from sklearn.feature_extraction.text import CountVectorizer\n",
        "import nltk\n",
        "\n",
        "# basic libraries\n",
        "import pandas as pd\n",
        "import numpy as np\n",
        "\n",
        "\n",
        "import seaborn as sns\n",
        "import warnings\n",
        "warnings.filterwarnings(\"ignore\")\n",
        "#for TF-IDF vectorization\n",
        "from sklearn.feature_extraction.text import TfidfVectorizer\n",
        "# for finding similarity\n",
        "from sklearn.metrics.pairwise import cosine_similarity\n",
        "\n",
        "import scipy\n",
        "import math\n",
        "import sklearn\n",
        "#for removing stopwords\n",
        "from nltk.corpus import stopwords\n",
        "from sklearn.model_selection import train_test_split\n",
        "#for SVD model\n",
        "from scipy.sparse.linalg import svds\n",
        "# for plotting graphs\n",
        "import matplotlib.pyplot as plt\n",
        "\n",
        "from surprise import Dataset, Reader\n",
        "from surprise import SVD, NMF\n",
        "from surprise.model_selection import cross_validate, train_test_split, GridSearchCV"
      ],
      "metadata": {
        "id": "M8Vqi-pPk-HR"
      },
      "execution_count": 239,
      "outputs": []
    },
    {
      "cell_type": "markdown",
      "source": [
        "### Dataset Loading"
      ],
      "metadata": {
        "id": "3RnN4peoiCZX"
      }
    },
    {
      "cell_type": "code",
      "source": [
        "# Load Dataset\n",
        "# Import Google Drive\n",
        "from google.colab import drive\n",
        "drive.mount('/content/drive')"
      ],
      "metadata": {
        "id": "4CkvbW_SlZ_R",
        "colab": {
          "base_uri": "https://localhost:8080/"
        },
        "outputId": "07abb492-5e27-474e-fa55-b3bec00f874a"
      },
      "execution_count": 240,
      "outputs": [
        {
          "output_type": "stream",
          "name": "stdout",
          "text": [
            "Drive already mounted at /content/drive; to attempt to forcibly remount, call drive.mount(\"/content/drive\", force_remount=True).\n"
          ]
        }
      ]
    },
    {
      "cell_type": "code",
      "source": [
        "# Load Dataset Vaibhav\n",
        "path_book='/content/drive/MyDrive/Almabetter/Capstone Project/Unsupervised Machine Learning/B R S/Dilkhush Book Recommendation System-CP/Data/Books.csv'\n",
        "\n",
        "path_rating='/content/drive/MyDrive/Almabetter/Capstone Project/Unsupervised Machine Learning/B R S/Dilkhush Book Recommendation System-CP/Data/Ratings.csv'\n",
        "df_ratings=pd.read_csv(path_rating)\n",
        "\n",
        "path_users='/content/drive/MyDrive/Almabetter/Capstone Project/Unsupervised Machine Learning/B R S/Dilkhush Book Recommendation System-CP/Data/Users.csv'\n",
        "df_users=pd.read_csv(path_users)"
      ],
      "metadata": {
        "id": "ZCfo7a1xpEPE"
      },
      "execution_count": 241,
      "outputs": []
    },
    {
      "cell_type": "markdown",
      "source": [
        "### Dataset First View"
      ],
      "metadata": {
        "id": "x71ZqKXriCWQ"
      }
    },
    {
      "cell_type": "code",
      "source": [
        "# Dataset First Look\n",
        "df_books.head(3)"
      ],
      "metadata": {
        "id": "LWNFOSvLl09H",
        "colab": {
          "base_uri": "https://localhost:8080/",
          "height": 274
        },
        "outputId": "edd6cb2d-9ffd-4a47-dfc8-1f169590ac4e"
      },
      "execution_count": 242,
      "outputs": [
        {
          "output_type": "execute_result",
          "data": {
            "text/plain": [
              "         ISBN            Book-Title           Book-Author  \\\n",
              "0  0195153448   Classical Mythology    Mark P. O. Morford   \n",
              "1  0002005018          Clara Callan  Richard Bruce Wright   \n",
              "2  0060973129  Decision in Normandy          Carlo D'Este   \n",
              "\n",
              "   Year-Of-Publication                Publisher  \\\n",
              "0               2002.0  Oxford University Press   \n",
              "1               2001.0    HarperFlamingo Canada   \n",
              "2               1991.0          HarperPerennial   \n",
              "\n",
              "                                         Image-URL-S  \\\n",
              "0  http://images.amazon.com/images/P/0195153448.0...   \n",
              "1  http://images.amazon.com/images/P/0002005018.0...   \n",
              "2  http://images.amazon.com/images/P/0060973129.0...   \n",
              "\n",
              "                                         Image-URL-M  \\\n",
              "0  http://images.amazon.com/images/P/0195153448.0...   \n",
              "1  http://images.amazon.com/images/P/0002005018.0...   \n",
              "2  http://images.amazon.com/images/P/0060973129.0...   \n",
              "\n",
              "                                         Image-URL-L  \n",
              "0  http://images.amazon.com/images/P/0195153448.0...  \n",
              "1  http://images.amazon.com/images/P/0002005018.0...  \n",
              "2  http://images.amazon.com/images/P/0060973129.0...  "
            ],
            "text/html": [
              "\n",
              "  <div id=\"df-1f6bfd66-6da3-487b-976b-88136f74fd73\">\n",
              "    <div class=\"colab-df-container\">\n",
              "      <div>\n",
              "<style scoped>\n",
              "    .dataframe tbody tr th:only-of-type {\n",
              "        vertical-align: middle;\n",
              "    }\n",
              "\n",
              "    .dataframe tbody tr th {\n",
              "        vertical-align: top;\n",
              "    }\n",
              "\n",
              "    .dataframe thead th {\n",
              "        text-align: right;\n",
              "    }\n",
              "</style>\n",
              "<table border=\"1\" class=\"dataframe\">\n",
              "  <thead>\n",
              "    <tr style=\"text-align: right;\">\n",
              "      <th></th>\n",
              "      <th>ISBN</th>\n",
              "      <th>Book-Title</th>\n",
              "      <th>Book-Author</th>\n",
              "      <th>Year-Of-Publication</th>\n",
              "      <th>Publisher</th>\n",
              "      <th>Image-URL-S</th>\n",
              "      <th>Image-URL-M</th>\n",
              "      <th>Image-URL-L</th>\n",
              "    </tr>\n",
              "  </thead>\n",
              "  <tbody>\n",
              "    <tr>\n",
              "      <th>0</th>\n",
              "      <td>0195153448</td>\n",
              "      <td>Classical Mythology</td>\n",
              "      <td>Mark P. O. Morford</td>\n",
              "      <td>2002.0</td>\n",
              "      <td>Oxford University Press</td>\n",
              "      <td>http://images.amazon.com/images/P/0195153448.0...</td>\n",
              "      <td>http://images.amazon.com/images/P/0195153448.0...</td>\n",
              "      <td>http://images.amazon.com/images/P/0195153448.0...</td>\n",
              "    </tr>\n",
              "    <tr>\n",
              "      <th>1</th>\n",
              "      <td>0002005018</td>\n",
              "      <td>Clara Callan</td>\n",
              "      <td>Richard Bruce Wright</td>\n",
              "      <td>2001.0</td>\n",
              "      <td>HarperFlamingo Canada</td>\n",
              "      <td>http://images.amazon.com/images/P/0002005018.0...</td>\n",
              "      <td>http://images.amazon.com/images/P/0002005018.0...</td>\n",
              "      <td>http://images.amazon.com/images/P/0002005018.0...</td>\n",
              "    </tr>\n",
              "    <tr>\n",
              "      <th>2</th>\n",
              "      <td>0060973129</td>\n",
              "      <td>Decision in Normandy</td>\n",
              "      <td>Carlo D'Este</td>\n",
              "      <td>1991.0</td>\n",
              "      <td>HarperPerennial</td>\n",
              "      <td>http://images.amazon.com/images/P/0060973129.0...</td>\n",
              "      <td>http://images.amazon.com/images/P/0060973129.0...</td>\n",
              "      <td>http://images.amazon.com/images/P/0060973129.0...</td>\n",
              "    </tr>\n",
              "  </tbody>\n",
              "</table>\n",
              "</div>\n",
              "      <button class=\"colab-df-convert\" onclick=\"convertToInteractive('df-1f6bfd66-6da3-487b-976b-88136f74fd73')\"\n",
              "              title=\"Convert this dataframe to an interactive table.\"\n",
              "              style=\"display:none;\">\n",
              "        \n",
              "  <svg xmlns=\"http://www.w3.org/2000/svg\" height=\"24px\"viewBox=\"0 0 24 24\"\n",
              "       width=\"24px\">\n",
              "    <path d=\"M0 0h24v24H0V0z\" fill=\"none\"/>\n",
              "    <path d=\"M18.56 5.44l.94 2.06.94-2.06 2.06-.94-2.06-.94-.94-2.06-.94 2.06-2.06.94zm-11 1L8.5 8.5l.94-2.06 2.06-.94-2.06-.94L8.5 2.5l-.94 2.06-2.06.94zm10 10l.94 2.06.94-2.06 2.06-.94-2.06-.94-.94-2.06-.94 2.06-2.06.94z\"/><path d=\"M17.41 7.96l-1.37-1.37c-.4-.4-.92-.59-1.43-.59-.52 0-1.04.2-1.43.59L10.3 9.45l-7.72 7.72c-.78.78-.78 2.05 0 2.83L4 21.41c.39.39.9.59 1.41.59.51 0 1.02-.2 1.41-.59l7.78-7.78 2.81-2.81c.8-.78.8-2.07 0-2.86zM5.41 20L4 18.59l7.72-7.72 1.47 1.35L5.41 20z\"/>\n",
              "  </svg>\n",
              "      </button>\n",
              "      \n",
              "  <style>\n",
              "    .colab-df-container {\n",
              "      display:flex;\n",
              "      flex-wrap:wrap;\n",
              "      gap: 12px;\n",
              "    }\n",
              "\n",
              "    .colab-df-convert {\n",
              "      background-color: #E8F0FE;\n",
              "      border: none;\n",
              "      border-radius: 50%;\n",
              "      cursor: pointer;\n",
              "      display: none;\n",
              "      fill: #1967D2;\n",
              "      height: 32px;\n",
              "      padding: 0 0 0 0;\n",
              "      width: 32px;\n",
              "    }\n",
              "\n",
              "    .colab-df-convert:hover {\n",
              "      background-color: #E2EBFA;\n",
              "      box-shadow: 0px 1px 2px rgba(60, 64, 67, 0.3), 0px 1px 3px 1px rgba(60, 64, 67, 0.15);\n",
              "      fill: #174EA6;\n",
              "    }\n",
              "\n",
              "    [theme=dark] .colab-df-convert {\n",
              "      background-color: #3B4455;\n",
              "      fill: #D2E3FC;\n",
              "    }\n",
              "\n",
              "    [theme=dark] .colab-df-convert:hover {\n",
              "      background-color: #434B5C;\n",
              "      box-shadow: 0px 1px 3px 1px rgba(0, 0, 0, 0.15);\n",
              "      filter: drop-shadow(0px 1px 2px rgba(0, 0, 0, 0.3));\n",
              "      fill: #FFFFFF;\n",
              "    }\n",
              "  </style>\n",
              "\n",
              "      <script>\n",
              "        const buttonEl =\n",
              "          document.querySelector('#df-1f6bfd66-6da3-487b-976b-88136f74fd73 button.colab-df-convert');\n",
              "        buttonEl.style.display =\n",
              "          google.colab.kernel.accessAllowed ? 'block' : 'none';\n",
              "\n",
              "        async function convertToInteractive(key) {\n",
              "          const element = document.querySelector('#df-1f6bfd66-6da3-487b-976b-88136f74fd73');\n",
              "          const dataTable =\n",
              "            await google.colab.kernel.invokeFunction('convertToInteractive',\n",
              "                                                     [key], {});\n",
              "          if (!dataTable) return;\n",
              "\n",
              "          const docLinkHtml = 'Like what you see? Visit the ' +\n",
              "            '<a target=\"_blank\" href=https://colab.research.google.com/notebooks/data_table.ipynb>data table notebook</a>'\n",
              "            + ' to learn more about interactive tables.';\n",
              "          element.innerHTML = '';\n",
              "          dataTable['output_type'] = 'display_data';\n",
              "          await google.colab.output.renderOutput(dataTable, element);\n",
              "          const docLink = document.createElement('div');\n",
              "          docLink.innerHTML = docLinkHtml;\n",
              "          element.appendChild(docLink);\n",
              "        }\n",
              "      </script>\n",
              "    </div>\n",
              "  </div>\n",
              "  "
            ]
          },
          "metadata": {},
          "execution_count": 242
        }
      ]
    },
    {
      "cell_type": "code",
      "source": [
        "df_ratings.head(3)"
      ],
      "metadata": {
        "id": "g5dsrvZeqJt1",
        "colab": {
          "base_uri": "https://localhost:8080/",
          "height": 143
        },
        "outputId": "6f7d129e-d6cc-4cdb-d27b-d2c769858f77"
      },
      "execution_count": 243,
      "outputs": [
        {
          "output_type": "execute_result",
          "data": {
            "text/plain": [
              "   User-ID        ISBN  Book-Rating\n",
              "0   276725  034545104X            0\n",
              "1   276726  0155061224            5\n",
              "2   276727  0446520802            0"
            ],
            "text/html": [
              "\n",
              "  <div id=\"df-2f601f98-abfa-4a7c-b85f-65351ae81db0\">\n",
              "    <div class=\"colab-df-container\">\n",
              "      <div>\n",
              "<style scoped>\n",
              "    .dataframe tbody tr th:only-of-type {\n",
              "        vertical-align: middle;\n",
              "    }\n",
              "\n",
              "    .dataframe tbody tr th {\n",
              "        vertical-align: top;\n",
              "    }\n",
              "\n",
              "    .dataframe thead th {\n",
              "        text-align: right;\n",
              "    }\n",
              "</style>\n",
              "<table border=\"1\" class=\"dataframe\">\n",
              "  <thead>\n",
              "    <tr style=\"text-align: right;\">\n",
              "      <th></th>\n",
              "      <th>User-ID</th>\n",
              "      <th>ISBN</th>\n",
              "      <th>Book-Rating</th>\n",
              "    </tr>\n",
              "  </thead>\n",
              "  <tbody>\n",
              "    <tr>\n",
              "      <th>0</th>\n",
              "      <td>276725</td>\n",
              "      <td>034545104X</td>\n",
              "      <td>0</td>\n",
              "    </tr>\n",
              "    <tr>\n",
              "      <th>1</th>\n",
              "      <td>276726</td>\n",
              "      <td>0155061224</td>\n",
              "      <td>5</td>\n",
              "    </tr>\n",
              "    <tr>\n",
              "      <th>2</th>\n",
              "      <td>276727</td>\n",
              "      <td>0446520802</td>\n",
              "      <td>0</td>\n",
              "    </tr>\n",
              "  </tbody>\n",
              "</table>\n",
              "</div>\n",
              "      <button class=\"colab-df-convert\" onclick=\"convertToInteractive('df-2f601f98-abfa-4a7c-b85f-65351ae81db0')\"\n",
              "              title=\"Convert this dataframe to an interactive table.\"\n",
              "              style=\"display:none;\">\n",
              "        \n",
              "  <svg xmlns=\"http://www.w3.org/2000/svg\" height=\"24px\"viewBox=\"0 0 24 24\"\n",
              "       width=\"24px\">\n",
              "    <path d=\"M0 0h24v24H0V0z\" fill=\"none\"/>\n",
              "    <path d=\"M18.56 5.44l.94 2.06.94-2.06 2.06-.94-2.06-.94-.94-2.06-.94 2.06-2.06.94zm-11 1L8.5 8.5l.94-2.06 2.06-.94-2.06-.94L8.5 2.5l-.94 2.06-2.06.94zm10 10l.94 2.06.94-2.06 2.06-.94-2.06-.94-.94-2.06-.94 2.06-2.06.94z\"/><path d=\"M17.41 7.96l-1.37-1.37c-.4-.4-.92-.59-1.43-.59-.52 0-1.04.2-1.43.59L10.3 9.45l-7.72 7.72c-.78.78-.78 2.05 0 2.83L4 21.41c.39.39.9.59 1.41.59.51 0 1.02-.2 1.41-.59l7.78-7.78 2.81-2.81c.8-.78.8-2.07 0-2.86zM5.41 20L4 18.59l7.72-7.72 1.47 1.35L5.41 20z\"/>\n",
              "  </svg>\n",
              "      </button>\n",
              "      \n",
              "  <style>\n",
              "    .colab-df-container {\n",
              "      display:flex;\n",
              "      flex-wrap:wrap;\n",
              "      gap: 12px;\n",
              "    }\n",
              "\n",
              "    .colab-df-convert {\n",
              "      background-color: #E8F0FE;\n",
              "      border: none;\n",
              "      border-radius: 50%;\n",
              "      cursor: pointer;\n",
              "      display: none;\n",
              "      fill: #1967D2;\n",
              "      height: 32px;\n",
              "      padding: 0 0 0 0;\n",
              "      width: 32px;\n",
              "    }\n",
              "\n",
              "    .colab-df-convert:hover {\n",
              "      background-color: #E2EBFA;\n",
              "      box-shadow: 0px 1px 2px rgba(60, 64, 67, 0.3), 0px 1px 3px 1px rgba(60, 64, 67, 0.15);\n",
              "      fill: #174EA6;\n",
              "    }\n",
              "\n",
              "    [theme=dark] .colab-df-convert {\n",
              "      background-color: #3B4455;\n",
              "      fill: #D2E3FC;\n",
              "    }\n",
              "\n",
              "    [theme=dark] .colab-df-convert:hover {\n",
              "      background-color: #434B5C;\n",
              "      box-shadow: 0px 1px 3px 1px rgba(0, 0, 0, 0.15);\n",
              "      filter: drop-shadow(0px 1px 2px rgba(0, 0, 0, 0.3));\n",
              "      fill: #FFFFFF;\n",
              "    }\n",
              "  </style>\n",
              "\n",
              "      <script>\n",
              "        const buttonEl =\n",
              "          document.querySelector('#df-2f601f98-abfa-4a7c-b85f-65351ae81db0 button.colab-df-convert');\n",
              "        buttonEl.style.display =\n",
              "          google.colab.kernel.accessAllowed ? 'block' : 'none';\n",
              "\n",
              "        async function convertToInteractive(key) {\n",
              "          const element = document.querySelector('#df-2f601f98-abfa-4a7c-b85f-65351ae81db0');\n",
              "          const dataTable =\n",
              "            await google.colab.kernel.invokeFunction('convertToInteractive',\n",
              "                                                     [key], {});\n",
              "          if (!dataTable) return;\n",
              "\n",
              "          const docLinkHtml = 'Like what you see? Visit the ' +\n",
              "            '<a target=\"_blank\" href=https://colab.research.google.com/notebooks/data_table.ipynb>data table notebook</a>'\n",
              "            + ' to learn more about interactive tables.';\n",
              "          element.innerHTML = '';\n",
              "          dataTable['output_type'] = 'display_data';\n",
              "          await google.colab.output.renderOutput(dataTable, element);\n",
              "          const docLink = document.createElement('div');\n",
              "          docLink.innerHTML = docLinkHtml;\n",
              "          element.appendChild(docLink);\n",
              "        }\n",
              "      </script>\n",
              "    </div>\n",
              "  </div>\n",
              "  "
            ]
          },
          "metadata": {},
          "execution_count": 243
        }
      ]
    },
    {
      "cell_type": "code",
      "source": [
        "df_users.head(3)"
      ],
      "metadata": {
        "id": "7zPzSCD6qRr1",
        "colab": {
          "base_uri": "https://localhost:8080/",
          "height": 143
        },
        "outputId": "875bf77f-60d4-443a-d2d0-74433ee24e8c"
      },
      "execution_count": 244,
      "outputs": [
        {
          "output_type": "execute_result",
          "data": {
            "text/plain": [
              "   User-ID                         Location   Age\n",
              "0        1               nyc, new york, usa   NaN\n",
              "1        2        stockton, california, usa  18.0\n",
              "2        3  moscow, yukon territory, russia   NaN"
            ],
            "text/html": [
              "\n",
              "  <div id=\"df-7c11168b-47ca-4f39-b653-2599af772e34\">\n",
              "    <div class=\"colab-df-container\">\n",
              "      <div>\n",
              "<style scoped>\n",
              "    .dataframe tbody tr th:only-of-type {\n",
              "        vertical-align: middle;\n",
              "    }\n",
              "\n",
              "    .dataframe tbody tr th {\n",
              "        vertical-align: top;\n",
              "    }\n",
              "\n",
              "    .dataframe thead th {\n",
              "        text-align: right;\n",
              "    }\n",
              "</style>\n",
              "<table border=\"1\" class=\"dataframe\">\n",
              "  <thead>\n",
              "    <tr style=\"text-align: right;\">\n",
              "      <th></th>\n",
              "      <th>User-ID</th>\n",
              "      <th>Location</th>\n",
              "      <th>Age</th>\n",
              "    </tr>\n",
              "  </thead>\n",
              "  <tbody>\n",
              "    <tr>\n",
              "      <th>0</th>\n",
              "      <td>1</td>\n",
              "      <td>nyc, new york, usa</td>\n",
              "      <td>NaN</td>\n",
              "    </tr>\n",
              "    <tr>\n",
              "      <th>1</th>\n",
              "      <td>2</td>\n",
              "      <td>stockton, california, usa</td>\n",
              "      <td>18.0</td>\n",
              "    </tr>\n",
              "    <tr>\n",
              "      <th>2</th>\n",
              "      <td>3</td>\n",
              "      <td>moscow, yukon territory, russia</td>\n",
              "      <td>NaN</td>\n",
              "    </tr>\n",
              "  </tbody>\n",
              "</table>\n",
              "</div>\n",
              "      <button class=\"colab-df-convert\" onclick=\"convertToInteractive('df-7c11168b-47ca-4f39-b653-2599af772e34')\"\n",
              "              title=\"Convert this dataframe to an interactive table.\"\n",
              "              style=\"display:none;\">\n",
              "        \n",
              "  <svg xmlns=\"http://www.w3.org/2000/svg\" height=\"24px\"viewBox=\"0 0 24 24\"\n",
              "       width=\"24px\">\n",
              "    <path d=\"M0 0h24v24H0V0z\" fill=\"none\"/>\n",
              "    <path d=\"M18.56 5.44l.94 2.06.94-2.06 2.06-.94-2.06-.94-.94-2.06-.94 2.06-2.06.94zm-11 1L8.5 8.5l.94-2.06 2.06-.94-2.06-.94L8.5 2.5l-.94 2.06-2.06.94zm10 10l.94 2.06.94-2.06 2.06-.94-2.06-.94-.94-2.06-.94 2.06-2.06.94z\"/><path d=\"M17.41 7.96l-1.37-1.37c-.4-.4-.92-.59-1.43-.59-.52 0-1.04.2-1.43.59L10.3 9.45l-7.72 7.72c-.78.78-.78 2.05 0 2.83L4 21.41c.39.39.9.59 1.41.59.51 0 1.02-.2 1.41-.59l7.78-7.78 2.81-2.81c.8-.78.8-2.07 0-2.86zM5.41 20L4 18.59l7.72-7.72 1.47 1.35L5.41 20z\"/>\n",
              "  </svg>\n",
              "      </button>\n",
              "      \n",
              "  <style>\n",
              "    .colab-df-container {\n",
              "      display:flex;\n",
              "      flex-wrap:wrap;\n",
              "      gap: 12px;\n",
              "    }\n",
              "\n",
              "    .colab-df-convert {\n",
              "      background-color: #E8F0FE;\n",
              "      border: none;\n",
              "      border-radius: 50%;\n",
              "      cursor: pointer;\n",
              "      display: none;\n",
              "      fill: #1967D2;\n",
              "      height: 32px;\n",
              "      padding: 0 0 0 0;\n",
              "      width: 32px;\n",
              "    }\n",
              "\n",
              "    .colab-df-convert:hover {\n",
              "      background-color: #E2EBFA;\n",
              "      box-shadow: 0px 1px 2px rgba(60, 64, 67, 0.3), 0px 1px 3px 1px rgba(60, 64, 67, 0.15);\n",
              "      fill: #174EA6;\n",
              "    }\n",
              "\n",
              "    [theme=dark] .colab-df-convert {\n",
              "      background-color: #3B4455;\n",
              "      fill: #D2E3FC;\n",
              "    }\n",
              "\n",
              "    [theme=dark] .colab-df-convert:hover {\n",
              "      background-color: #434B5C;\n",
              "      box-shadow: 0px 1px 3px 1px rgba(0, 0, 0, 0.15);\n",
              "      filter: drop-shadow(0px 1px 2px rgba(0, 0, 0, 0.3));\n",
              "      fill: #FFFFFF;\n",
              "    }\n",
              "  </style>\n",
              "\n",
              "      <script>\n",
              "        const buttonEl =\n",
              "          document.querySelector('#df-7c11168b-47ca-4f39-b653-2599af772e34 button.colab-df-convert');\n",
              "        buttonEl.style.display =\n",
              "          google.colab.kernel.accessAllowed ? 'block' : 'none';\n",
              "\n",
              "        async function convertToInteractive(key) {\n",
              "          const element = document.querySelector('#df-7c11168b-47ca-4f39-b653-2599af772e34');\n",
              "          const dataTable =\n",
              "            await google.colab.kernel.invokeFunction('convertToInteractive',\n",
              "                                                     [key], {});\n",
              "          if (!dataTable) return;\n",
              "\n",
              "          const docLinkHtml = 'Like what you see? Visit the ' +\n",
              "            '<a target=\"_blank\" href=https://colab.research.google.com/notebooks/data_table.ipynb>data table notebook</a>'\n",
              "            + ' to learn more about interactive tables.';\n",
              "          element.innerHTML = '';\n",
              "          dataTable['output_type'] = 'display_data';\n",
              "          await google.colab.output.renderOutput(dataTable, element);\n",
              "          const docLink = document.createElement('div');\n",
              "          docLink.innerHTML = docLinkHtml;\n",
              "          element.appendChild(docLink);\n",
              "        }\n",
              "      </script>\n",
              "    </div>\n",
              "  </div>\n",
              "  "
            ]
          },
          "metadata": {},
          "execution_count": 244
        }
      ]
    },
    {
      "cell_type": "markdown",
      "source": [
        "### Dataset Rows & Columns count"
      ],
      "metadata": {
        "id": "7hBIi_osiCS2"
      }
    },
    {
      "cell_type": "code",
      "source": [
        "# Dataset Rows & Columns count\n",
        "\n",
        "print(f\"Books has {df_books.shape[0]} rows and {df_books.shape[1]} columns \" )\n",
        "print(f\"Rating has {df_ratings.shape[0]} rows and {df_ratings.shape[1]} columns \" )\n",
        "print(f\"Users has {df_users.shape[0]} rows and {df_users.shape[1]} columns \" )"
      ],
      "metadata": {
        "id": "Kllu7SJgmLij",
        "colab": {
          "base_uri": "https://localhost:8080/"
        },
        "outputId": "72a51b9b-145c-46a9-95d4-bc5d874e6ffb"
      },
      "execution_count": 245,
      "outputs": [
        {
          "output_type": "stream",
          "name": "stdout",
          "text": [
            "Books has 271360 rows and 8 columns \n",
            "Rating has 1149780 rows and 3 columns \n",
            "Users has 278858 rows and 3 columns \n"
          ]
        }
      ]
    },
    {
      "cell_type": "markdown",
      "source": [
        "*  books have 271360 rows and 8 columns\n",
        "*  ratings has 1149780 rows and 3 columns\n",
        "*  Users has 278858 rows and 3 columns\n"
      ],
      "metadata": {
        "id": "T0c8qWV6qkve"
      }
    },
    {
      "cell_type": "markdown",
      "source": [
        "### Dataset Information"
      ],
      "metadata": {
        "id": "JlHwYmJAmNHm"
      }
    },
    {
      "cell_type": "code",
      "source": [
        "# Dataset Info\n",
        "df_books.info()\n"
      ],
      "metadata": {
        "id": "e9hRXRi6meOf",
        "colab": {
          "base_uri": "https://localhost:8080/"
        },
        "outputId": "5316756a-a543-4092-c2c3-cf22a8e2b13d"
      },
      "execution_count": 246,
      "outputs": [
        {
          "output_type": "stream",
          "name": "stdout",
          "text": [
            "<class 'pandas.core.frame.DataFrame'>\n",
            "RangeIndex: 271360 entries, 0 to 271359\n",
            "Data columns (total 8 columns):\n",
            " #   Column               Non-Null Count   Dtype  \n",
            "---  ------               --------------   -----  \n",
            " 0   ISBN                 271360 non-null  object \n",
            " 1   Book-Title           271360 non-null  object \n",
            " 2   Book-Author          271360 non-null  object \n",
            " 3   Year-Of-Publication  271360 non-null  float64\n",
            " 4   Publisher            271360 non-null  object \n",
            " 5   Image-URL-S          271360 non-null  object \n",
            " 6   Image-URL-M          271360 non-null  object \n",
            " 7   Image-URL-L          271357 non-null  object \n",
            "dtypes: float64(1), object(7)\n",
            "memory usage: 16.6+ MB\n"
          ]
        }
      ]
    },
    {
      "cell_type": "code",
      "source": [
        "df_ratings.info()"
      ],
      "metadata": {
        "id": "N8mdOf9u5cMP",
        "colab": {
          "base_uri": "https://localhost:8080/"
        },
        "outputId": "d003e700-571e-4619-85f2-c1761c0ad1a5"
      },
      "execution_count": 247,
      "outputs": [
        {
          "output_type": "stream",
          "name": "stdout",
          "text": [
            "<class 'pandas.core.frame.DataFrame'>\n",
            "RangeIndex: 1149780 entries, 0 to 1149779\n",
            "Data columns (total 3 columns):\n",
            " #   Column       Non-Null Count    Dtype \n",
            "---  ------       --------------    ----- \n",
            " 0   User-ID      1149780 non-null  int64 \n",
            " 1   ISBN         1149780 non-null  object\n",
            " 2   Book-Rating  1149780 non-null  int64 \n",
            "dtypes: int64(2), object(1)\n",
            "memory usage: 26.3+ MB\n"
          ]
        }
      ]
    },
    {
      "cell_type": "code",
      "source": [
        "df_users.info()"
      ],
      "metadata": {
        "id": "zWH-4NbD5wLb",
        "colab": {
          "base_uri": "https://localhost:8080/"
        },
        "outputId": "5d2e5c10-0026-4af2-c53d-8779a7321111"
      },
      "execution_count": 248,
      "outputs": [
        {
          "output_type": "stream",
          "name": "stdout",
          "text": [
            "<class 'pandas.core.frame.DataFrame'>\n",
            "RangeIndex: 278858 entries, 0 to 278857\n",
            "Data columns (total 3 columns):\n",
            " #   Column    Non-Null Count   Dtype  \n",
            "---  ------    --------------   -----  \n",
            " 0   User-ID   278858 non-null  int64  \n",
            " 1   Location  278858 non-null  object \n",
            " 2   Age       168096 non-null  float64\n",
            "dtypes: float64(1), int64(1), object(1)\n",
            "memory usage: 6.4+ MB\n"
          ]
        }
      ]
    },
    {
      "cell_type": "markdown",
      "source": [
        "#### Duplicate Values"
      ],
      "metadata": {
        "id": "35m5QtbWiB9F"
      }
    },
    {
      "cell_type": "code",
      "source": [
        "# Dataset Duplicate Value Count\n",
        "# Missing Values/Null Values Count\n",
        "print(\"Duplicate Values in BOOKS\" ,len(df_books[df_books.duplicated()]))\n",
        "print(\"Duplicate Values in RATINGS \",len(df_ratings[df_ratings.duplicated()]))\n",
        "print(\"Duplicate Values in USERS\",len(df_users[df_users.duplicated()]))"
      ],
      "metadata": {
        "id": "1sLdpKYkmox0",
        "colab": {
          "base_uri": "https://localhost:8080/"
        },
        "outputId": "ca87b23e-8aa6-4e2c-b43e-1cd11d9c141b"
      },
      "execution_count": 249,
      "outputs": [
        {
          "output_type": "stream",
          "name": "stdout",
          "text": [
            "Duplicate Values in BOOKS 0\n",
            "Duplicate Values in RATINGS  0\n",
            "Duplicate Values in USERS 0\n"
          ]
        }
      ]
    },
    {
      "cell_type": "markdown",
      "source": [
        "#### Missing Values/Null Values"
      ],
      "metadata": {
        "id": "PoPl-ycgm1ru"
      }
    },
    {
      "cell_type": "code",
      "source": [
        "# Missing Values/Null Values Count\n",
        "print(\"NULL Values in BOOKS\" ,df_books.isnull().sum())\n",
        "print(\"NULL Values in RATINGS \",df_ratings.isnull().sum())\n",
        "print(\"NULL Values in USERS\",df_users.isnull().sum())"
      ],
      "metadata": {
        "id": "GgHWkxvamxVg",
        "colab": {
          "base_uri": "https://localhost:8080/"
        },
        "outputId": "36c62622-ebed-4b7b-b714-7c7bc1b9f592"
      },
      "execution_count": 250,
      "outputs": [
        {
          "output_type": "stream",
          "name": "stdout",
          "text": [
            "NULL Values in BOOKS ISBN                   0\n",
            "Book-Title             0\n",
            "Book-Author            0\n",
            "Year-Of-Publication    0\n",
            "Publisher              0\n",
            "Image-URL-S            0\n",
            "Image-URL-M            0\n",
            "Image-URL-L            3\n",
            "dtype: int64\n",
            "NULL Values in RATINGS  User-ID        0\n",
            "ISBN           0\n",
            "Book-Rating    0\n",
            "dtype: int64\n",
            "NULL Values in USERS User-ID          0\n",
            "Location         0\n",
            "Age         110762\n",
            "dtype: int64\n"
          ]
        }
      ]
    },
    {
      "cell_type": "code",
      "source": [
        "# Visualizing the missing values\n",
        "plt.figure(figsize=(10,6))\n",
        "sns.displot(\n",
        "    data=df_books.isnull().melt(value_name=\"missing\"),\n",
        "    y=\"variable\",\n",
        "    hue=\"missing\",\n",
        "    multiple=\"fill\",\n",
        "    aspect=1.25\n",
        ")"
      ],
      "metadata": {
        "id": "3q5wnI3om9sJ",
        "colab": {
          "base_uri": "https://localhost:8080/",
          "height": 405
        },
        "outputId": "d8c082d3-dc22-4d5f-dbb7-7dc6ad33e8b2"
      },
      "execution_count": 251,
      "outputs": [
        {
          "output_type": "execute_result",
          "data": {
            "text/plain": [
              "<seaborn.axisgrid.FacetGrid at 0x7f4c538219a0>"
            ]
          },
          "metadata": {},
          "execution_count": 251
        },
        {
          "output_type": "display_data",
          "data": {
            "text/plain": [
              "<Figure size 720x432 with 0 Axes>"
            ]
          },
          "metadata": {}
        },
        {
          "output_type": "display_data",
          "data": {
            "text/plain": [
              "<Figure size 511.25x360 with 1 Axes>"
            ],
            "image/png": "[encoded data removed]"
          },
          "metadata": {
            "needs_background": "light"
          }
        }
      ]
    },
    {
      "cell_type": "markdown",
      "source": [
        "Since the missing values are very less as compared to total number of instances ,therefore we are not able visualie the missing values . The number of missing values are 1,2 and 3 and total insatnces is 271360 so the proportion is 0.000011 hence it is negligible"
      ],
      "metadata": {
        "id": "nqVyadXhrXFf"
      }
    },
    {
      "cell_type": "code",
      "source": [
        "# Visualizing the missing values\n",
        "plt.figure(figsize=(10,6))\n",
        "sns.displot(\n",
        "    data=df_users.isnull().melt(value_name=\"missing\"),\n",
        "    y=\"variable\",\n",
        "    hue=\"missing\",\n",
        "    multiple=\"fill\",\n",
        "    aspect=1.25\n",
        ")"
      ],
      "metadata": {
        "id": "MmegbKgm4y7k",
        "colab": {
          "base_uri": "https://localhost:8080/",
          "height": 405
        },
        "outputId": "883b680c-7fe9-41ff-d6ac-0343943c9262"
      },
      "execution_count": 252,
      "outputs": [
        {
          "output_type": "execute_result",
          "data": {
            "text/plain": [
              "<seaborn.axisgrid.FacetGrid at 0x7f4c32033be0>"
            ]
          },
          "metadata": {},
          "execution_count": 252
        },
        {
          "output_type": "display_data",
          "data": {
            "text/plain": [
              "<Figure size 720x432 with 0 Axes>"
            ]
          },
          "metadata": {}
        },
        {
          "output_type": "display_data",
          "data": {
            "text/plain": [
              "<Figure size 511.25x360 with 1 Axes>"
            ],
            "image/png": "[encoded data removed]"
          },
          "metadata": {
            "needs_background": "light"
          }
        }
      ]
    },
    {
      "cell_type": "markdown",
      "source": [
        "* For the users data we have about 0.4 proportion values of the Age column which is missing."
      ],
      "metadata": {
        "id": "RZBCT5e25MXA"
      }
    },
    {
      "cell_type": "markdown",
      "source": [
        "### What did you know about your dataset?"
      ],
      "metadata": {
        "id": "H0kj-8xxnORC"
      }
    },
    {
      "cell_type": "markdown",
      "source": [
        "*  There 271360 rows and 8 columns in Books Dataset \n",
        "\n",
        "*  There are  1149780 rows and 3 columns in Rating Dataset\n",
        "\n",
        "*  There are 278858 rows and 3 columns in Users Dataset\n",
        "\n",
        "*  There are no duplicate values in any of the dataset for Books ,Ratings and Users\n",
        "\n",
        "* There are very few (0.0011%) values which are missing for the columns Book_author , Publisher and Image_URL-L"
      ],
      "metadata": {
        "id": "gfoNAAC-nUe_"
      }
    },
    {
      "cell_type": "markdown",
      "source": [
        "## ***2. Understanding Your Variables***"
      ],
      "metadata": {
        "id": "nA9Y7ga8ng1Z"
      }
    },
    {
      "cell_type": "code",
      "source": [
        "# Dataset Columns\n",
        "df_books.columns"
      ],
      "metadata": {
        "id": "j7xfkqrt5Ag5",
        "colab": {
          "base_uri": "https://localhost:8080/"
        },
        "outputId": "cb034774-bcc8-496f-cdeb-d5570755c60e"
      },
      "execution_count": 253,
      "outputs": [
        {
          "output_type": "execute_result",
          "data": {
            "text/plain": [
              "Index(['ISBN', 'Book-Title', 'Book-Author', 'Year-Of-Publication', 'Publisher',\n",
              "       'Image-URL-S', 'Image-URL-M', 'Image-URL-L'],\n",
              "      dtype='object')"
            ]
          },
          "metadata": {},
          "execution_count": 253
        }
      ]
    },
    {
      "cell_type": "code",
      "source": [
        "df_ratings.columns"
      ],
      "metadata": {
        "id": "NC0LMF2H0agz",
        "colab": {
          "base_uri": "https://localhost:8080/"
        },
        "outputId": "d8c41b92-652e-4b37-80ad-011efedc1897"
      },
      "execution_count": 254,
      "outputs": [
        {
          "output_type": "execute_result",
          "data": {
            "text/plain": [
              "Index(['User-ID', 'ISBN', 'Book-Rating'], dtype='object')"
            ]
          },
          "metadata": {},
          "execution_count": 254
        }
      ]
    },
    {
      "cell_type": "code",
      "source": [
        "df_users.columns"
      ],
      "metadata": {
        "id": "rHZ999T509Wd",
        "colab": {
          "base_uri": "https://localhost:8080/"
        },
        "outputId": "dc5a6e56-8d4b-49b6-8be9-e8c92174dc1f"
      },
      "execution_count": 255,
      "outputs": [
        {
          "output_type": "execute_result",
          "data": {
            "text/plain": [
              "Index(['User-ID', 'Location', 'Age'], dtype='object')"
            ]
          },
          "metadata": {},
          "execution_count": 255
        }
      ]
    },
    {
      "cell_type": "code",
      "source": [
        "# Dataset Describe\n",
        "df_books.describe()"
      ],
      "metadata": {
        "id": "DnOaZdaE5Q5t",
        "colab": {
          "base_uri": "https://localhost:8080/",
          "height": 300
        },
        "outputId": "c50e9e12-b89c-428d-8c63-2e8c12fd1873"
      },
      "execution_count": 256,
      "outputs": [
        {
          "output_type": "execute_result",
          "data": {
            "text/plain": [
              "       Year-Of-Publication\n",
              "count        271360.000000\n",
              "mean           1993.727373\n",
              "std               8.255314\n",
              "min            1376.000000\n",
              "25%            1989.000000\n",
              "50%            1996.000000\n",
              "75%            2000.000000\n",
              "max            2021.000000"
            ],
            "text/html": [
              "\n",
              "  <div id=\"df-e1d47148-82a4-441a-ba86-bc5312d693ed\">\n",
              "    <div class=\"colab-df-container\">\n",
              "      <div>\n",
              "<style scoped>\n",
              "    .dataframe tbody tr th:only-of-type {\n",
              "        vertical-align: middle;\n",
              "    }\n",
              "\n",
              "    .dataframe tbody tr th {\n",
              "        vertical-align: top;\n",
              "    }\n",
              "\n",
              "    .dataframe thead th {\n",
              "        text-align: right;\n",
              "    }\n",
              "</style>\n",
              "<table border=\"1\" class=\"dataframe\">\n",
              "  <thead>\n",
              "    <tr style=\"text-align: right;\">\n",
              "      <th></th>\n",
              "      <th>Year-Of-Publication</th>\n",
              "    </tr>\n",
              "  </thead>\n",
              "  <tbody>\n",
              "    <tr>\n",
              "      <th>count</th>\n",
              "      <td>271360.000000</td>\n",
              "    </tr>\n",
              "    <tr>\n",
              "      <th>mean</th>\n",
              "      <td>1993.727373</td>\n",
              "    </tr>\n",
              "    <tr>\n",
              "      <th>std</th>\n",
              "      <td>8.255314</td>\n",
              "    </tr>\n",
              "    <tr>\n",
              "      <th>min</th>\n",
              "      <td>1376.000000</td>\n",
              "    </tr>\n",
              "    <tr>\n",
              "      <th>25%</th>\n",
              "      <td>1989.000000</td>\n",
              "    </tr>\n",
              "    <tr>\n",
              "      <th>50%</th>\n",
              "      <td>1996.000000</td>\n",
              "    </tr>\n",
              "    <tr>\n",
              "      <th>75%</th>\n",
              "      <td>2000.000000</td>\n",
              "    </tr>\n",
              "    <tr>\n",
              "      <th>max</th>\n",
              "      <td>2021.000000</td>\n",
              "    </tr>\n",
              "  </tbody>\n",
              "</table>\n",
              "</div>\n",
              "      <button class=\"colab-df-convert\" onclick=\"convertToInteractive('df-e1d47148-82a4-441a-ba86-bc5312d693ed')\"\n",
              "              title=\"Convert this dataframe to an interactive table.\"\n",
              "              style=\"display:none;\">\n",
              "        \n",
              "  <svg xmlns=\"http://www.w3.org/2000/svg\" height=\"24px\"viewBox=\"0 0 24 24\"\n",
              "       width=\"24px\">\n",
              "    <path d=\"M0 0h24v24H0V0z\" fill=\"none\"/>\n",
              "    <path d=\"M18.56 5.44l.94 2.06.94-2.06 2.06-.94-2.06-.94-.94-2.06-.94 2.06-2.06.94zm-11 1L8.5 8.5l.94-2.06 2.06-.94-2.06-.94L8.5 2.5l-.94 2.06-2.06.94zm10 10l.94 2.06.94-2.06 2.06-.94-2.06-.94-.94-2.06-.94 2.06-2.06.94z\"/><path d=\"M17.41 7.96l-1.37-1.37c-.4-.4-.92-.59-1.43-.59-.52 0-1.04.2-1.43.59L10.3 9.45l-7.72 7.72c-.78.78-.78 2.05 0 2.83L4 21.41c.39.39.9.59 1.41.59.51 0 1.02-.2 1.41-.59l7.78-7.78 2.81-2.81c.8-.78.8-2.07 0-2.86zM5.41 20L4 18.59l7.72-7.72 1.47 1.35L5.41 20z\"/>\n",
              "  </svg>\n",
              "      </button>\n",
              "      \n",
              "  <style>\n",
              "    .colab-df-container {\n",
              "      display:flex;\n",
              "      flex-wrap:wrap;\n",
              "      gap: 12px;\n",
              "    }\n",
              "\n",
              "    .colab-df-convert {\n",
              "      background-color: #E8F0FE;\n",
              "      border: none;\n",
              "      border-radius: 50%;\n",
              "      cursor: pointer;\n",
              "      display: none;\n",
              "      fill: #1967D2;\n",
              "      height: 32px;\n",
              "      padding: 0 0 0 0;\n",
              "      width: 32px;\n",
              "    }\n",
              "\n",
              "    .colab-df-convert:hover {\n",
              "      background-color: #E2EBFA;\n",
              "      box-shadow: 0px 1px 2px rgba(60, 64, 67, 0.3), 0px 1px 3px 1px rgba(60, 64, 67, 0.15);\n",
              "      fill: #174EA6;\n",
              "    }\n",
              "\n",
              "    [theme=dark] .colab-df-convert {\n",
              "      background-color: #3B4455;\n",
              "      fill: #D2E3FC;\n",
              "    }\n",
              "\n",
              "    [theme=dark] .colab-df-convert:hover {\n",
              "      background-color: #434B5C;\n",
              "      box-shadow: 0px 1px 3px 1px rgba(0, 0, 0, 0.15);\n",
              "      filter: drop-shadow(0px 1px 2px rgba(0, 0, 0, 0.3));\n",
              "      fill: #FFFFFF;\n",
              "    }\n",
              "  </style>\n",
              "\n",
              "      <script>\n",
              "        const buttonEl =\n",
              "          document.querySelector('#df-e1d47148-82a4-441a-ba86-bc5312d693ed button.colab-df-convert');\n",
              "        buttonEl.style.display =\n",
              "          google.colab.kernel.accessAllowed ? 'block' : 'none';\n",
              "\n",
              "        async function convertToInteractive(key) {\n",
              "          const element = document.querySelector('#df-e1d47148-82a4-441a-ba86-bc5312d693ed');\n",
              "          const dataTable =\n",
              "            await google.colab.kernel.invokeFunction('convertToInteractive',\n",
              "                                                     [key], {});\n",
              "          if (!dataTable) return;\n",
              "\n",
              "          const docLinkHtml = 'Like what you see? Visit the ' +\n",
              "            '<a target=\"_blank\" href=https://colab.research.google.com/notebooks/data_table.ipynb>data table notebook</a>'\n",
              "            + ' to learn more about interactive tables.';\n",
              "          element.innerHTML = '';\n",
              "          dataTable['output_type'] = 'display_data';\n",
              "          await google.colab.output.renderOutput(dataTable, element);\n",
              "          const docLink = document.createElement('div');\n",
              "          docLink.innerHTML = docLinkHtml;\n",
              "          element.appendChild(docLink);\n",
              "        }\n",
              "      </script>\n",
              "    </div>\n",
              "  </div>\n",
              "  "
            ]
          },
          "metadata": {},
          "execution_count": 256
        }
      ]
    },
    {
      "cell_type": "code",
      "source": [
        "df_ratings.describe()"
      ],
      "metadata": {
        "id": "kNY0ItLZ3G6r",
        "colab": {
          "base_uri": "https://localhost:8080/",
          "height": 300
        },
        "outputId": "7de9c663-9a26-472c-d906-0c0cbad690a2"
      },
      "execution_count": 257,
      "outputs": [
        {
          "output_type": "execute_result",
          "data": {
            "text/plain": [
              "            User-ID   Book-Rating\n",
              "count  1.149780e+06  1.149780e+06\n",
              "mean   1.403864e+05  2.866950e+00\n",
              "std    8.056228e+04  3.854184e+00\n",
              "min    2.000000e+00  0.000000e+00\n",
              "25%    7.034500e+04  0.000000e+00\n",
              "50%    1.410100e+05  0.000000e+00\n",
              "75%    2.110280e+05  7.000000e+00\n",
              "max    2.788540e+05  1.000000e+01"
            ],
            "text/html": [
              "\n",
              "  <div id=\"df-a6ac661b-cc49-4b2b-8da7-947477199220\">\n",
              "    <div class=\"colab-df-container\">\n",
              "      <div>\n",
              "<style scoped>\n",
              "    .dataframe tbody tr th:only-of-type {\n",
              "        vertical-align: middle;\n",
              "    }\n",
              "\n",
              "    .dataframe tbody tr th {\n",
              "        vertical-align: top;\n",
              "    }\n",
              "\n",
              "    .dataframe thead th {\n",
              "        text-align: right;\n",
              "    }\n",
              "</style>\n",
              "<table border=\"1\" class=\"dataframe\">\n",
              "  <thead>\n",
              "    <tr style=\"text-align: right;\">\n",
              "      <th></th>\n",
              "      <th>User-ID</th>\n",
              "      <th>Book-Rating</th>\n",
              "    </tr>\n",
              "  </thead>\n",
              "  <tbody>\n",
              "    <tr>\n",
              "      <th>count</th>\n",
              "      <td>1.149780e+06</td>\n",
              "      <td>1.149780e+06</td>\n",
              "    </tr>\n",
              "    <tr>\n",
              "      <th>mean</th>\n",
              "      <td>1.403864e+05</td>\n",
              "      <td>2.866950e+00</td>\n",
              "    </tr>\n",
              "    <tr>\n",
              "      <th>std</th>\n",
              "      <td>8.056228e+04</td>\n",
              "      <td>3.854184e+00</td>\n",
              "    </tr>\n",
              "    <tr>\n",
              "      <th>min</th>\n",
              "      <td>2.000000e+00</td>\n",
              "      <td>0.000000e+00</td>\n",
              "    </tr>\n",
              "    <tr>\n",
              "      <th>25%</th>\n",
              "      <td>7.034500e+04</td>\n",
              "      <td>0.000000e+00</td>\n",
              "    </tr>\n",
              "    <tr>\n",
              "      <th>50%</th>\n",
              "      <td>1.410100e+05</td>\n",
              "      <td>0.000000e+00</td>\n",
              "    </tr>\n",
              "    <tr>\n",
              "      <th>75%</th>\n",
              "      <td>2.110280e+05</td>\n",
              "      <td>7.000000e+00</td>\n",
              "    </tr>\n",
              "    <tr>\n",
              "      <th>max</th>\n",
              "      <td>2.788540e+05</td>\n",
              "      <td>1.000000e+01</td>\n",
              "    </tr>\n",
              "  </tbody>\n",
              "</table>\n",
              "</div>\n",
              "      <button class=\"colab-df-convert\" onclick=\"convertToInteractive('df-a6ac661b-cc49-4b2b-8da7-947477199220')\"\n",
              "              title=\"Convert this dataframe to an interactive table.\"\n",
              "              style=\"display:none;\">\n",
              "        \n",
              "  <svg xmlns=\"http://www.w3.org/2000/svg\" height=\"24px\"viewBox=\"0 0 24 24\"\n",
              "       width=\"24px\">\n",
              "    <path d=\"M0 0h24v24H0V0z\" fill=\"none\"/>\n",
              "    <path d=\"M18.56 5.44l.94 2.06.94-2.06 2.06-.94-2.06-.94-.94-2.06-.94 2.06-2.06.94zm-11 1L8.5 8.5l.94-2.06 2.06-.94-2.06-.94L8.5 2.5l-.94 2.06-2.06.94zm10 10l.94 2.06.94-2.06 2.06-.94-2.06-.94-.94-2.06-.94 2.06-2.06.94z\"/><path d=\"M17.41 7.96l-1.37-1.37c-.4-.4-.92-.59-1.43-.59-.52 0-1.04.2-1.43.59L10.3 9.45l-7.72 7.72c-.78.78-.78 2.05 0 2.83L4 21.41c.39.39.9.59 1.41.59.51 0 1.02-.2 1.41-.59l7.78-7.78 2.81-2.81c.8-.78.8-2.07 0-2.86zM5.41 20L4 18.59l7.72-7.72 1.47 1.35L5.41 20z\"/>\n",
              "  </svg>\n",
              "      </button>\n",
              "      \n",
              "  <style>\n",
              "    .colab-df-container {\n",
              "      display:flex;\n",
              "      flex-wrap:wrap;\n",
              "      gap: 12px;\n",
              "    }\n",
              "\n",
              "    .colab-df-convert {\n",
              "      background-color: #E8F0FE;\n",
              "      border: none;\n",
              "      border-radius: 50%;\n",
              "      cursor: pointer;\n",
              "      display: none;\n",
              "      fill: #1967D2;\n",
              "      height: 32px;\n",
              "      padding: 0 0 0 0;\n",
              "      width: 32px;\n",
              "    }\n",
              "\n",
              "    .colab-df-convert:hover {\n",
              "      background-color: #E2EBFA;\n",
              "      box-shadow: 0px 1px 2px rgba(60, 64, 67, 0.3), 0px 1px 3px 1px rgba(60, 64, 67, 0.15);\n",
              "      fill: #174EA6;\n",
              "    }\n",
              "\n",
              "    [theme=dark] .colab-df-convert {\n",
              "      background-color: #3B4455;\n",
              "      fill: #D2E3FC;\n",
              "    }\n",
              "\n",
              "    [theme=dark] .colab-df-convert:hover {\n",
              "      background-color: #434B5C;\n",
              "      box-shadow: 0px 1px 3px 1px rgba(0, 0, 0, 0.15);\n",
              "      filter: drop-shadow(0px 1px 2px rgba(0, 0, 0, 0.3));\n",
              "      fill: #FFFFFF;\n",
              "    }\n",
              "  </style>\n",
              "\n",
              "      <script>\n",
              "        const buttonEl =\n",
              "          document.querySelector('#df-a6ac661b-cc49-4b2b-8da7-947477199220 button.colab-df-convert');\n",
              "        buttonEl.style.display =\n",
              "          google.colab.kernel.accessAllowed ? 'block' : 'none';\n",
              "\n",
              "        async function convertToInteractive(key) {\n",
              "          const element = document.querySelector('#df-a6ac661b-cc49-4b2b-8da7-947477199220');\n",
              "          const dataTable =\n",
              "            await google.colab.kernel.invokeFunction('convertToInteractive',\n",
              "                                                     [key], {});\n",
              "          if (!dataTable) return;\n",
              "\n",
              "          const docLinkHtml = 'Like what you see? Visit the ' +\n",
              "            '<a target=\"_blank\" href=https://colab.research.google.com/notebooks/data_table.ipynb>data table notebook</a>'\n",
              "            + ' to learn more about interactive tables.';\n",
              "          element.innerHTML = '';\n",
              "          dataTable['output_type'] = 'display_data';\n",
              "          await google.colab.output.renderOutput(dataTable, element);\n",
              "          const docLink = document.createElement('div');\n",
              "          docLink.innerHTML = docLinkHtml;\n",
              "          element.appendChild(docLink);\n",
              "        }\n",
              "      </script>\n",
              "    </div>\n",
              "  </div>\n",
              "  "
            ]
          },
          "metadata": {},
          "execution_count": 257
        }
      ]
    },
    {
      "cell_type": "code",
      "source": [
        "df_users.describe()"
      ],
      "metadata": {
        "id": "1ED4vZgr3NEj",
        "colab": {
          "base_uri": "https://localhost:8080/",
          "height": 300
        },
        "outputId": "1744fc3d-f49d-422f-8683-8f4c16a37b38"
      },
      "execution_count": 258,
      "outputs": [
        {
          "output_type": "execute_result",
          "data": {
            "text/plain": [
              "            User-ID            Age\n",
              "count  278858.00000  168096.000000\n",
              "mean   139429.50000      34.751434\n",
              "std     80499.51502      14.428097\n",
              "min         1.00000       0.000000\n",
              "25%     69715.25000      24.000000\n",
              "50%    139429.50000      32.000000\n",
              "75%    209143.75000      44.000000\n",
              "max    278858.00000     244.000000"
            ],
            "text/html": [
              "\n",
              "  <div id=\"df-6a43e832-2aa7-450f-bfaf-3e6e3f21023c\">\n",
              "    <div class=\"colab-df-container\">\n",
              "      <div>\n",
              "<style scoped>\n",
              "    .dataframe tbody tr th:only-of-type {\n",
              "        vertical-align: middle;\n",
              "    }\n",
              "\n",
              "    .dataframe tbody tr th {\n",
              "        vertical-align: top;\n",
              "    }\n",
              "\n",
              "    .dataframe thead th {\n",
              "        text-align: right;\n",
              "    }\n",
              "</style>\n",
              "<table border=\"1\" class=\"dataframe\">\n",
              "  <thead>\n",
              "    <tr style=\"text-align: right;\">\n",
              "      <th></th>\n",
              "      <th>User-ID</th>\n",
              "      <th>Age</th>\n",
              "    </tr>\n",
              "  </thead>\n",
              "  <tbody>\n",
              "    <tr>\n",
              "      <th>count</th>\n",
              "      <td>278858.00000</td>\n",
              "      <td>168096.000000</td>\n",
              "    </tr>\n",
              "    <tr>\n",
              "      <th>mean</th>\n",
              "      <td>139429.50000</td>\n",
              "      <td>34.751434</td>\n",
              "    </tr>\n",
              "    <tr>\n",
              "      <th>std</th>\n",
              "      <td>80499.51502</td>\n",
              "      <td>14.428097</td>\n",
              "    </tr>\n",
              "    <tr>\n",
              "      <th>min</th>\n",
              "      <td>1.00000</td>\n",
              "      <td>0.000000</td>\n",
              "    </tr>\n",
              "    <tr>\n",
              "      <th>25%</th>\n",
              "      <td>69715.25000</td>\n",
              "      <td>24.000000</td>\n",
              "    </tr>\n",
              "    <tr>\n",
              "      <th>50%</th>\n",
              "      <td>139429.50000</td>\n",
              "      <td>32.000000</td>\n",
              "    </tr>\n",
              "    <tr>\n",
              "      <th>75%</th>\n",
              "      <td>209143.75000</td>\n",
              "      <td>44.000000</td>\n",
              "    </tr>\n",
              "    <tr>\n",
              "      <th>max</th>\n",
              "      <td>278858.00000</td>\n",
              "      <td>244.000000</td>\n",
              "    </tr>\n",
              "  </tbody>\n",
              "</table>\n",
              "</div>\n",
              "      <button class=\"colab-df-convert\" onclick=\"convertToInteractive('df-6a43e832-2aa7-450f-bfaf-3e6e3f21023c')\"\n",
              "              title=\"Convert this dataframe to an interactive table.\"\n",
              "              style=\"display:none;\">\n",
              "        \n",
              "  <svg xmlns=\"http://www.w3.org/2000/svg\" height=\"24px\"viewBox=\"0 0 24 24\"\n",
              "       width=\"24px\">\n",
              "    <path d=\"M0 0h24v24H0V0z\" fill=\"none\"/>\n",
              "    <path d=\"M18.56 5.44l.94 2.06.94-2.06 2.06-.94-2.06-.94-.94-2.06-.94 2.06-2.06.94zm-11 1L8.5 8.5l.94-2.06 2.06-.94-2.06-.94L8.5 2.5l-.94 2.06-2.06.94zm10 10l.94 2.06.94-2.06 2.06-.94-2.06-.94-.94-2.06-.94 2.06-2.06.94z\"/><path d=\"M17.41 7.96l-1.37-1.37c-.4-.4-.92-.59-1.43-.59-.52 0-1.04.2-1.43.59L10.3 9.45l-7.72 7.72c-.78.78-.78 2.05 0 2.83L4 21.41c.39.39.9.59 1.41.59.51 0 1.02-.2 1.41-.59l7.78-7.78 2.81-2.81c.8-.78.8-2.07 0-2.86zM5.41 20L4 18.59l7.72-7.72 1.47 1.35L5.41 20z\"/>\n",
              "  </svg>\n",
              "      </button>\n",
              "      \n",
              "  <style>\n",
              "    .colab-df-container {\n",
              "      display:flex;\n",
              "      flex-wrap:wrap;\n",
              "      gap: 12px;\n",
              "    }\n",
              "\n",
              "    .colab-df-convert {\n",
              "      background-color: #E8F0FE;\n",
              "      border: none;\n",
              "      border-radius: 50%;\n",
              "      cursor: pointer;\n",
              "      display: none;\n",
              "      fill: #1967D2;\n",
              "      height: 32px;\n",
              "      padding: 0 0 0 0;\n",
              "      width: 32px;\n",
              "    }\n",
              "\n",
              "    .colab-df-convert:hover {\n",
              "      background-color: #E2EBFA;\n",
              "      box-shadow: 0px 1px 2px rgba(60, 64, 67, 0.3), 0px 1px 3px 1px rgba(60, 64, 67, 0.15);\n",
              "      fill: #174EA6;\n",
              "    }\n",
              "\n",
              "    [theme=dark] .colab-df-convert {\n",
              "      background-color: #3B4455;\n",
              "      fill: #D2E3FC;\n",
              "    }\n",
              "\n",
              "    [theme=dark] .colab-df-convert:hover {\n",
              "      background-color: #434B5C;\n",
              "      box-shadow: 0px 1px 3px 1px rgba(0, 0, 0, 0.15);\n",
              "      filter: drop-shadow(0px 1px 2px rgba(0, 0, 0, 0.3));\n",
              "      fill: #FFFFFF;\n",
              "    }\n",
              "  </style>\n",
              "\n",
              "      <script>\n",
              "        const buttonEl =\n",
              "          document.querySelector('#df-6a43e832-2aa7-450f-bfaf-3e6e3f21023c button.colab-df-convert');\n",
              "        buttonEl.style.display =\n",
              "          google.colab.kernel.accessAllowed ? 'block' : 'none';\n",
              "\n",
              "        async function convertToInteractive(key) {\n",
              "          const element = document.querySelector('#df-6a43e832-2aa7-450f-bfaf-3e6e3f21023c');\n",
              "          const dataTable =\n",
              "            await google.colab.kernel.invokeFunction('convertToInteractive',\n",
              "                                                     [key], {});\n",
              "          if (!dataTable) return;\n",
              "\n",
              "          const docLinkHtml = 'Like what you see? Visit the ' +\n",
              "            '<a target=\"_blank\" href=https://colab.research.google.com/notebooks/data_table.ipynb>data table notebook</a>'\n",
              "            + ' to learn more about interactive tables.';\n",
              "          element.innerHTML = '';\n",
              "          dataTable['output_type'] = 'display_data';\n",
              "          await google.colab.output.renderOutput(dataTable, element);\n",
              "          const docLink = document.createElement('div');\n",
              "          docLink.innerHTML = docLinkHtml;\n",
              "          element.appendChild(docLink);\n",
              "        }\n",
              "      </script>\n",
              "    </div>\n",
              "  </div>\n",
              "  "
            ]
          },
          "metadata": {},
          "execution_count": 258
        }
      ]
    },
    {
      "cell_type": "markdown",
      "source": [
        "### Variables Description "
      ],
      "metadata": {
        "id": "PBTbrJXOngz2"
      }
    },
    {
      "cell_type": "markdown",
      "source": [
        "*  Books are identified by their respective **ISBN**. Moreover, some content-based information is given (**Book-Title, Book-Author, Year-Of-Publication, Publisher**) are obtained from Amazon Web Services. \n",
        "\n",
        "*  URLs linking to cover images are also given,It has basicaly three flovors of images (**Image-URL-S, Image-URL-M, Image-URL-L**), i.e., small, medium, large. These URLs point to the Amazon web site."
      ],
      "metadata": {
        "id": "nzeXYjvn9H22"
      }
    },
    {
      "cell_type": "markdown",
      "source": [
        "*  Users variables\n",
        "   *  The average age of the users of books reader is 34-35 \n",
        "*  Ratings variables\n",
        "   *  The average rating given by the user is 2.8669 out of 10\n",
        "   *  Range of rating is 0-10\n",
        "\n",
        "*  Books variables\n",
        "   *  There are total 102023 unique Authors listed in this dataset\n",
        "   *  Top publisher which has largest number of books listed in this dataset is Harlequin\n",
        "   *  There are 16807 unique publishers listed in this Dataset"
      ],
      "metadata": {
        "id": "aJV4KIxSnxay"
      }
    },
    {
      "cell_type": "markdown",
      "source": [
        "### Check Unique Values for each variable."
      ],
      "metadata": {
        "id": "u3PMJOP6ngxN"
      }
    },
    {
      "cell_type": "code",
      "source": [
        "# Check Unique Values for each variable.\n",
        "df_books.nunique()"
      ],
      "metadata": {
        "id": "zms12Yq5n-jE",
        "colab": {
          "base_uri": "https://localhost:8080/"
        },
        "outputId": "ee60f71d-0e2d-406f-c0dc-54b2178dfb71"
      },
      "execution_count": 259,
      "outputs": [
        {
          "output_type": "execute_result",
          "data": {
            "text/plain": [
              "ISBN                   271360\n",
              "Book-Title             242135\n",
              "Book-Author            102022\n",
              "Year-Of-Publication       109\n",
              "Publisher               16805\n",
              "Image-URL-S            271044\n",
              "Image-URL-M            271044\n",
              "Image-URL-L            271041\n",
              "dtype: int64"
            ]
          },
          "metadata": {},
          "execution_count": 259
        }
      ]
    },
    {
      "cell_type": "code",
      "source": [
        "df_ratings.nunique()"
      ],
      "metadata": {
        "id": "XHwlw_VO6ROs",
        "colab": {
          "base_uri": "https://localhost:8080/"
        },
        "outputId": "8cffc15c-24cc-4196-b612-411f41c5f55d"
      },
      "execution_count": 260,
      "outputs": [
        {
          "output_type": "execute_result",
          "data": {
            "text/plain": [
              "User-ID        105283\n",
              "ISBN           340556\n",
              "Book-Rating        11\n",
              "dtype: int64"
            ]
          },
          "metadata": {},
          "execution_count": 260
        }
      ]
    },
    {
      "cell_type": "code",
      "source": [
        "df_users.nunique()"
      ],
      "metadata": {
        "id": "iQSkNCVt6XGj",
        "colab": {
          "base_uri": "https://localhost:8080/"
        },
        "outputId": "d40c715a-9236-4faf-8594-2b85ff8bfae9"
      },
      "execution_count": 261,
      "outputs": [
        {
          "output_type": "execute_result",
          "data": {
            "text/plain": [
              "User-ID     278858\n",
              "Location     57339\n",
              "Age            165\n",
              "dtype: int64"
            ]
          },
          "metadata": {},
          "execution_count": 261
        }
      ]
    },
    {
      "cell_type": "markdown",
      "source": [
        "## 3. ***Data Wrangling***"
      ],
      "metadata": {
        "id": "dauF4eBmngu3"
      }
    },
    {
      "cell_type": "markdown",
      "source": [
        "### Data Wrangling Code"
      ],
      "metadata": {
        "id": "bKJF3rekwFvQ"
      }
    },
    {
      "cell_type": "code",
      "source": [
        "# Write your code to make your dataset analysis ready.\n",
        "# first we have to merge the datsets \n",
        "df_books_rating=df_books.merge(df_ratings,on=\"ISBN\")\n",
        "df_books_rating.head(3)"
      ],
      "metadata": {
        "id": "wk-9a2fpoLcV",
        "colab": {
          "base_uri": "https://localhost:8080/",
          "height": 329
        },
        "outputId": "07ebd02d-9fc9-4f27-811e-e62418d3661d"
      },
      "execution_count": 262,
      "outputs": [
        {
          "output_type": "execute_result",
          "data": {
            "text/plain": [
              "         ISBN           Book-Title           Book-Author  Year-Of-Publication  \\\n",
              "0  0195153448  Classical Mythology    Mark P. O. Morford               2002.0   \n",
              "1  0002005018         Clara Callan  Richard Bruce Wright               2001.0   \n",
              "2  0002005018         Clara Callan  Richard Bruce Wright               2001.0   \n",
              "\n",
              "                 Publisher                                        Image-URL-S  \\\n",
              "0  Oxford University Press  http://images.amazon.com/images/P/0195153448.0...   \n",
              "1    HarperFlamingo Canada  http://images.amazon.com/images/P/0002005018.0...   \n",
              "2    HarperFlamingo Canada  http://images.amazon.com/images/P/0002005018.0...   \n",
              "\n",
              "                                         Image-URL-M  \\\n",
              "0  http://images.amazon.com/images/P/0195153448.0...   \n",
              "1  http://images.amazon.com/images/P/0002005018.0...   \n",
              "2  http://images.amazon.com/images/P/0002005018.0...   \n",
              "\n",
              "                                         Image-URL-L  User-ID  Book-Rating  \n",
              "0  http://images.amazon.com/images/P/0195153448.0...        2            0  \n",
              "1  http://images.amazon.com/images/P/0002005018.0...        8            5  \n",
              "2  http://images.amazon.com/images/P/0002005018.0...    11400            0  "
            ],
            "text/html": [
              "\n",
              "  <div id=\"df-0b0e4549-4fff-4b08-86e2-b0f40bf9e67f\">\n",
              "    <div class=\"colab-df-container\">\n",
              "      <div>\n",
              "<style scoped>\n",
              "    .dataframe tbody tr th:only-of-type {\n",
              "        vertical-align: middle;\n",
              "    }\n",
              "\n",
              "    .dataframe tbody tr th {\n",
              "        vertical-align: top;\n",
              "    }\n",
              "\n",
              "    .dataframe thead th {\n",
              "        text-align: right;\n",
              "    }\n",
              "</style>\n",
              "<table border=\"1\" class=\"dataframe\">\n",
              "  <thead>\n",
              "    <tr style=\"text-align: right;\">\n",
              "      <th></th>\n",
              "      <th>ISBN</th>\n",
              "      <th>Book-Title</th>\n",
              "      <th>Book-Author</th>\n",
              "      <th>Year-Of-Publication</th>\n",
              "      <th>Publisher</th>\n",
              "      <th>Image-URL-S</th>\n",
              "      <th>Image-URL-M</th>\n",
              "      <th>Image-URL-L</th>\n",
              "      <th>User-ID</th>\n",
              "      <th>Book-Rating</th>\n",
              "    </tr>\n",
              "  </thead>\n",
              "  <tbody>\n",
              "    <tr>\n",
              "      <th>0</th>\n",
              "      <td>0195153448</td>\n",
              "      <td>Classical Mythology</td>\n",
              "      <td>Mark P. O. Morford</td>\n",
              "      <td>2002.0</td>\n",
              "      <td>Oxford University Press</td>\n",
              "      <td>http://images.amazon.com/images/P/0195153448.0...</td>\n",
              "      <td>http://images.amazon.com/images/P/0195153448.0...</td>\n",
              "      <td>http://images.amazon.com/images/P/0195153448.0...</td>\n",
              "      <td>2</td>\n",
              "      <td>0</td>\n",
              "    </tr>\n",
              "    <tr>\n",
              "      <th>1</th>\n",
              "      <td>0002005018</td>\n",
              "      <td>Clara Callan</td>\n",
              "      <td>Richard Bruce Wright</td>\n",
              "      <td>2001.0</td>\n",
              "      <td>HarperFlamingo Canada</td>\n",
              "      <td>http://images.amazon.com/images/P/0002005018.0...</td>\n",
              "      <td>http://images.amazon.com/images/P/0002005018.0...</td>\n",
              "      <td>http://images.amazon.com/images/P/0002005018.0...</td>\n",
              "      <td>8</td>\n",
              "      <td>5</td>\n",
              "    </tr>\n",
              "    <tr>\n",
              "      <th>2</th>\n",
              "      <td>0002005018</td>\n",
              "      <td>Clara Callan</td>\n",
              "      <td>Richard Bruce Wright</td>\n",
              "      <td>2001.0</td>\n",
              "      <td>HarperFlamingo Canada</td>\n",
              "      <td>http://images.amazon.com/images/P/0002005018.0...</td>\n",
              "      <td>http://images.amazon.com/images/P/0002005018.0...</td>\n",
              "      <td>http://images.amazon.com/images/P/0002005018.0...</td>\n",
              "      <td>11400</td>\n",
              "      <td>0</td>\n",
              "    </tr>\n",
              "  </tbody>\n",
              "</table>\n",
              "</div>\n",
              "      <button class=\"colab-df-convert\" onclick=\"convertToInteractive('df-0b0e4549-4fff-4b08-86e2-b0f40bf9e67f')\"\n",
              "              title=\"Convert this dataframe to an interactive table.\"\n",
              "              style=\"display:none;\">\n",
              "        \n",
              "  <svg xmlns=\"http://www.w3.org/2000/svg\" height=\"24px\"viewBox=\"0 0 24 24\"\n",
              "       width=\"24px\">\n",
              "    <path d=\"M0 0h24v24H0V0z\" fill=\"none\"/>\n",
              "    <path d=\"M18.56 5.44l.94 2.06.94-2.06 2.06-.94-2.06-.94-.94-2.06-.94 2.06-2.06.94zm-11 1L8.5 8.5l.94-2.06 2.06-.94-2.06-.94L8.5 2.5l-.94 2.06-2.06.94zm10 10l.94 2.06.94-2.06 2.06-.94-2.06-.94-.94-2.06-.94 2.06-2.06.94z\"/><path d=\"M17.41 7.96l-1.37-1.37c-.4-.4-.92-.59-1.43-.59-.52 0-1.04.2-1.43.59L10.3 9.45l-7.72 7.72c-.78.78-.78 2.05 0 2.83L4 21.41c.39.39.9.59 1.41.59.51 0 1.02-.2 1.41-.59l7.78-7.78 2.81-2.81c.8-.78.8-2.07 0-2.86zM5.41 20L4 18.59l7.72-7.72 1.47 1.35L5.41 20z\"/>\n",
              "  </svg>\n",
              "      </button>\n",
              "      \n",
              "  <style>\n",
              "    .colab-df-container {\n",
              "      display:flex;\n",
              "      flex-wrap:wrap;\n",
              "      gap: 12px;\n",
              "    }\n",
              "\n",
              "    .colab-df-convert {\n",
              "      background-color: #E8F0FE;\n",
              "      border: none;\n",
              "      border-radius: 50%;\n",
              "      cursor: pointer;\n",
              "      display: none;\n",
              "      fill: #1967D2;\n",
              "      height: 32px;\n",
              "      padding: 0 0 0 0;\n",
              "      width: 32px;\n",
              "    }\n",
              "\n",
              "    .colab-df-convert:hover {\n",
              "      background-color: #E2EBFA;\n",
              "      box-shadow: 0px 1px 2px rgba(60, 64, 67, 0.3), 0px 1px 3px 1px rgba(60, 64, 67, 0.15);\n",
              "      fill: #174EA6;\n",
              "    }\n",
              "\n",
              "    [theme=dark] .colab-df-convert {\n",
              "      background-color: #3B4455;\n",
              "      fill: #D2E3FC;\n",
              "    }\n",
              "\n",
              "    [theme=dark] .colab-df-convert:hover {\n",
              "      background-color: #434B5C;\n",
              "      box-shadow: 0px 1px 3px 1px rgba(0, 0, 0, 0.15);\n",
              "      filter: drop-shadow(0px 1px 2px rgba(0, 0, 0, 0.3));\n",
              "      fill: #FFFFFF;\n",
              "    }\n",
              "  </style>\n",
              "\n",
              "      <script>\n",
              "        const buttonEl =\n",
              "          document.querySelector('#df-0b0e4549-4fff-4b08-86e2-b0f40bf9e67f button.colab-df-convert');\n",
              "        buttonEl.style.display =\n",
              "          google.colab.kernel.accessAllowed ? 'block' : 'none';\n",
              "\n",
              "        async function convertToInteractive(key) {\n",
              "          const element = document.querySelector('#df-0b0e4549-4fff-4b08-86e2-b0f40bf9e67f');\n",
              "          const dataTable =\n",
              "            await google.colab.kernel.invokeFunction('convertToInteractive',\n",
              "                                                     [key], {});\n",
              "          if (!dataTable) return;\n",
              "\n",
              "          const docLinkHtml = 'Like what you see? Visit the ' +\n",
              "            '<a target=\"_blank\" href=https://colab.research.google.com/notebooks/data_table.ipynb>data table notebook</a>'\n",
              "            + ' to learn more about interactive tables.';\n",
              "          element.innerHTML = '';\n",
              "          dataTable['output_type'] = 'display_data';\n",
              "          await google.colab.output.renderOutput(dataTable, element);\n",
              "          const docLink = document.createElement('div');\n",
              "          docLink.innerHTML = docLinkHtml;\n",
              "          element.appendChild(docLink);\n",
              "        }\n",
              "      </script>\n",
              "    </div>\n",
              "  </div>\n",
              "  "
            ]
          },
          "metadata": {},
          "execution_count": 262
        }
      ]
    },
    {
      "cell_type": "markdown",
      "source": [
        "*  **Checking the percentage of books which have  0 rating**"
      ],
      "metadata": {
        "id": "AQ9lq9RaIYXZ"
      }
    },
    {
      "cell_type": "code",
      "source": [
        "print(f'there are {(len(df_books_rating[df_books_rating[\"Book-Rating\"]==0])/len(df_books_rating))*100} of the books which have 0 rating' )"
      ],
      "metadata": {
        "id": "bDANyx_8Fy-H",
        "colab": {
          "base_uri": "https://localhost:8080/"
        },
        "outputId": "00672a4f-d9c0-427e-f929-c6909d456d3e"
      },
      "execution_count": 263,
      "outputs": [
        {
          "output_type": "stream",
          "name": "stdout",
          "text": [
            "there are 62.77484250380163 of the books which have 0 rating\n"
          ]
        }
      ]
    },
    {
      "cell_type": "markdown",
      "source": [
        "*  **Droping some unnecessary columns and data**"
      ],
      "metadata": {
        "id": "zJNCi7ZIInGR"
      }
    },
    {
      "cell_type": "code",
      "source": [
        "df_books_rating_copy=df_books_rating.copy()\n",
        "# removing null values\n",
        "df_books_rating_copy.dropna(inplace=True)\n",
        "df_books_rating_copy.reset_index(drop=True,inplace=True)\n",
        "\n",
        "\n",
        "# as the columns ISBN has no use for the analysis also Year-Of-publication\n",
        "# we can also remove the medium and small scale of a image link i.e Image-URL-S and Image-URL-M\n",
        "df_books_rating_copy.drop(columns=[\"ISBN\",\"Year-Of-Publication\",\"Image-URL-S\",\"Image-URL-M\"],axis=1,inplace=True)\n",
        "\n",
        "# we can also drop the book details where the ratings is 0 as it is not a valid rating\n",
        "df_books_rating_copy.drop(index=df_books_rating_copy[df_books_rating_copy[\"Book-Rating\"]==0].index,inplace=True)\n",
        "\n",
        "df_books_rating_copy[\"Book-Title\"]=df_books_rating_copy[\"Book-Title\"].apply(lambda x: re.sub(\"[\\W_]+\",\" \",x).strip())\n",
        "df_books_rating_copy.head()"
      ],
      "metadata": {
        "id": "KDw_roS5991t",
        "colab": {
          "base_uri": "https://localhost:8080/",
          "height": 206
        },
        "outputId": "14b8b35c-76ca-4bad-ba10-33184057ab3d"
      },
      "execution_count": 264,
      "outputs": [
        {
          "output_type": "execute_result",
          "data": {
            "text/plain": [
              "     Book-Title           Book-Author              Publisher  \\\n",
              "1  Clara Callan  Richard Bruce Wright  HarperFlamingo Canada   \n",
              "3  Clara Callan  Richard Bruce Wright  HarperFlamingo Canada   \n",
              "5  Clara Callan  Richard Bruce Wright  HarperFlamingo Canada   \n",
              "8  Clara Callan  Richard Bruce Wright  HarperFlamingo Canada   \n",
              "9  Clara Callan  Richard Bruce Wright  HarperFlamingo Canada   \n",
              "\n",
              "                                         Image-URL-L  User-ID  Book-Rating  \n",
              "1  http://images.amazon.com/images/P/0002005018.0...        8            5  \n",
              "3  http://images.amazon.com/images/P/0002005018.0...    11676            8  \n",
              "5  http://images.amazon.com/images/P/0002005018.0...    67544            8  \n",
              "8  http://images.amazon.com/images/P/0002005018.0...   116866            9  \n",
              "9  http://images.amazon.com/images/P/0002005018.0...   123629            9  "
            ],
            "text/html": [
              "\n",
              "  <div id=\"df-8eb987fb-a6f4-4dac-88a9-67547bb1a482\">\n",
              "    <div class=\"colab-df-container\">\n",
              "      <div>\n",
              "<style scoped>\n",
              "    .dataframe tbody tr th:only-of-type {\n",
              "        vertical-align: middle;\n",
              "    }\n",
              "\n",
              "    .dataframe tbody tr th {\n",
              "        vertical-align: top;\n",
              "    }\n",
              "\n",
              "    .dataframe thead th {\n",
              "        text-align: right;\n",
              "    }\n",
              "</style>\n",
              "<table border=\"1\" class=\"dataframe\">\n",
              "  <thead>\n",
              "    <tr style=\"text-align: right;\">\n",
              "      <th></th>\n",
              "      <th>Book-Title</th>\n",
              "      <th>Book-Author</th>\n",
              "      <th>Publisher</th>\n",
              "      <th>Image-URL-L</th>\n",
              "      <th>User-ID</th>\n",
              "      <th>Book-Rating</th>\n",
              "    </tr>\n",
              "  </thead>\n",
              "  <tbody>\n",
              "    <tr>\n",
              "      <th>1</th>\n",
              "      <td>Clara Callan</td>\n",
              "      <td>Richard Bruce Wright</td>\n",
              "      <td>HarperFlamingo Canada</td>\n",
              "      <td>http://images.amazon.com/images/P/0002005018.0...</td>\n",
              "      <td>8</td>\n",
              "      <td>5</td>\n",
              "    </tr>\n",
              "    <tr>\n",
              "      <th>3</th>\n",
              "      <td>Clara Callan</td>\n",
              "      <td>Richard Bruce Wright</td>\n",
              "      <td>HarperFlamingo Canada</td>\n",
              "      <td>http://images.amazon.com/images/P/0002005018.0...</td>\n",
              "      <td>11676</td>\n",
              "      <td>8</td>\n",
              "    </tr>\n",
              "    <tr>\n",
              "      <th>5</th>\n",
              "      <td>Clara Callan</td>\n",
              "      <td>Richard Bruce Wright</td>\n",
              "      <td>HarperFlamingo Canada</td>\n",
              "      <td>http://images.amazon.com/images/P/0002005018.0...</td>\n",
              "      <td>67544</td>\n",
              "      <td>8</td>\n",
              "    </tr>\n",
              "    <tr>\n",
              "      <th>8</th>\n",
              "      <td>Clara Callan</td>\n",
              "      <td>Richard Bruce Wright</td>\n",
              "      <td>HarperFlamingo Canada</td>\n",
              "      <td>http://images.amazon.com/images/P/0002005018.0...</td>\n",
              "      <td>116866</td>\n",
              "      <td>9</td>\n",
              "    </tr>\n",
              "    <tr>\n",
              "      <th>9</th>\n",
              "      <td>Clara Callan</td>\n",
              "      <td>Richard Bruce Wright</td>\n",
              "      <td>HarperFlamingo Canada</td>\n",
              "      <td>http://images.amazon.com/images/P/0002005018.0...</td>\n",
              "      <td>123629</td>\n",
              "      <td>9</td>\n",
              "    </tr>\n",
              "  </tbody>\n",
              "</table>\n",
              "</div>\n",
              "      <button class=\"colab-df-convert\" onclick=\"convertToInteractive('df-8eb987fb-a6f4-4dac-88a9-67547bb1a482')\"\n",
              "              title=\"Convert this dataframe to an interactive table.\"\n",
              "              style=\"display:none;\">\n",
              "        \n",
              "  <svg xmlns=\"http://www.w3.org/2000/svg\" height=\"24px\"viewBox=\"0 0 24 24\"\n",
              "       width=\"24px\">\n",
              "    <path d=\"M0 0h24v24H0V0z\" fill=\"none\"/>\n",
              "    <path d=\"M18.56 5.44l.94 2.06.94-2.06 2.06-.94-2.06-.94-.94-2.06-.94 2.06-2.06.94zm-11 1L8.5 8.5l.94-2.06 2.06-.94-2.06-.94L8.5 2.5l-.94 2.06-2.06.94zm10 10l.94 2.06.94-2.06 2.06-.94-2.06-.94-.94-2.06-.94 2.06-2.06.94z\"/><path d=\"M17.41 7.96l-1.37-1.37c-.4-.4-.92-.59-1.43-.59-.52 0-1.04.2-1.43.59L10.3 9.45l-7.72 7.72c-.78.78-.78 2.05 0 2.83L4 21.41c.39.39.9.59 1.41.59.51 0 1.02-.2 1.41-.59l7.78-7.78 2.81-2.81c.8-.78.8-2.07 0-2.86zM5.41 20L4 18.59l7.72-7.72 1.47 1.35L5.41 20z\"/>\n",
              "  </svg>\n",
              "      </button>\n",
              "      \n",
              "  <style>\n",
              "    .colab-df-container {\n",
              "      display:flex;\n",
              "      flex-wrap:wrap;\n",
              "      gap: 12px;\n",
              "    }\n",
              "\n",
              "    .colab-df-convert {\n",
              "      background-color: #E8F0FE;\n",
              "      border: none;\n",
              "      border-radius: 50%;\n",
              "      cursor: pointer;\n",
              "      display: none;\n",
              "      fill: #1967D2;\n",
              "      height: 32px;\n",
              "      padding: 0 0 0 0;\n",
              "      width: 32px;\n",
              "    }\n",
              "\n",
              "    .colab-df-convert:hover {\n",
              "      background-color: #E2EBFA;\n",
              "      box-shadow: 0px 1px 2px rgba(60, 64, 67, 0.3), 0px 1px 3px 1px rgba(60, 64, 67, 0.15);\n",
              "      fill: #174EA6;\n",
              "    }\n",
              "\n",
              "    [theme=dark] .colab-df-convert {\n",
              "      background-color: #3B4455;\n",
              "      fill: #D2E3FC;\n",
              "    }\n",
              "\n",
              "    [theme=dark] .colab-df-convert:hover {\n",
              "      background-color: #434B5C;\n",
              "      box-shadow: 0px 1px 3px 1px rgba(0, 0, 0, 0.15);\n",
              "      filter: drop-shadow(0px 1px 2px rgba(0, 0, 0, 0.3));\n",
              "      fill: #FFFFFF;\n",
              "    }\n",
              "  </style>\n",
              "\n",
              "      <script>\n",
              "        const buttonEl =\n",
              "          document.querySelector('#df-8eb987fb-a6f4-4dac-88a9-67547bb1a482 button.colab-df-convert');\n",
              "        buttonEl.style.display =\n",
              "          google.colab.kernel.accessAllowed ? 'block' : 'none';\n",
              "\n",
              "        async function convertToInteractive(key) {\n",
              "          const element = document.querySelector('#df-8eb987fb-a6f4-4dac-88a9-67547bb1a482');\n",
              "          const dataTable =\n",
              "            await google.colab.kernel.invokeFunction('convertToInteractive',\n",
              "                                                     [key], {});\n",
              "          if (!dataTable) return;\n",
              "\n",
              "          const docLinkHtml = 'Like what you see? Visit the ' +\n",
              "            '<a target=\"_blank\" href=https://colab.research.google.com/notebooks/data_table.ipynb>data table notebook</a>'\n",
              "            + ' to learn more about interactive tables.';\n",
              "          element.innerHTML = '';\n",
              "          dataTable['output_type'] = 'display_data';\n",
              "          await google.colab.output.renderOutput(dataTable, element);\n",
              "          const docLink = document.createElement('div');\n",
              "          docLink.innerHTML = docLinkHtml;\n",
              "          element.appendChild(docLink);\n",
              "        }\n",
              "      </script>\n",
              "    </div>\n",
              "  </div>\n",
              "  "
            ]
          },
          "metadata": {},
          "execution_count": 264
        }
      ]
    },
    {
      "cell_type": "markdown",
      "source": [
        "## ***4. Data Vizualization, Storytelling & Experimenting with charts : Understand the relationships between variables***"
      ],
      "metadata": {
        "id": "GF8Ens_Soomf"
      }
    },
    {
      "cell_type": "markdown",
      "source": [
        "#### Chart - 1"
      ],
      "metadata": {
        "id": "0wOQAZs5pc--"
      }
    },
    {
      "cell_type": "markdown",
      "source": [
        "### **Top 20 author with number of books**"
      ],
      "metadata": {
        "id": "oIEKESxjiEhh"
      }
    },
    {
      "cell_type": "code",
      "source": [
        "\n",
        "# Chart - 1 visualization code\n",
        "plt.figure(figsize=(12,6))\n",
        "sns.countplot(y=\"Book-Author\",palette = 'Paired', data=df_books,order=df_books['Book-Author'].value_counts().index[0:20])\n",
        "plt.title(\"Top 20 author with number of books\")"
      ],
      "metadata": {
        "id": "7v_ESjsspbW7",
        "colab": {
          "base_uri": "https://localhost:8080/",
          "height": 422
        },
        "outputId": "56062db7-bae2-49a9-eebf-082efb13ac7b"
      },
      "execution_count": 265,
      "outputs": [
        {
          "output_type": "execute_result",
          "data": {
            "text/plain": [
              "Text(0.5, 1.0, 'Top 20 author with number of books')"
            ]
          },
          "metadata": {},
          "execution_count": 265
        },
        {
          "output_type": "display_data",
          "data": {
            "text/plain": [
              "<Figure size 864x432 with 1 Axes>"
            ],
            "image/png": "[encoded data removed]"
          },
          "metadata": {
            "needs_background": "light"
          }
        }
      ]
    },
    {
      "cell_type": "markdown",
      "source": [
        "##### 1. Why did you pick the specific chart?"
      ],
      "metadata": {
        "id": "K5QZ13OEpz2H"
      }
    },
    {
      "cell_type": "markdown",
      "source": [
        "*  To get the top 20 Author with number of Books\n"
      ],
      "metadata": {
        "id": "XESiWehPqBRc"
      }
    },
    {
      "cell_type": "markdown",
      "source": [
        "##### 2. What is/are the insight(s) found from the chart?"
      ],
      "metadata": {
        "id": "lQ7QKXXCp7Bj"
      }
    },
    {
      "cell_type": "markdown",
      "source": [
        "* Based on this dataset Agatha Christie released maximums books .Followed by William Shakespeare and Stephen King are 2nd and 3rd most Authors who have relased maximum books."
      ],
      "metadata": {
        "id": "C_j1G7yiqdRP"
      }
    },
    {
      "cell_type": "markdown",
      "source": [
        "#### Chart - 2"
      ],
      "metadata": {
        "id": "KSlN3yHqYklG"
      }
    },
    {
      "cell_type": "code",
      "source": [
        "# Chart - 2 visualization code\n",
        "# plotting the rating column distribusion\n",
        "plt.figure(figsize=(12,8))\n",
        "sns.countplot(x=\"Book-Rating\", data=df_ratings)\n",
        "plt.title(\"Ratings\")"
      ],
      "metadata": {
        "id": "R4YgtaqtYklH",
        "colab": {
          "base_uri": "https://localhost:8080/",
          "height": 531
        },
        "outputId": "5f1cbf7b-bf51-4cd3-f4b1-c024dbd0225e"
      },
      "execution_count": 266,
      "outputs": [
        {
          "output_type": "execute_result",
          "data": {
            "text/plain": [
              "Text(0.5, 1.0, 'Ratings')"
            ]
          },
          "metadata": {},
          "execution_count": 266
        },
        {
          "output_type": "display_data",
          "data": {
            "text/plain": [
              "<Figure size 864x576 with 1 Axes>"
            ],
            "image/png": "[encoded data removed]"
          },
          "metadata": {
            "needs_background": "light"
          }
        }
      ]
    },
    {
      "cell_type": "markdown",
      "source": [
        "##### 1. Why did you pick the specific chart?"
      ],
      "metadata": {
        "id": "t6dVpIINYklI"
      }
    },
    {
      "cell_type": "markdown",
      "source": [
        "* To study the distribustion of Rating"
      ],
      "metadata": {
        "id": "5aaW0BYyYklI"
      }
    },
    {
      "cell_type": "markdown",
      "source": [
        "##### 2. What is/are the insight(s) found from the chart?"
      ],
      "metadata": {
        "id": "ijmpgYnKYklI"
      }
    },
    {
      "cell_type": "markdown",
      "source": [
        "*  Most of the books have 0 rating . As might be most of the books were not read , or not recorded its ratings . So during the time of dataset preparation they might have explicitly filled with zeros\n",
        "\n",
        "\n",
        "* If we ignore this 0 ratings then 8 is the most common rating given by users out of 10"
      ],
      "metadata": {
        "id": "PSx9atu2YklI"
      }
    },
    {
      "cell_type": "markdown",
      "source": [
        "#### Chart - 3"
      ],
      "metadata": {
        "id": "EM7whBJCYoAo"
      }
    },
    {
      "cell_type": "markdown",
      "source": [
        "### **Top 10 Books with highest nuumber of ratings**"
      ],
      "metadata": {
        "id": "wsXpJhr2EHej"
      }
    },
    {
      "cell_type": "code",
      "source": [
        "# Chart - 3 visualization code\n",
        "valid_rating=df_ratings[df_ratings['Book-Rating'] != 0]\n",
        "top10_ratings=valid_rating.groupby('ISBN')['Book-Rating'].count().sort_values(ascending=False).head(10)\n",
        "top10_ratings"
      ],
      "metadata": {
        "id": "t6GMdE67YoAp",
        "colab": {
          "base_uri": "https://localhost:8080/"
        },
        "outputId": "0ffcc930-c626-42cc-fe00-7f798f94832f"
      },
      "execution_count": 267,
      "outputs": [
        {
          "output_type": "execute_result",
          "data": {
            "text/plain": [
              "ISBN\n",
              "0316666343    707\n",
              "0971880107    581\n",
              "0385504209    487\n",
              "0312195516    383\n",
              "0679781587    333\n",
              "0060928336    320\n",
              "059035342X    313\n",
              "0142001740    307\n",
              "0446672211    295\n",
              "044023722X    281\n",
              "Name: Book-Rating, dtype: int64"
            ]
          },
          "metadata": {},
          "execution_count": 267
        }
      ]
    },
    {
      "cell_type": "markdown",
      "source": [
        "#### Chart - 4"
      ],
      "metadata": {
        "id": "4Of9eVA-YrdM"
      }
    },
    {
      "cell_type": "markdown",
      "source": [
        "### **Users Age distribution**"
      ],
      "metadata": {
        "id": "D6_Wx7Z0IRQd"
      }
    },
    {
      "cell_type": "code",
      "source": [
        "# Chart - 4 visualization code\n",
        "# Checking data distribution from distplot\n",
        "sns.distplot(df_users.Age)\n",
        "plt.title('Age Distribution Plot')"
      ],
      "metadata": {
        "id": "irlUoxc8YrdO",
        "colab": {
          "base_uri": "https://localhost:8080/",
          "height": 313
        },
        "outputId": "9b9f2ed8-2e4a-43ed-e026-892a42603379"
      },
      "execution_count": 268,
      "outputs": [
        {
          "output_type": "execute_result",
          "data": {
            "text/plain": [
              "Text(0.5, 1.0, 'Age Distribution Plot')"
            ]
          },
          "metadata": {},
          "execution_count": 268
        },
        {
          "output_type": "display_data",
          "data": {
            "text/plain": [
              "<Figure size 432x288 with 1 Axes>"
            ],
            "image/png": "[encoded data removed]"
          },
          "metadata": {
            "needs_background": "light"
          }
        }
      ]
    },
    {
      "cell_type": "markdown",
      "source": [
        "##### 1. Why did you pick the specific chart?"
      ],
      "metadata": {
        "id": "iky9q4vBYrdO"
      }
    },
    {
      "cell_type": "markdown",
      "source": [
        "* To study the distriution of Age"
      ],
      "metadata": {
        "id": "aJRCwT6DYrdO"
      }
    },
    {
      "cell_type": "markdown",
      "source": [
        "##### 2. What is/are the insight(s) found from the chart?"
      ],
      "metadata": {
        "id": "F6T5p64dYrdO"
      }
    },
    {
      "cell_type": "markdown",
      "source": [
        "* Age is postively skewed it may contain outliers also we have some age as 0 , which might be explicity filled for the users who hadn't reported their age"
      ],
      "metadata": {
        "id": "Xx8WAJvtYrdO"
      }
    },
    {
      "cell_type": "markdown",
      "source": [
        "#### Chart - 5"
      ],
      "metadata": {
        "id": "bamQiAODYuh1"
      }
    },
    {
      "cell_type": "markdown",
      "source": [
        "### **Checking Outliers for the Users Age column**"
      ],
      "metadata": {
        "id": "r2SUthhuJt1k"
      }
    },
    {
      "cell_type": "code",
      "source": [
        "# Chart - 5 visualization code\n",
        "fig = plt.figure(figsize=(6,4))\n",
        "sns.boxplot(x='Age',data=df_users)"
      ],
      "metadata": {
        "id": "TIJwrbroYuh3",
        "colab": {
          "base_uri": "https://localhost:8080/",
          "height": 297
        },
        "outputId": "2958f482-64ec-4bf9-9571-dccd5fd40e7c"
      },
      "execution_count": 269,
      "outputs": [
        {
          "output_type": "execute_result",
          "data": {
            "text/plain": [
              "<matplotlib.axes._subplots.AxesSubplot at 0x7f4c1eb2b4c0>"
            ]
          },
          "metadata": {},
          "execution_count": 269
        },
        {
          "output_type": "display_data",
          "data": {
            "text/plain": [
              "<Figure size 432x288 with 1 Axes>"
            ],
            "image/png": "[encoded data removed]"
          },
          "metadata": {
            "needs_background": "light"
          }
        }
      ]
    },
    {
      "cell_type": "markdown",
      "source": [
        "##### 1. Why did you pick the specific chart?"
      ],
      "metadata": {
        "id": "QHF8YVU7Yuh3"
      }
    },
    {
      "cell_type": "markdown",
      "source": [
        "* To check the outliers in the age column"
      ],
      "metadata": {
        "id": "dcxuIMRPYuh3"
      }
    },
    {
      "cell_type": "markdown",
      "source": [
        "##### 2. What is/are the insight(s) found from the chart?"
      ],
      "metadata": {
        "id": "GwzvFGzlYuh3"
      }
    },
    {
      "cell_type": "markdown",
      "source": [
        "* We can notice that there are some outliers for age column"
      ],
      "metadata": {
        "id": "uyqkiB8YYuh3"
      }
    },
    {
      "cell_type": "markdown",
      "source": [
        "#### Chart - 6"
      ],
      "metadata": {
        "id": "OH-pJp9IphqM"
      }
    },
    {
      "cell_type": "code",
      "source": [
        "# Chart - 6 visualization code\n",
        "plt.figure(figsize=(12,6))\n",
        "sns.countplot(y=\"Book-Author\",palette = 'Paired', data=df_books_rating_copy,order=df_books_rating_copy['Book-Author'].value_counts().index[0:20])\n",
        "plt.title(\"Top 20 author with maximum number of rating\")"
      ],
      "metadata": {
        "id": "kuRf4wtuphqN",
        "colab": {
          "base_uri": "https://localhost:8080/",
          "height": 422
        },
        "outputId": "4fdd0b4c-1c05-442f-d82d-e49cab6d9c6b"
      },
      "execution_count": 270,
      "outputs": [
        {
          "output_type": "execute_result",
          "data": {
            "text/plain": [
              "Text(0.5, 1.0, 'Top 20 author with maximum number of rating')"
            ]
          },
          "metadata": {},
          "execution_count": 270
        },
        {
          "output_type": "display_data",
          "data": {
            "text/plain": [
              "<Figure size 864x432 with 1 Axes>"
            ],
            "image/png": "[encoded data removed]"
          },
          "metadata": {
            "needs_background": "light"
          }
        }
      ]
    },
    {
      "cell_type": "markdown",
      "source": [
        "##### 1. Why did you pick the specific chart?"
      ],
      "metadata": {
        "id": "bbFf2-_FphqN"
      }
    },
    {
      "cell_type": "markdown",
      "source": [
        "* To study the Authors who got highest number of votes or ratings"
      ],
      "metadata": {
        "id": "loh7H2nzphqN"
      }
    },
    {
      "cell_type": "markdown",
      "source": [
        "##### 2. What is/are the insight(s) found from the chart?"
      ],
      "metadata": {
        "id": "_ouA3fa0phqN"
      }
    },
    {
      "cell_type": "markdown",
      "source": [
        "* As per this dataset Stephen King is the Author who got maximum number of ratings by the users"
      ],
      "metadata": {
        "id": "VECbqPI7phqN"
      }
    },
    {
      "cell_type": "markdown",
      "source": [
        "#### Chart - 7"
      ],
      "metadata": {
        "id": "PIIx-8_IphqN"
      }
    },
    {
      "cell_type": "markdown",
      "source": [
        "### **Top 10 books which got highest numbers of rating**"
      ],
      "metadata": {
        "id": "_kH_Roe7DdvR"
      }
    },
    {
      "cell_type": "code",
      "source": [
        "# Chart - 7 visualization code\n",
        "df_books_rating_copy.groupby(['Book-Title'])['Book-Rating'].count().sort_values(ascending=False).head(10).plot(kind='bar')"
      ],
      "metadata": {
        "id": "lqAIGUfyphqO",
        "colab": {
          "base_uri": "https://localhost:8080/",
          "height": 517
        },
        "outputId": "2bec3eb6-6f6a-45b3-c065-b6126820b799"
      },
      "execution_count": 271,
      "outputs": [
        {
          "output_type": "execute_result",
          "data": {
            "text/plain": [
              "<matplotlib.axes._subplots.AxesSubplot at 0x7f4c1ecfe7c0>"
            ]
          },
          "metadata": {},
          "execution_count": 271
        },
        {
          "output_type": "display_data",
          "data": {
            "text/plain": [
              "<Figure size 432x288 with 1 Axes>"
            ],
            "image/png": "[encoded data removed]"
          },
          "metadata": {
            "needs_background": "light"
          }
        }
      ]
    },
    {
      "cell_type": "markdown",
      "source": [
        "##### 1. Why did you pick the specific chart?"
      ],
      "metadata": {
        "id": "t27r6nlMphqO"
      }
    },
    {
      "cell_type": "markdown",
      "source": [
        "* To study the highest rated Books"
      ],
      "metadata": {
        "id": "iv6ro40sphqO"
      }
    },
    {
      "cell_type": "markdown",
      "source": [
        "##### 2. What is/are the insight(s) found from the chart?"
      ],
      "metadata": {
        "id": "r2jJGEOYphqO"
      }
    },
    {
      "cell_type": "markdown",
      "source": [
        "* Top-10 most rated books were essentially novels. Books like The Lovely Bone and Wild Animus were very famous"
      ],
      "metadata": {
        "id": "Po6ZPi4hphqO"
      }
    },
    {
      "cell_type": "markdown",
      "source": [
        "#### Chart - 8"
      ],
      "metadata": {
        "id": "BZR9WyysphqO"
      }
    },
    {
      "cell_type": "markdown",
      "source": [
        "### **Top 10 publishers with maximum number of ratings**"
      ],
      "metadata": {
        "id": "mLdkTkbIDwiw"
      }
    },
    {
      "cell_type": "code",
      "source": [
        "df_books.columns"
      ],
      "metadata": {
        "id": "WPc9OeFrOibd",
        "colab": {
          "base_uri": "https://localhost:8080/"
        },
        "outputId": "f3faa50c-27c3-4d98-ebc0-80d568e01adc"
      },
      "execution_count": 272,
      "outputs": [
        {
          "output_type": "execute_result",
          "data": {
            "text/plain": [
              "Index(['ISBN', 'Book-Title', 'Book-Author', 'Year-Of-Publication', 'Publisher',\n",
              "       'Image-URL-S', 'Image-URL-M', 'Image-URL-L'],\n",
              "      dtype='object')"
            ]
          },
          "metadata": {},
          "execution_count": 272
        }
      ]
    },
    {
      "cell_type": "code",
      "source": [
        "# Chart - 8 visualization code\n",
        "plt.figure(figsize=(12,6))\n",
        "sns.countplot(y='Publisher',palette = 'Paired', data=df_books,order=df_books['Publisher'].value_counts().index[0:10])\n",
        "plt.title(\"Top 10 'Publisher' with maximum number of rating\")"
      ],
      "metadata": {
        "id": "TdPTWpAVphqO",
        "colab": {
          "base_uri": "https://localhost:8080/",
          "height": 422
        },
        "outputId": "7d5e9e89-2a5d-4dd7-b265-3db8f12f86f1"
      },
      "execution_count": 273,
      "outputs": [
        {
          "output_type": "execute_result",
          "data": {
            "text/plain": [
              "Text(0.5, 1.0, \"Top 10 'Publisher' with maximum number of rating\")"
            ]
          },
          "metadata": {},
          "execution_count": 273
        },
        {
          "output_type": "display_data",
          "data": {
            "text/plain": [
              "<Figure size 864x432 with 1 Axes>"
            ],
            "image/png": "[encoded data removed]"
          },
          "metadata": {
            "needs_background": "light"
          }
        }
      ]
    },
    {
      "cell_type": "markdown",
      "source": [
        "##### 1. Why did you pick the specific chart?"
      ],
      "metadata": {
        "id": "jj7wYXLtphqO"
      }
    },
    {
      "cell_type": "markdown",
      "source": [
        "* To study the Publishers who have got most ratings"
      ],
      "metadata": {
        "id": "Ob8u6rCTphqO"
      }
    },
    {
      "cell_type": "markdown",
      "source": [
        "##### 2. What is/are the insight(s) found from the chart?"
      ],
      "metadata": {
        "id": "eZrbJ2SmphqO"
      }
    },
    {
      "cell_type": "markdown",
      "source": [
        "* Most of the books were  pulblised by Hariequin, Silhouette and Pocket"
      ],
      "metadata": {
        "id": "mZtgC_hjphqO"
      }
    },
    {
      "cell_type": "markdown",
      "source": [
        "### 1. Handling Missing Values"
      ],
      "metadata": {
        "id": "xiyOF9F70UgQ"
      }
    },
    {
      "cell_type": "code",
      "source": [
        "# Handling Missing Values & Missing Value Imputation\n",
        "# filling null values of the age column of users data\n",
        "# as age contains outliers so we can use median\n",
        "df_users[\"Age\"].fillna(df_users.Age.median(),inplace=True)"
      ],
      "metadata": {
        "id": "iRsAHk1K0fpS"
      },
      "execution_count": 274,
      "outputs": []
    },
    {
      "cell_type": "code",
      "source": [
        "# checking the unique values of year of publication\n",
        "df_books['Year-Of-Publication'].unique()"
      ],
      "metadata": {
        "id": "p-uwvNFuWXj7",
        "colab": {
          "base_uri": "https://localhost:8080/"
        },
        "outputId": "c167eb3a-d98f-420e-8157-2b62c2675bbc"
      },
      "execution_count": 275,
      "outputs": [
        {
          "output_type": "execute_result",
          "data": {
            "text/plain": [
              "array([2002., 2001., 1991., 1999., 2000., 1993., 1996., 1988., 2004.,\n",
              "       1998., 1994., 2003., 1997., 1983., 1979., 1995., 1982., 1985.,\n",
              "       1992., 1986., 1978., 1980., 1952., 1987., 1990., 1981., 1989.,\n",
              "       1984., 1968., 1961., 1958., 1974., 1976., 1971., 1977., 1975.,\n",
              "       1965., 1941., 1970., 1962., 1973., 1972., 1960., 1966., 1920.,\n",
              "       1956., 1959., 1953., 1951., 1942., 1963., 1964., 1969., 1954.,\n",
              "       1950., 1967., 2005., 1957., 1940., 1937., 1955., 1946., 1936.,\n",
              "       1930., 2011., 1925., 1948., 1943., 1947., 1945., 1923., 2020.,\n",
              "       1939., 1926., 1938., 1911., 1904., 1949., 1932., 1928., 1929.,\n",
              "       1927., 1931., 1914., 1934., 1910., 1933., 1902., 1924., 1921.,\n",
              "       1900., 1944., 1917., 1901., 2010., 1908., 1906., 1935., 1806.,\n",
              "       2021., 2012., 2006., 1909., 2008., 1378., 1919., 1922., 1897.,\n",
              "       1376.])"
            ]
          },
          "metadata": {},
          "execution_count": 275
        }
      ]
    },
    {
      "cell_type": "markdown",
      "source": [
        "* There are values such as 'DK Publishing Inc' and 'Gallimard' which are in text form \n",
        "\n",
        "* There are values such as 0 for the year-of-publication column\n",
        "\n",
        "\n",
        "\n",
        "\n",
        "\n"
      ],
      "metadata": {
        "id": "RRjkAiOMYPkh"
      }
    },
    {
      "cell_type": "code",
      "source": [
        "# checking the data where the 'Year-Of-Publication' is 'DK Publishing Inc'\n",
        "df_books.loc[df_books['Year-Of-Publication'] == 'DK Publishing Inc',:]"
      ],
      "metadata": {
        "id": "99tOKKeIYzUK",
        "colab": {
          "base_uri": "https://localhost:8080/",
          "height": 49
        },
        "outputId": "29376d22-47c6-4947-fa74-4099edfcf900"
      },
      "execution_count": 276,
      "outputs": [
        {
          "output_type": "execute_result",
          "data": {
            "text/plain": [
              "Empty DataFrame\n",
              "Columns: [ISBN, Book-Title, Book-Author, Year-Of-Publication, Publisher, Image-URL-S, Image-URL-M, Image-URL-L]\n",
              "Index: []"
            ],
            "text/html": [
              "\n",
              "  <div id=\"df-f822e2fc-3cbe-455e-87bf-4a673714b1c1\">\n",
              "    <div class=\"colab-df-container\">\n",
              "      <div>\n",
              "<style scoped>\n",
              "    .dataframe tbody tr th:only-of-type {\n",
              "        vertical-align: middle;\n",
              "    }\n",
              "\n",
              "    .dataframe tbody tr th {\n",
              "        vertical-align: top;\n",
              "    }\n",
              "\n",
              "    .dataframe thead th {\n",
              "        text-align: right;\n",
              "    }\n",
              "</style>\n",
              "<table border=\"1\" class=\"dataframe\">\n",
              "  <thead>\n",
              "    <tr style=\"text-align: right;\">\n",
              "      <th></th>\n",
              "      <th>ISBN</th>\n",
              "      <th>Book-Title</th>\n",
              "      <th>Book-Author</th>\n",
              "      <th>Year-Of-Publication</th>\n",
              "      <th>Publisher</th>\n",
              "      <th>Image-URL-S</th>\n",
              "      <th>Image-URL-M</th>\n",
              "      <th>Image-URL-L</th>\n",
              "    </tr>\n",
              "  </thead>\n",
              "  <tbody>\n",
              "  </tbody>\n",
              "</table>\n",
              "</div>\n",
              "      <button class=\"colab-df-convert\" onclick=\"convertToInteractive('df-f822e2fc-3cbe-455e-87bf-4a673714b1c1')\"\n",
              "              title=\"Convert this dataframe to an interactive table.\"\n",
              "              style=\"display:none;\">\n",
              "        \n",
              "  <svg xmlns=\"http://www.w3.org/2000/svg\" height=\"24px\"viewBox=\"0 0 24 24\"\n",
              "       width=\"24px\">\n",
              "    <path d=\"M0 0h24v24H0V0z\" fill=\"none\"/>\n",
              "    <path d=\"M18.56 5.44l.94 2.06.94-2.06 2.06-.94-2.06-.94-.94-2.06-.94 2.06-2.06.94zm-11 1L8.5 8.5l.94-2.06 2.06-.94-2.06-.94L8.5 2.5l-.94 2.06-2.06.94zm10 10l.94 2.06.94-2.06 2.06-.94-2.06-.94-.94-2.06-.94 2.06-2.06.94z\"/><path d=\"M17.41 7.96l-1.37-1.37c-.4-.4-.92-.59-1.43-.59-.52 0-1.04.2-1.43.59L10.3 9.45l-7.72 7.72c-.78.78-.78 2.05 0 2.83L4 21.41c.39.39.9.59 1.41.59.51 0 1.02-.2 1.41-.59l7.78-7.78 2.81-2.81c.8-.78.8-2.07 0-2.86zM5.41 20L4 18.59l7.72-7.72 1.47 1.35L5.41 20z\"/>\n",
              "  </svg>\n",
              "      </button>\n",
              "      \n",
              "  <style>\n",
              "    .colab-df-container {\n",
              "      display:flex;\n",
              "      flex-wrap:wrap;\n",
              "      gap: 12px;\n",
              "    }\n",
              "\n",
              "    .colab-df-convert {\n",
              "      background-color: #E8F0FE;\n",
              "      border: none;\n",
              "      border-radius: 50%;\n",
              "      cursor: pointer;\n",
              "      display: none;\n",
              "      fill: #1967D2;\n",
              "      height: 32px;\n",
              "      padding: 0 0 0 0;\n",
              "      width: 32px;\n",
              "    }\n",
              "\n",
              "    .colab-df-convert:hover {\n",
              "      background-color: #E2EBFA;\n",
              "      box-shadow: 0px 1px 2px rgba(60, 64, 67, 0.3), 0px 1px 3px 1px rgba(60, 64, 67, 0.15);\n",
              "      fill: #174EA6;\n",
              "    }\n",
              "\n",
              "    [theme=dark] .colab-df-convert {\n",
              "      background-color: #3B4455;\n",
              "      fill: #D2E3FC;\n",
              "    }\n",
              "\n",
              "    [theme=dark] .colab-df-convert:hover {\n",
              "      background-color: #434B5C;\n",
              "      box-shadow: 0px 1px 3px 1px rgba(0, 0, 0, 0.15);\n",
              "      filter: drop-shadow(0px 1px 2px rgba(0, 0, 0, 0.3));\n",
              "      fill: #FFFFFF;\n",
              "    }\n",
              "  </style>\n",
              "\n",
              "      <script>\n",
              "        const buttonEl =\n",
              "          document.querySelector('#df-f822e2fc-3cbe-455e-87bf-4a673714b1c1 button.colab-df-convert');\n",
              "        buttonEl.style.display =\n",
              "          google.colab.kernel.accessAllowed ? 'block' : 'none';\n",
              "\n",
              "        async function convertToInteractive(key) {\n",
              "          const element = document.querySelector('#df-f822e2fc-3cbe-455e-87bf-4a673714b1c1');\n",
              "          const dataTable =\n",
              "            await google.colab.kernel.invokeFunction('convertToInteractive',\n",
              "                                                     [key], {});\n",
              "          if (!dataTable) return;\n",
              "\n",
              "          const docLinkHtml = 'Like what you see? Visit the ' +\n",
              "            '<a target=\"_blank\" href=https://colab.research.google.com/notebooks/data_table.ipynb>data table notebook</a>'\n",
              "            + ' to learn more about interactive tables.';\n",
              "          element.innerHTML = '';\n",
              "          dataTable['output_type'] = 'display_data';\n",
              "          await google.colab.output.renderOutput(dataTable, element);\n",
              "          const docLink = document.createElement('div');\n",
              "          docLink.innerHTML = docLinkHtml;\n",
              "          element.appendChild(docLink);\n",
              "        }\n",
              "      </script>\n",
              "    </div>\n",
              "  </div>\n",
              "  "
            ]
          },
          "metadata": {},
          "execution_count": 276
        }
      ]
    },
    {
      "cell_type": "markdown",
      "source": [
        "* We can notice that the Book-Author ,Year-of-Publication , Book-Author and Publisher columns are exchanged with each others and publication column contain image links\n",
        "\n",
        "* we need to find the Book-Author on our own for the book DK Readers: Creating the X-Men, How It All Beg.. and DK Readers: Creating the X-Men, How Comic Book.."
      ],
      "metadata": {
        "id": "4gcJ5Cc1ZQbP"
      }
    },
    {
      "cell_type": "code",
      "source": [
        "#Fixing the wrongly inputed values \n",
        "#ISBN '0789466953'\n",
        "df_books.loc[df_books.ISBN == '0789466953','Year-Of-Publication'] = 2000\n",
        "df_books.loc[df_books.ISBN == '0789466953','Book-Author'] = \"James Buckley\" # this we gathered from the google \n",
        "df_books.loc[df_books.ISBN == '0789466953','Publisher'] = \"DK Publishing Inc\"\n",
        "df_books.loc[df_books.ISBN == '0789466953','Book-Title'] = \"DK Readers: Creating the X-Men, How Comic Books Come to Life (Level 4: Proficient Readers)\"\n",
        "\n",
        "#ISBN '078946697X'\n",
        "df_books.loc[df_books.ISBN == '078946697X','Year-Of-Publication'] = 2000\n",
        "df_books.loc[df_books.ISBN == '078946697X','Book-Author'] = \"Michael Teitelbaum\" # this we gathered from the google\n",
        "df_books.loc[df_books.ISBN == '078946697X','Publisher'] = \"DK Publishing Inc\"\n",
        "df_books.loc[df_books.ISBN == '078946697X','Book-Title'] = \"DK Readers: Creating the X-Men, How It All Began (Level 4: Proficient Readers)\"\n"
      ],
      "metadata": {
        "id": "q9eXWRNpZeuj"
      },
      "execution_count": 277,
      "outputs": []
    },
    {
      "cell_type": "code",
      "source": [
        "# checking for the Gallimard\n",
        "df_books.loc[df_books['Year-Of-Publication'] == 'Gallimard',:]"
      ],
      "metadata": {
        "id": "GH32OAsjbBLz",
        "colab": {
          "base_uri": "https://localhost:8080/",
          "height": 49
        },
        "outputId": "60a85e56-941b-4b13-fc4b-7ca9e300467e"
      },
      "execution_count": 278,
      "outputs": [
        {
          "output_type": "execute_result",
          "data": {
            "text/plain": [
              "Empty DataFrame\n",
              "Columns: [ISBN, Book-Title, Book-Author, Year-Of-Publication, Publisher, Image-URL-S, Image-URL-M, Image-URL-L]\n",
              "Index: []"
            ],
            "text/html": [
              "\n",
              "  <div id=\"df-63fb2b22-753b-4e42-acf3-9f8aa7e6c7d1\">\n",
              "    <div class=\"colab-df-container\">\n",
              "      <div>\n",
              "<style scoped>\n",
              "    .dataframe tbody tr th:only-of-type {\n",
              "        vertical-align: middle;\n",
              "    }\n",
              "\n",
              "    .dataframe tbody tr th {\n",
              "        vertical-align: top;\n",
              "    }\n",
              "\n",
              "    .dataframe thead th {\n",
              "        text-align: right;\n",
              "    }\n",
              "</style>\n",
              "<table border=\"1\" class=\"dataframe\">\n",
              "  <thead>\n",
              "    <tr style=\"text-align: right;\">\n",
              "      <th></th>\n",
              "      <th>ISBN</th>\n",
              "      <th>Book-Title</th>\n",
              "      <th>Book-Author</th>\n",
              "      <th>Year-Of-Publication</th>\n",
              "      <th>Publisher</th>\n",
              "      <th>Image-URL-S</th>\n",
              "      <th>Image-URL-M</th>\n",
              "      <th>Image-URL-L</th>\n",
              "    </tr>\n",
              "  </thead>\n",
              "  <tbody>\n",
              "  </tbody>\n",
              "</table>\n",
              "</div>\n",
              "      <button class=\"colab-df-convert\" onclick=\"convertToInteractive('df-63fb2b22-753b-4e42-acf3-9f8aa7e6c7d1')\"\n",
              "              title=\"Convert this dataframe to an interactive table.\"\n",
              "              style=\"display:none;\">\n",
              "        \n",
              "  <svg xmlns=\"http://www.w3.org/2000/svg\" height=\"24px\"viewBox=\"0 0 24 24\"\n",
              "       width=\"24px\">\n",
              "    <path d=\"M0 0h24v24H0V0z\" fill=\"none\"/>\n",
              "    <path d=\"M18.56 5.44l.94 2.06.94-2.06 2.06-.94-2.06-.94-.94-2.06-.94 2.06-2.06.94zm-11 1L8.5 8.5l.94-2.06 2.06-.94-2.06-.94L8.5 2.5l-.94 2.06-2.06.94zm10 10l.94 2.06.94-2.06 2.06-.94-2.06-.94-.94-2.06-.94 2.06-2.06.94z\"/><path d=\"M17.41 7.96l-1.37-1.37c-.4-.4-.92-.59-1.43-.59-.52 0-1.04.2-1.43.59L10.3 9.45l-7.72 7.72c-.78.78-.78 2.05 0 2.83L4 21.41c.39.39.9.59 1.41.59.51 0 1.02-.2 1.41-.59l7.78-7.78 2.81-2.81c.8-.78.8-2.07 0-2.86zM5.41 20L4 18.59l7.72-7.72 1.47 1.35L5.41 20z\"/>\n",
              "  </svg>\n",
              "      </button>\n",
              "      \n",
              "  <style>\n",
              "    .colab-df-container {\n",
              "      display:flex;\n",
              "      flex-wrap:wrap;\n",
              "      gap: 12px;\n",
              "    }\n",
              "\n",
              "    .colab-df-convert {\n",
              "      background-color: #E8F0FE;\n",
              "      border: none;\n",
              "      border-radius: 50%;\n",
              "      cursor: pointer;\n",
              "      display: none;\n",
              "      fill: #1967D2;\n",
              "      height: 32px;\n",
              "      padding: 0 0 0 0;\n",
              "      width: 32px;\n",
              "    }\n",
              "\n",
              "    .colab-df-convert:hover {\n",
              "      background-color: #E2EBFA;\n",
              "      box-shadow: 0px 1px 2px rgba(60, 64, 67, 0.3), 0px 1px 3px 1px rgba(60, 64, 67, 0.15);\n",
              "      fill: #174EA6;\n",
              "    }\n",
              "\n",
              "    [theme=dark] .colab-df-convert {\n",
              "      background-color: #3B4455;\n",
              "      fill: #D2E3FC;\n",
              "    }\n",
              "\n",
              "    [theme=dark] .colab-df-convert:hover {\n",
              "      background-color: #434B5C;\n",
              "      box-shadow: 0px 1px 3px 1px rgba(0, 0, 0, 0.15);\n",
              "      filter: drop-shadow(0px 1px 2px rgba(0, 0, 0, 0.3));\n",
              "      fill: #FFFFFF;\n",
              "    }\n",
              "  </style>\n",
              "\n",
              "      <script>\n",
              "        const buttonEl =\n",
              "          document.querySelector('#df-63fb2b22-753b-4e42-acf3-9f8aa7e6c7d1 button.colab-df-convert');\n",
              "        buttonEl.style.display =\n",
              "          google.colab.kernel.accessAllowed ? 'block' : 'none';\n",
              "\n",
              "        async function convertToInteractive(key) {\n",
              "          const element = document.querySelector('#df-63fb2b22-753b-4e42-acf3-9f8aa7e6c7d1');\n",
              "          const dataTable =\n",
              "            await google.colab.kernel.invokeFunction('convertToInteractive',\n",
              "                                                     [key], {});\n",
              "          if (!dataTable) return;\n",
              "\n",
              "          const docLinkHtml = 'Like what you see? Visit the ' +\n",
              "            '<a target=\"_blank\" href=https://colab.research.google.com/notebooks/data_table.ipynb>data table notebook</a>'\n",
              "            + ' to learn more about interactive tables.';\n",
              "          element.innerHTML = '';\n",
              "          dataTable['output_type'] = 'display_data';\n",
              "          await google.colab.output.renderOutput(dataTable, element);\n",
              "          const docLink = document.createElement('div');\n",
              "          docLink.innerHTML = docLinkHtml;\n",
              "          element.appendChild(docLink);\n",
              "        }\n",
              "      </script>\n",
              "    </div>\n",
              "  </div>\n",
              "  "
            ]
          },
          "metadata": {},
          "execution_count": 278
        }
      ]
    },
    {
      "cell_type": "markdown",
      "source": [
        "* Here also we can see that Book-Author, year-of-publication and publishers values are interchnaged and publishers actual name is missing"
      ],
      "metadata": {
        "id": "QEpyxZysbVWX"
      }
    },
    {
      "cell_type": "code",
      "source": [
        "df_books.loc[df_books.ISBN == '2070426769','Year-Of-Publication'] = 2003\n",
        "df_books.loc[df_books.ISBN == '2070426769','Book-Author'] = \"Jean-Marie Gustave Le ClÃ?Â©zio\"\n",
        "df_books.loc[df_books.ISBN == '2070426769','Publisher'] = \"Gallimard\"\n",
        "df_books.loc[df_books.ISBN == '2070426769','Book-Title'] = \"Peuple du ciel, suivi de 'Les Bergers\""
      ],
      "metadata": {
        "id": "XQmxXEkmbj5A"
      },
      "execution_count": 279,
      "outputs": []
    },
    {
      "cell_type": "code",
      "source": [
        "# Rechecking the correction made\n",
        "df_books['Year-Of-Publication'].unique()"
      ],
      "metadata": {
        "id": "4WNpS9azb3kr",
        "colab": {
          "base_uri": "https://localhost:8080/"
        },
        "outputId": "056e4736-f0af-4aaf-db96-a6f50c79a8ec"
      },
      "execution_count": 280,
      "outputs": [
        {
          "output_type": "execute_result",
          "data": {
            "text/plain": [
              "array([2002., 2001., 1991., 1999., 2000., 1993., 1996., 1988., 2004.,\n",
              "       1998., 1994., 2003., 1997., 1983., 1979., 1995., 1982., 1985.,\n",
              "       1992., 1986., 1978., 1980., 1952., 1987., 1990., 1981., 1989.,\n",
              "       1984., 1968., 1961., 1958., 1974., 1976., 1971., 1977., 1975.,\n",
              "       1965., 1941., 1970., 1962., 1973., 1972., 1960., 1966., 1920.,\n",
              "       1956., 1959., 1953., 1951., 1942., 1963., 1964., 1969., 1954.,\n",
              "       1950., 1967., 2005., 1957., 1940., 1937., 1955., 1946., 1936.,\n",
              "       1930., 2011., 1925., 1948., 1943., 1947., 1945., 1923., 2020.,\n",
              "       1939., 1926., 1938., 1911., 1904., 1949., 1932., 1928., 1929.,\n",
              "       1927., 1931., 1914., 1934., 1910., 1933., 1902., 1924., 1921.,\n",
              "       1900., 1944., 1917., 1901., 2010., 1908., 1906., 1935., 1806.,\n",
              "       2021., 2012., 2006., 1909., 2008., 1378., 1919., 1922., 1897.,\n",
              "       1376.])"
            ]
          },
          "metadata": {},
          "execution_count": 280
        }
      ]
    },
    {
      "cell_type": "code",
      "source": [
        "df_books['Year-Of-Publication'] = df_books['Year-Of-Publication'].astype(int)\n",
        "# Replacing invalid values such as year greateer than 2022 and year having 0 with the NaN\n",
        "# so that we can fill those null values with proper measure of centreal tendency\n",
        "\n",
        "df_books.loc[(df_books['Year-Of-Publication'] > 2022) | (df_books['Year-Of-Publication'] == 0),'Year-Of-Publication'] = np.NAN\n",
        "\n",
        "# filling the null values with median values as there are outliers in year-of-publication column\n",
        "df_books['Year-Of-Publication'].fillna(round(df_books['Year-Of-Publication'].median()),inplace=True)"
      ],
      "metadata": {
        "id": "28Hb_pI0cCfs"
      },
      "execution_count": 281,
      "outputs": []
    },
    {
      "cell_type": "code",
      "source": [
        "# filling null values for the column Book-Author and Publisher\n",
        "# as we have only very few null values  1 and 2 only so we acn fill those values with other \n",
        "df_books[\"Book-Author\"].fillna(\"other\", inplace = True)  \n",
        "df_books[\"Publisher\"].fillna(\"other\", inplace = True)  "
      ],
      "metadata": {
        "id": "P68iar-kc_lr"
      },
      "execution_count": 282,
      "outputs": []
    },
    {
      "cell_type": "markdown",
      "source": [
        "#### What all missing value imputation techniques have you used and why did you use those techniques?"
      ],
      "metadata": {
        "id": "7wuGOrhz0itI"
      }
    },
    {
      "cell_type": "markdown",
      "source": [
        "* Filling the values with median when the column contain outilers "
      ],
      "metadata": {
        "id": "1ixusLtI0pqI"
      }
    },
    {
      "cell_type": "markdown",
      "source": [
        "### 2. Handling Outliers"
      ],
      "metadata": {
        "id": "id1riN9m0vUs"
      }
    },
    {
      "cell_type": "code",
      "source": [
        "# Handling Outliers & Outlier treatments\n",
        "Q3,Q1 = np.percentile(df_users['Age'],[75,25])\n",
        "#Calculating Inter Quartile Range\n",
        "IQR = Q3-Q1\n",
        "#Fixing Boundaries for outliers\n",
        "max = Q3+(1.5*IQR)\n",
        "min = Q1-(1.5*IQR)\n",
        "df_users[\"Age\"] = np.where(df_users[\"Age\"] > max, max, df_users['Age'])\n",
        "df_users[\"Age\"] = np.where(df_users[\"Age\"] < min, min, df_users['Age'])"
      ],
      "metadata": {
        "id": "M6w2CzZf04JK"
      },
      "execution_count": 283,
      "outputs": []
    },
    {
      "cell_type": "code",
      "source": [
        "# chceking the outliers again\n",
        "fig = plt.figure(figsize=(6,4))\n",
        "sns.boxplot(x='Age',data=df_users)"
      ],
      "metadata": {
        "id": "RKpU11S3faec",
        "colab": {
          "base_uri": "https://localhost:8080/",
          "height": 297
        },
        "outputId": "44e9ca4d-8ca8-49bc-8cfa-986fce80142e"
      },
      "execution_count": 284,
      "outputs": [
        {
          "output_type": "execute_result",
          "data": {
            "text/plain": [
              "<matplotlib.axes._subplots.AxesSubplot at 0x7f4c2958a8e0>"
            ]
          },
          "metadata": {},
          "execution_count": 284
        },
        {
          "output_type": "display_data",
          "data": {
            "text/plain": [
              "<Figure size 432x288 with 1 Axes>"
            ],
            "image/png": "[encoded data removed]"
          },
          "metadata": {
            "needs_background": "light"
          }
        }
      ]
    },
    {
      "cell_type": "markdown",
      "source": [
        "* We can notice that the Outliers has been handeled smoothly and now we dont have any outliers"
      ],
      "metadata": {
        "id": "Yt2kDmyQfgT5"
      }
    },
    {
      "cell_type": "markdown",
      "source": [
        "##### What all outlier treatment techniques have you used and why did you use those techniques?"
      ],
      "metadata": {
        "id": "578E2V7j08f6"
      }
    },
    {
      "cell_type": "markdown",
      "source": [
        "* We used IQR method to fill the right side otliers with maximum value calculated from IQR and Left side outliers with the minimum value calculated from IQR"
      ],
      "metadata": {
        "id": "uGZz5OrT1HH-"
      }
    },
    {
      "cell_type": "markdown",
      "source": [
        "## **5. Popularity Based Approach**\n",
        "\n",
        "* The main idea behind Popularity Based Approach is to recomend the books which are popular , the popularity can be calculated on the basis of ratings "
      ],
      "metadata": {
        "id": "_Dvi62FHLnOH"
      }
    },
    {
      "cell_type": "code",
      "source": [
        "def popularity_approach(df,number_of_top_book=50):\n",
        "    # first we have groupy with Book-Ttle and Book-rating as we wou recomend popularity on the these columns  \n",
        "    rating_counts=df.groupby(\"Book-Title\").count()[\"Book-Rating\"].reset_index()\n",
        "    # counting the number of ratings that particular book-title has got\n",
        "    rating_counts.rename(columns={\"Book-Rating\":\"num_of_ratings\"},inplace=True)\n",
        "    \n",
        "    # calculating average rating\n",
        "    rating_avg=df.groupby(\"Book-Title\")[\"Book-Rating\"].mean().reset_index()\n",
        "    rating_avg.rename(columns={\"Book-Rating\":\"average_rating\"},inplace=True)\n",
        "    \n",
        "    df_popular_books=rating_counts.merge(rating_avg,on=\"Book-Title\")\n",
        "\n",
        "    # average rating can be misguiding as they may be baised to number of ratings\n",
        "    # so taking account of number of ratings for particular book-title\n",
        "    # therefore  creating a function for calculating meaningfull average rating\n",
        "    mean_avg_rating=df_popular_books[\"average_rating\"].mean()\n",
        "    total_ratings=df_popular_books[\"num_of_ratings\"].quantile(0.90)\n",
        "    def weighted_rate(df):\n",
        "        number_of_rating_vector=df[\"num_of_ratings\"]\n",
        "        average_rating_vector=df[\"average_rating\"]\n",
        "        \n",
        "        return ((number_of_rating_vector*average_rating_vector) + (total_ratings*mean_avg_rating)) / (number_of_rating_vector+total_ratings)\n",
        "    \n",
        "    \n",
        "    # checking only for books which got more than \n",
        "    df_popular_books=df_popular_books[df_popular_books[\"num_of_ratings\"] >=100]\n",
        "    # calculating popularity of books using weighted_rate\n",
        "    df_popular_books[\"popularity\"]=df_popular_books.apply(weighted_rate,axis=1)\n",
        "    # sorting the books by its popularity in decending order\n",
        "    df_popular_books=df_popular_books.sort_values(by=\"popularity\",ascending=False)\n",
        "    # returning the top n books \n",
        "    return df_popular_books[[\"Book-Title\",\"num_of_ratings\",\"average_rating\",\"popularity\"]].reset_index(drop=True).head(number_of_top_book)"
      ],
      "metadata": {
        "id": "IG6oxvBiLltx"
      },
      "execution_count": 285,
      "outputs": []
    },
    {
      "cell_type": "code",
      "source": [
        "# top 20 popular books\n",
        "top_20=pd.DataFrame(popularity_approach(df_books_rating_copy,20))\n",
        "top_20"
      ],
      "metadata": {
        "id": "MxCt33qfW8b5",
        "colab": {
          "base_uri": "https://localhost:8080/",
          "height": 676
        },
        "outputId": "1eb41493-8232-46e5-e1f5-bad49f253193"
      },
      "execution_count": 286,
      "outputs": [
        {
          "output_type": "execute_result",
          "data": {
            "text/plain": [
              "                                           Book-Title  num_of_ratings  \\\n",
              "0         The Two Towers The Lord of the Rings Part 2             136   \n",
              "1   The Return of the King The Lord of the Rings P...             105   \n",
              "2          Harry Potter and the Goblet of Fire Book 4             247   \n",
              "3        Harry Potter and the Sorcerer s Stone Book 1             176   \n",
              "4     Harry Potter and the Prisoner of Azkaban Book 3             277   \n",
              "5    Harry Potter and the Order of the Phoenix Book 5             211   \n",
              "6                               To Kill a Mockingbird             267   \n",
              "7   Harry Potter and the Sorcerer s Stone Harry Po...             315   \n",
              "8           Ender s Game Ender Wiggins Saga Paperback             151   \n",
              "9   The Fellowship of the Ring The Lord of the Rin...             205   \n",
              "10     Harry Potter and the Chamber of Secrets Book 2             326   \n",
              "11                                               1984             147   \n",
              "12  The Hobbit The Enchanting Prelude to The Lord ...             161   \n",
              "13         The Subtle Knife His Dark Materials Book 2             107   \n",
              "14                            A Prayer for Owen Meany             182   \n",
              "15                   The Giver 21st Century Reference             102   \n",
              "16                                     Watership Down             134   \n",
              "17  Tuesdays with Morrie An Old Man a Young Man an...             250   \n",
              "18                                   The Color Purple             145   \n",
              "19                                     Fahrenheit 451             206   \n",
              "\n",
              "    average_rating  popularity  \n",
              "0         9.330882    9.266740  \n",
              "1         9.228571    9.151003  \n",
              "2         9.125506    9.093692  \n",
              "3         9.062500    9.019946  \n",
              "4         9.043321    9.016349  \n",
              "5         9.047393    9.012085  \n",
              "6         8.977528    8.950773  \n",
              "7         8.936508    8.914407  \n",
              "8         8.920530    8.875707  \n",
              "9         8.882927    8.850525  \n",
              "10        8.840491    8.820575  \n",
              "11        8.768707    8.727699  \n",
              "12        8.739130    8.702472  \n",
              "13        8.672897    8.621521  \n",
              "14        8.615385    8.586151  \n",
              "15        8.627451    8.575797  \n",
              "16        8.611940    8.572736  \n",
              "17        8.588000    8.567099  \n",
              "18        8.586207    8.550735  \n",
              "19        8.563107    8.538437  "
            ],
            "text/html": [
              "\n",
              "  <div id=\"df-e4c135a0-8bf5-4356-a7f3-4e30b69e8b64\">\n",
              "    <div class=\"colab-df-container\">\n",
              "      <div>\n",
              "<style scoped>\n",
              "    .dataframe tbody tr th:only-of-type {\n",
              "        vertical-align: middle;\n",
              "    }\n",
              "\n",
              "    .dataframe tbody tr th {\n",
              "        vertical-align: top;\n",
              "    }\n",
              "\n",
              "    .dataframe thead th {\n",
              "        text-align: right;\n",
              "    }\n",
              "</style>\n",
              "<table border=\"1\" class=\"dataframe\">\n",
              "  <thead>\n",
              "    <tr style=\"text-align: right;\">\n",
              "      <th></th>\n",
              "      <th>Book-Title</th>\n",
              "      <th>num_of_ratings</th>\n",
              "      <th>average_rating</th>\n",
              "      <th>popularity</th>\n",
              "    </tr>\n",
              "  </thead>\n",
              "  <tbody>\n",
              "    <tr>\n",
              "      <th>0</th>\n",
              "      <td>The Two Towers The Lord of the Rings Part 2</td>\n",
              "      <td>136</td>\n",
              "      <td>9.330882</td>\n",
              "      <td>9.266740</td>\n",
              "    </tr>\n",
              "    <tr>\n",
              "      <th>1</th>\n",
              "      <td>The Return of the King The Lord of the Rings P...</td>\n",
              "      <td>105</td>\n",
              "      <td>9.228571</td>\n",
              "      <td>9.151003</td>\n",
              "    </tr>\n",
              "    <tr>\n",
              "      <th>2</th>\n",
              "      <td>Harry Potter and the Goblet of Fire Book 4</td>\n",
              "      <td>247</td>\n",
              "      <td>9.125506</td>\n",
              "      <td>9.093692</td>\n",
              "    </tr>\n",
              "    <tr>\n",
              "      <th>3</th>\n",
              "      <td>Harry Potter and the Sorcerer s Stone Book 1</td>\n",
              "      <td>176</td>\n",
              "      <td>9.062500</td>\n",
              "      <td>9.019946</td>\n",
              "    </tr>\n",
              "    <tr>\n",
              "      <th>4</th>\n",
              "      <td>Harry Potter and the Prisoner of Azkaban Book 3</td>\n",
              "      <td>277</td>\n",
              "      <td>9.043321</td>\n",
              "      <td>9.016349</td>\n",
              "    </tr>\n",
              "    <tr>\n",
              "      <th>5</th>\n",
              "      <td>Harry Potter and the Order of the Phoenix Book 5</td>\n",
              "      <td>211</td>\n",
              "      <td>9.047393</td>\n",
              "      <td>9.012085</td>\n",
              "    </tr>\n",
              "    <tr>\n",
              "      <th>6</th>\n",
              "      <td>To Kill a Mockingbird</td>\n",
              "      <td>267</td>\n",
              "      <td>8.977528</td>\n",
              "      <td>8.950773</td>\n",
              "    </tr>\n",
              "    <tr>\n",
              "      <th>7</th>\n",
              "      <td>Harry Potter and the Sorcerer s Stone Harry Po...</td>\n",
              "      <td>315</td>\n",
              "      <td>8.936508</td>\n",
              "      <td>8.914407</td>\n",
              "    </tr>\n",
              "    <tr>\n",
              "      <th>8</th>\n",
              "      <td>Ender s Game Ender Wiggins Saga Paperback</td>\n",
              "      <td>151</td>\n",
              "      <td>8.920530</td>\n",
              "      <td>8.875707</td>\n",
              "    </tr>\n",
              "    <tr>\n",
              "      <th>9</th>\n",
              "      <td>The Fellowship of the Ring The Lord of the Rin...</td>\n",
              "      <td>205</td>\n",
              "      <td>8.882927</td>\n",
              "      <td>8.850525</td>\n",
              "    </tr>\n",
              "    <tr>\n",
              "      <th>10</th>\n",
              "      <td>Harry Potter and the Chamber of Secrets Book 2</td>\n",
              "      <td>326</td>\n",
              "      <td>8.840491</td>\n",
              "      <td>8.820575</td>\n",
              "    </tr>\n",
              "    <tr>\n",
              "      <th>11</th>\n",
              "      <td>1984</td>\n",
              "      <td>147</td>\n",
              "      <td>8.768707</td>\n",
              "      <td>8.727699</td>\n",
              "    </tr>\n",
              "    <tr>\n",
              "      <th>12</th>\n",
              "      <td>The Hobbit The Enchanting Prelude to The Lord ...</td>\n",
              "      <td>161</td>\n",
              "      <td>8.739130</td>\n",
              "      <td>8.702472</td>\n",
              "    </tr>\n",
              "    <tr>\n",
              "      <th>13</th>\n",
              "      <td>The Subtle Knife His Dark Materials Book 2</td>\n",
              "      <td>107</td>\n",
              "      <td>8.672897</td>\n",
              "      <td>8.621521</td>\n",
              "    </tr>\n",
              "    <tr>\n",
              "      <th>14</th>\n",
              "      <td>A Prayer for Owen Meany</td>\n",
              "      <td>182</td>\n",
              "      <td>8.615385</td>\n",
              "      <td>8.586151</td>\n",
              "    </tr>\n",
              "    <tr>\n",
              "      <th>15</th>\n",
              "      <td>The Giver 21st Century Reference</td>\n",
              "      <td>102</td>\n",
              "      <td>8.627451</td>\n",
              "      <td>8.575797</td>\n",
              "    </tr>\n",
              "    <tr>\n",
              "      <th>16</th>\n",
              "      <td>Watership Down</td>\n",
              "      <td>134</td>\n",
              "      <td>8.611940</td>\n",
              "      <td>8.572736</td>\n",
              "    </tr>\n",
              "    <tr>\n",
              "      <th>17</th>\n",
              "      <td>Tuesdays with Morrie An Old Man a Young Man an...</td>\n",
              "      <td>250</td>\n",
              "      <td>8.588000</td>\n",
              "      <td>8.567099</td>\n",
              "    </tr>\n",
              "    <tr>\n",
              "      <th>18</th>\n",
              "      <td>The Color Purple</td>\n",
              "      <td>145</td>\n",
              "      <td>8.586207</td>\n",
              "      <td>8.550735</td>\n",
              "    </tr>\n",
              "    <tr>\n",
              "      <th>19</th>\n",
              "      <td>Fahrenheit 451</td>\n",
              "      <td>206</td>\n",
              "      <td>8.563107</td>\n",
              "      <td>8.538437</td>\n",
              "    </tr>\n",
              "  </tbody>\n",
              "</table>\n",
              "</div>\n",
              "      <button class=\"colab-df-convert\" onclick=\"convertToInteractive('df-e4c135a0-8bf5-4356-a7f3-4e30b69e8b64')\"\n",
              "              title=\"Convert this dataframe to an interactive table.\"\n",
              "              style=\"display:none;\">\n",
              "        \n",
              "  <svg xmlns=\"http://www.w3.org/2000/svg\" height=\"24px\"viewBox=\"0 0 24 24\"\n",
              "       width=\"24px\">\n",
              "    <path d=\"M0 0h24v24H0V0z\" fill=\"none\"/>\n",
              "    <path d=\"M18.56 5.44l.94 2.06.94-2.06 2.06-.94-2.06-.94-.94-2.06-.94 2.06-2.06.94zm-11 1L8.5 8.5l.94-2.06 2.06-.94-2.06-.94L8.5 2.5l-.94 2.06-2.06.94zm10 10l.94 2.06.94-2.06 2.06-.94-2.06-.94-.94-2.06-.94 2.06-2.06.94z\"/><path d=\"M17.41 7.96l-1.37-1.37c-.4-.4-.92-.59-1.43-.59-.52 0-1.04.2-1.43.59L10.3 9.45l-7.72 7.72c-.78.78-.78 2.05 0 2.83L4 21.41c.39.39.9.59 1.41.59.51 0 1.02-.2 1.41-.59l7.78-7.78 2.81-2.81c.8-.78.8-2.07 0-2.86zM5.41 20L4 18.59l7.72-7.72 1.47 1.35L5.41 20z\"/>\n",
              "  </svg>\n",
              "      </button>\n",
              "      \n",
              "  <style>\n",
              "    .colab-df-container {\n",
              "      display:flex;\n",
              "      flex-wrap:wrap;\n",
              "      gap: 12px;\n",
              "    }\n",
              "\n",
              "    .colab-df-convert {\n",
              "      background-color: #E8F0FE;\n",
              "      border: none;\n",
              "      border-radius: 50%;\n",
              "      cursor: pointer;\n",
              "      display: none;\n",
              "      fill: #1967D2;\n",
              "      height: 32px;\n",
              "      padding: 0 0 0 0;\n",
              "      width: 32px;\n",
              "    }\n",
              "\n",
              "    .colab-df-convert:hover {\n",
              "      background-color: #E2EBFA;\n",
              "      box-shadow: 0px 1px 2px rgba(60, 64, 67, 0.3), 0px 1px 3px 1px rgba(60, 64, 67, 0.15);\n",
              "      fill: #174EA6;\n",
              "    }\n",
              "\n",
              "    [theme=dark] .colab-df-convert {\n",
              "      background-color: #3B4455;\n",
              "      fill: #D2E3FC;\n",
              "    }\n",
              "\n",
              "    [theme=dark] .colab-df-convert:hover {\n",
              "      background-color: #434B5C;\n",
              "      box-shadow: 0px 1px 3px 1px rgba(0, 0, 0, 0.15);\n",
              "      filter: drop-shadow(0px 1px 2px rgba(0, 0, 0, 0.3));\n",
              "      fill: #FFFFFF;\n",
              "    }\n",
              "  </style>\n",
              "\n",
              "      <script>\n",
              "        const buttonEl =\n",
              "          document.querySelector('#df-e4c135a0-8bf5-4356-a7f3-4e30b69e8b64 button.colab-df-convert');\n",
              "        buttonEl.style.display =\n",
              "          google.colab.kernel.accessAllowed ? 'block' : 'none';\n",
              "\n",
              "        async function convertToInteractive(key) {\n",
              "          const element = document.querySelector('#df-e4c135a0-8bf5-4356-a7f3-4e30b69e8b64');\n",
              "          const dataTable =\n",
              "            await google.colab.kernel.invokeFunction('convertToInteractive',\n",
              "                                                     [key], {});\n",
              "          if (!dataTable) return;\n",
              "\n",
              "          const docLinkHtml = 'Like what you see? Visit the ' +\n",
              "            '<a target=\"_blank\" href=https://colab.research.google.com/notebooks/data_table.ipynb>data table notebook</a>'\n",
              "            + ' to learn more about interactive tables.';\n",
              "          element.innerHTML = '';\n",
              "          dataTable['output_type'] = 'display_data';\n",
              "          await google.colab.output.renderOutput(dataTable, element);\n",
              "          const docLink = document.createElement('div');\n",
              "          docLink.innerHTML = docLinkHtml;\n",
              "          element.appendChild(docLink);\n",
              "        }\n",
              "      </script>\n",
              "    </div>\n",
              "  </div>\n",
              "  "
            ]
          },
          "metadata": {},
          "execution_count": 286
        }
      ]
    },
    {
      "cell_type": "markdown",
      "source": [
        "## **6. Collaborative Filtering Approaches**\n",
        "\n",
        "In Collaborative Filtering we make predictions of the taste or the intrests of the user based based on the other similar users behaviour (which is called collaborative) .The simple understanding is that if a person P1 have similar opinion with person P2 , then if person P1 is reading Harry Potter books then person P2 may also read Harry Potter books\n",
        "\n",
        "Collaborative Filtering has mainly two implimentaion strategies\n",
        "*   Model Based\n",
        "*   Memory Based\n",
        "\n",
        "we will use following approaches\n",
        "*  User_based Collaborative Filtering and \n",
        "*  Item_based Collaborative Filtering\n",
        "\n",
        "* Content Based Filtering\n",
        "\n",
        "\n",
        "*  Model based Collaborative Filtering Approach\n",
        "  * Singular value decomposition(SVD)\n",
        "  * Non-Negetive Matrix Factorisation(NMF)"
      ],
      "metadata": {
        "id": "V9tX8VhwZmfh"
      }
    },
    {
      "cell_type": "markdown",
      "source": [
        "### **User Based Collaborative Filtering**\n",
        "\n",
        "*  In this technique we try to predict on basis of what user may like based on the ratings that they had given to the items. In simpe words here we try to indentify the neghbouring users on the basis of similarity of active users and then scoring of the items  is calculated on the basis of those neighbour users"
      ],
      "metadata": {
        "id": "pR3HE03Xgv0C"
      }
    },
    {
      "cell_type": "code",
      "source": [
        "# Drop users who have given less number of votings \n",
        "# we will drop the users where the number of votes are less than 100\n",
        "new_df=df_books_rating_copy[df_books_rating_copy['User-ID'].map(df_books_rating_copy['User-ID'].value_counts()) > 100] \n",
        "\n",
        "# creating a pivot tables consisting user realted information\n",
        "users_info=new_df.pivot_table(index=[\"User-ID\"],columns=[\"Book-Title\"],values=\"Book-Rating\")\n",
        "users_info.fillna(0,inplace=True)\n"
      ],
      "metadata": {
        "id": "_DSi-vj_bbx5"
      },
      "execution_count": 287,
      "outputs": []
    },
    {
      "cell_type": "code",
      "source": [
        "users_info.head(3)"
      ],
      "metadata": {
        "id": "HmJT7y0Iimvy",
        "colab": {
          "base_uri": "https://localhost:8080/",
          "height": 511
        },
        "outputId": "e6038ddb-2505-494a-c7af-0e494743b73c"
      },
      "execution_count": 288,
      "outputs": [
        {
          "output_type": "execute_result",
          "data": {
            "text/plain": [
              "Book-Title  01 01 00 A Novel of the Millennium  \\\n",
              "User-ID                                          \n",
              "2033                                       0.0   \n",
              "2110                                       0.0   \n",
              "2276                                       0.0   \n",
              "\n",
              "Book-Title  01 01 00 The Novel of the Millennium  \\\n",
              "User-ID                                            \n",
              "2033                                         0.0   \n",
              "2110                                         0.0   \n",
              "2276                                         0.0   \n",
              "\n",
              "Book-Title  1 000 Makers of the Millennium The Men and Women Who Have Shaped the Last 1 000 Years  \\\n",
              "User-ID                                                                                             \n",
              "2033                                                      0.0                                       \n",
              "2110                                                      0.0                                       \n",
              "2276                                                      0.0                                       \n",
              "\n",
              "Book-Title  1 000 Places to See Before You Die  \\\n",
              "User-ID                                          \n",
              "2033                                       0.0   \n",
              "2110                                       0.0   \n",
              "2276                                       0.0   \n",
              "\n",
              "Book-Title  1 000 Years 1 000 People Ranking the Men and Women Who Shaped the Millennium  \\\n",
              "User-ID                                                                                    \n",
              "2033                                                      0.0                              \n",
              "2110                                                      0.0                              \n",
              "2276                                                      0.0                              \n",
              "\n",
              "Book-Title  1 001 Health Tips  \\\n",
              "User-ID                         \n",
              "2033                      0.0   \n",
              "2110                      0.0   \n",
              "2276                      0.0   \n",
              "\n",
              "Book-Title  1 001 Old Time Garden Tips Timeless Bits of Wisdom on How to Grow Everything Organically from the Good Old Days When Everyone Did  \\\n",
              "User-ID                                                                                                                                         \n",
              "2033                                                      0.0                                                                                   \n",
              "2110                                                      0.0                                                                                   \n",
              "2276                                                      0.0                                                                                   \n",
              "\n",
              "Book-Title  1 003 Great Things About Kids  \\\n",
              "User-ID                                     \n",
              "2033                                  0.0   \n",
              "2110                                  0.0   \n",
              "2276                                  0.0   \n",
              "\n",
              "Book-Title  1 2 3 Magic Effective Discipline for Children 2 12  1 2 3 Music  \\\n",
              "User-ID                                                                       \n",
              "2033                                                      0.0           0.0   \n",
              "2110                                                      0.0           0.0   \n",
              "2276                                                      0.0           0.0   \n",
              "\n",
              "Book-Title  ...  the Devil Will Drag You Under  them Modern Library  \\\n",
              "User-ID     ...                                                       \n",
              "2033        ...                            0.0                  0.0   \n",
              "2110        ...                            0.0                  0.0   \n",
              "2276        ...                            0.0                  0.0   \n",
              "\n",
              "Book-Title  together by christmas  wet sand raven tracks  \\\n",
              "User-ID                                                    \n",
              "2033                          0.0                    0.0   \n",
              "2110                          0.0                    0.0   \n",
              "2276                          0.0                    0.0   \n",
              "\n",
              "Book-Title  whataboutrick com a poetic tribute to Richard A Ricci  \\\n",
              "User-ID                                                             \n",
              "2033                                                      0.0       \n",
              "2110                                                      0.0       \n",
              "2276                                                      0.0       \n",
              "\n",
              "Book-Title  y los 40 ladrones ColecciÃ³n FÃ bula  Â Corre perro corre  \\\n",
              "User-ID                                                                 \n",
              "2033                                         0.0                  0.0   \n",
              "2110                                         0.0                  0.0   \n",
              "2276                                         0.0                  0.0   \n",
              "\n",
              "Book-Title  Â Eres tu mi mamÃ Are You My Mother  \\\n",
              "User-ID                                           \n",
              "2033                                        0.0   \n",
              "2110                                        0.0   \n",
              "2276                                        0.0   \n",
              "\n",
              "Book-Title  Ã ngeles fugaces Falling Angels  Ã Â ber das Fernsehen  \n",
              "User-ID                                                             \n",
              "2033                                    0.0                    0.0  \n",
              "2110                                    0.0                    0.0  \n",
              "2276                                    0.0                    0.0  \n",
              "\n",
              "[3 rows x 60931 columns]"
            ],
            "text/html": [
              "\n",
              "  <div id=\"df-bd4bf2c6-162f-4c3b-a221-a7b8813f1a44\">\n",
              "    <div class=\"colab-df-container\">\n",
              "      <div>\n",
              "<style scoped>\n",
              "    .dataframe tbody tr th:only-of-type {\n",
              "        vertical-align: middle;\n",
              "    }\n",
              "\n",
              "    .dataframe tbody tr th {\n",
              "        vertical-align: top;\n",
              "    }\n",
              "\n",
              "    .dataframe thead th {\n",
              "        text-align: right;\n",
              "    }\n",
              "</style>\n",
              "<table border=\"1\" class=\"dataframe\">\n",
              "  <thead>\n",
              "    <tr style=\"text-align: right;\">\n",
              "      <th>Book-Title</th>\n",
              "      <th>01 01 00 A Novel of the Millennium</th>\n",
              "      <th>01 01 00 The Novel of the Millennium</th>\n",
              "      <th>1 000 Makers of the Millennium The Men and Women Who Have Shaped the Last 1 000 Years</th>\n",
              "      <th>1 000 Places to See Before You Die</th>\n",
              "      <th>1 000 Years 1 000 People Ranking the Men and Women Who Shaped the Millennium</th>\n",
              "      <th>1 001 Health Tips</th>\n",
              "      <th>1 001 Old Time Garden Tips Timeless Bits of Wisdom on How to Grow Everything Organically from the Good Old Days When Everyone Did</th>\n",
              "      <th>1 003 Great Things About Kids</th>\n",
              "      <th>1 2 3 Magic Effective Discipline for Children 2 12</th>\n",
              "      <th>1 2 3 Music</th>\n",
              "      <th>...</th>\n",
              "      <th>the Devil Will Drag You Under</th>\n",
              "      <th>them Modern Library</th>\n",
              "      <th>together by christmas</th>\n",
              "      <th>wet sand raven tracks</th>\n",
              "      <th>whataboutrick com a poetic tribute to Richard A Ricci</th>\n",
              "      <th>y los 40 ladrones ColecciÃ³n FÃ bula</th>\n",
              "      <th>Â Corre perro corre</th>\n",
              "      <th>Â Eres tu mi mamÃ Are You My Mother</th>\n",
              "      <th>Ã ngeles fugaces Falling Angels</th>\n",
              "      <th>Ã Â ber das Fernsehen</th>\n",
              "    </tr>\n",
              "    <tr>\n",
              "      <th>User-ID</th>\n",
              "      <th></th>\n",
              "      <th></th>\n",
              "      <th></th>\n",
              "      <th></th>\n",
              "      <th></th>\n",
              "      <th></th>\n",
              "      <th></th>\n",
              "      <th></th>\n",
              "      <th></th>\n",
              "      <th></th>\n",
              "      <th></th>\n",
              "      <th></th>\n",
              "      <th></th>\n",
              "      <th></th>\n",
              "      <th></th>\n",
              "      <th></th>\n",
              "      <th></th>\n",
              "      <th></th>\n",
              "      <th></th>\n",
              "      <th></th>\n",
              "      <th></th>\n",
              "    </tr>\n",
              "  </thead>\n",
              "  <tbody>\n",
              "    <tr>\n",
              "      <th>2033</th>\n",
              "      <td>0.0</td>\n",
              "      <td>0.0</td>\n",
              "      <td>0.0</td>\n",
              "      <td>0.0</td>\n",
              "      <td>0.0</td>\n",
              "      <td>0.0</td>\n",
              "      <td>0.0</td>\n",
              "      <td>0.0</td>\n",
              "      <td>0.0</td>\n",
              "      <td>0.0</td>\n",
              "      <td>...</td>\n",
              "      <td>0.0</td>\n",
              "      <td>0.0</td>\n",
              "      <td>0.0</td>\n",
              "      <td>0.0</td>\n",
              "      <td>0.0</td>\n",
              "      <td>0.0</td>\n",
              "      <td>0.0</td>\n",
              "      <td>0.0</td>\n",
              "      <td>0.0</td>\n",
              "      <td>0.0</td>\n",
              "    </tr>\n",
              "    <tr>\n",
              "      <th>2110</th>\n",
              "      <td>0.0</td>\n",
              "      <td>0.0</td>\n",
              "      <td>0.0</td>\n",
              "      <td>0.0</td>\n",
              "      <td>0.0</td>\n",
              "      <td>0.0</td>\n",
              "      <td>0.0</td>\n",
              "      <td>0.0</td>\n",
              "      <td>0.0</td>\n",
              "      <td>0.0</td>\n",
              "      <td>...</td>\n",
              "      <td>0.0</td>\n",
              "      <td>0.0</td>\n",
              "      <td>0.0</td>\n",
              "      <td>0.0</td>\n",
              "      <td>0.0</td>\n",
              "      <td>0.0</td>\n",
              "      <td>0.0</td>\n",
              "      <td>0.0</td>\n",
              "      <td>0.0</td>\n",
              "      <td>0.0</td>\n",
              "    </tr>\n",
              "    <tr>\n",
              "      <th>2276</th>\n",
              "      <td>0.0</td>\n",
              "      <td>0.0</td>\n",
              "      <td>0.0</td>\n",
              "      <td>0.0</td>\n",
              "      <td>0.0</td>\n",
              "      <td>0.0</td>\n",
              "      <td>0.0</td>\n",
              "      <td>0.0</td>\n",
              "      <td>0.0</td>\n",
              "      <td>0.0</td>\n",
              "      <td>...</td>\n",
              "      <td>0.0</td>\n",
              "      <td>0.0</td>\n",
              "      <td>0.0</td>\n",
              "      <td>0.0</td>\n",
              "      <td>0.0</td>\n",
              "      <td>0.0</td>\n",
              "      <td>0.0</td>\n",
              "      <td>0.0</td>\n",
              "      <td>0.0</td>\n",
              "      <td>0.0</td>\n",
              "    </tr>\n",
              "  </tbody>\n",
              "</table>\n",
              "<p>3 rows × 60931 columns</p>\n",
              "</div>\n",
              "      <button class=\"colab-df-convert\" onclick=\"convertToInteractive('df-bd4bf2c6-162f-4c3b-a221-a7b8813f1a44')\"\n",
              "              title=\"Convert this dataframe to an interactive table.\"\n",
              "              style=\"display:none;\">\n",
              "        \n",
              "  <svg xmlns=\"http://www.w3.org/2000/svg\" height=\"24px\"viewBox=\"0 0 24 24\"\n",
              "       width=\"24px\">\n",
              "    <path d=\"M0 0h24v24H0V0z\" fill=\"none\"/>\n",
              "    <path d=\"M18.56 5.44l.94 2.06.94-2.06 2.06-.94-2.06-.94-.94-2.06-.94 2.06-2.06.94zm-11 1L8.5 8.5l.94-2.06 2.06-.94-2.06-.94L8.5 2.5l-.94 2.06-2.06.94zm10 10l.94 2.06.94-2.06 2.06-.94-2.06-.94-.94-2.06-.94 2.06-2.06.94z\"/><path d=\"M17.41 7.96l-1.37-1.37c-.4-.4-.92-.59-1.43-.59-.52 0-1.04.2-1.43.59L10.3 9.45l-7.72 7.72c-.78.78-.78 2.05 0 2.83L4 21.41c.39.39.9.59 1.41.59.51 0 1.02-.2 1.41-.59l7.78-7.78 2.81-2.81c.8-.78.8-2.07 0-2.86zM5.41 20L4 18.59l7.72-7.72 1.47 1.35L5.41 20z\"/>\n",
              "  </svg>\n",
              "      </button>\n",
              "      \n",
              "  <style>\n",
              "    .colab-df-container {\n",
              "      display:flex;\n",
              "      flex-wrap:wrap;\n",
              "      gap: 12px;\n",
              "    }\n",
              "\n",
              "    .colab-df-convert {\n",
              "      background-color: #E8F0FE;\n",
              "      border: none;\n",
              "      border-radius: 50%;\n",
              "      cursor: pointer;\n",
              "      display: none;\n",
              "      fill: #1967D2;\n",
              "      height: 32px;\n",
              "      padding: 0 0 0 0;\n",
              "      width: 32px;\n",
              "    }\n",
              "\n",
              "    .colab-df-convert:hover {\n",
              "      background-color: #E2EBFA;\n",
              "      box-shadow: 0px 1px 2px rgba(60, 64, 67, 0.3), 0px 1px 3px 1px rgba(60, 64, 67, 0.15);\n",
              "      fill: #174EA6;\n",
              "    }\n",
              "\n",
              "    [theme=dark] .colab-df-convert {\n",
              "      background-color: #3B4455;\n",
              "      fill: #D2E3FC;\n",
              "    }\n",
              "\n",
              "    [theme=dark] .colab-df-convert:hover {\n",
              "      background-color: #434B5C;\n",
              "      box-shadow: 0px 1px 3px 1px rgba(0, 0, 0, 0.15);\n",
              "      filter: drop-shadow(0px 1px 2px rgba(0, 0, 0, 0.3));\n",
              "      fill: #FFFFFF;\n",
              "    }\n",
              "  </style>\n",
              "\n",
              "      <script>\n",
              "        const buttonEl =\n",
              "          document.querySelector('#df-bd4bf2c6-162f-4c3b-a221-a7b8813f1a44 button.colab-df-convert');\n",
              "        buttonEl.style.display =\n",
              "          google.colab.kernel.accessAllowed ? 'block' : 'none';\n",
              "\n",
              "        async function convertToInteractive(key) {\n",
              "          const element = document.querySelector('#df-bd4bf2c6-162f-4c3b-a221-a7b8813f1a44');\n",
              "          const dataTable =\n",
              "            await google.colab.kernel.invokeFunction('convertToInteractive',\n",
              "                                                     [key], {});\n",
              "          if (!dataTable) return;\n",
              "\n",
              "          const docLinkHtml = 'Like what you see? Visit the ' +\n",
              "            '<a target=\"_blank\" href=https://colab.research.google.com/notebooks/data_table.ipynb>data table notebook</a>'\n",
              "            + ' to learn more about interactive tables.';\n",
              "          element.innerHTML = '';\n",
              "          dataTable['output_type'] = 'display_data';\n",
              "          await google.colab.output.renderOutput(dataTable, element);\n",
              "          const docLink = document.createElement('div');\n",
              "          docLink.innerHTML = docLinkHtml;\n",
              "          element.appendChild(docLink);\n",
              "        }\n",
              "      </script>\n",
              "    </div>\n",
              "  </div>\n",
              "  "
            ]
          },
          "metadata": {},
          "execution_count": 288
        }
      ]
    },
    {
      "cell_type": "code",
      "source": [
        "def choice_of_users(id):\n",
        "    \n",
        "    user_favourite=new_df[new_df[\"User-ID\"]==id].sort_values([\"Book-Rating\"],ascending=False)[0:10]\n",
        "    return user_favourite\n",
        "\n",
        "def user_based_collaborative(new_df,user_id):\n",
        "    if user_id not in new_df[\"User-ID\"].values:\n",
        "        print(\"USER NOT FOUND\")\n",
        "        \n",
        "        \n",
        "    else:\n",
        "        user_index=np.where(users_info.index==user_id)[0][0]\n",
        "        similar=cosine_similarity(users_info)\n",
        "        similar_users_list=list(enumerate(similar[user_index]))\n",
        "        similar_users_list = sorted(similar_users_list,key = lambda x:x[1],reverse=True)[0:10]\n",
        "    \n",
        "        record_of_users=[]\n",
        "    \n",
        "        for ind in similar_users_list:\n",
        "                data=df_books_rating_copy[df_books_rating_copy[\"User-ID\"]==users_info.index[ind[0]]]\n",
        "                record_of_users.extend(list(data.drop_duplicates(\"User-ID\")[\"User-ID\"].values))\n",
        "        \n",
        "    return record_of_users\n",
        "\n",
        "def common(df,users_list,user_id):\n",
        "    temp1=new_df[df[\"User-ID\"]==user_id]\n",
        "    suggested_books=[]\n",
        "    users_list=list(users_list)\n",
        "    for id in users_list:\n",
        "        temp2=df[(df[\"User-ID\"]==id)]\n",
        "        all_books=temp2.loc[~temp2[\"Book-Title\"].isin(temp1[\"Book-Title\"]),:]\n",
        "        all_books=all_books.sort_values([\"Book-Rating\"],ascending=False)[0:10]\n",
        "        suggested_books.extend(all_books[\"Book-Title\"].values)\n",
        "        \n",
        "    return suggested_books[0:10]\n",
        "\n",
        "\n",
        "\n"
      ],
      "metadata": {
        "id": "m_aAVve9iwCe"
      },
      "execution_count": 289,
      "outputs": []
    },
    {
      "cell_type": "code",
      "source": [
        "# taking any random user_id\n",
        "random_user_id=random.choice(new_df[\"User-ID\"].values)\n",
        "# showing users choice based on history\n",
        "user_choice=pd.DataFrame(choice_of_users(random_user_id))\n",
        "# subseting users favourite from users choice\n",
        "user_favorite=choice_of_users(random_user_id)\n",
        "n=len(user_choice[\"Book-Title\"].values)\n",
        "print(f\"USER: {random_user_id} \")"
      ],
      "metadata": {
        "id": "pBuNdD7Kz6Uy",
        "colab": {
          "base_uri": "https://localhost:8080/"
        },
        "outputId": "25d0ace0-8618-45a2-ee0b-7640b503da00"
      },
      "execution_count": 290,
      "outputs": [
        {
          "output_type": "stream",
          "name": "stdout",
          "text": [
            "USER: 38273 \n"
          ]
        }
      ]
    },
    {
      "cell_type": "code",
      "source": [
        "user_favorite"
      ],
      "metadata": {
        "id": "YKT8FTXL7MFj",
        "colab": {
          "base_uri": "https://localhost:8080/",
          "height": 363
        },
        "outputId": "bc797ed0-5ede-4f13-a906-47ad54144174"
      },
      "execution_count": 291,
      "outputs": [
        {
          "output_type": "execute_result",
          "data": {
            "text/plain": [
              "                                               Book-Title  \\\n",
              "477142          Mystery Ranch Boxcar Children Series No 4   \n",
              "684352   Gertrude Chandler Warner and the Boxcar Children   \n",
              "684356                 Wow World of Wrestling Best of Wcw   \n",
              "684355  WWF War Zone Official Strategy Guide for PlayS...   \n",
              "623420  Walt Disney s Donald Duck s toy sailboat A Lit...   \n",
              "623850            The True Confessions of Charlotte Doyle   \n",
              "633110  Calvin Et Hobbes Que Fait LA Police Calvin and...   \n",
              "635363         Grand Theft Auto 3 Official Strategy Guide   \n",
              "684354      Totally Unauthorized WWF Warzone Pocket Guide   \n",
              "684353                    Wwf Wrestling The Official Book   \n",
              "\n",
              "                     Book-Author                      Publisher  \\\n",
              "477142  Gertrude Chandler Warner   Albert Whitman &amp; Company   \n",
              "684352      Mary Ellen Ellsworth   Albert Whitman &amp; Company   \n",
              "684356                 Benchmark                Benchmark Press   \n",
              "684355               Bill Kunkel                  Acclaim Books   \n",
              "623420       Annie North Bedford                Western Pub. Co   \n",
              "623850                       Avi                   HarperTrophy   \n",
              "633110            Bill Watterson                    Distribooks   \n",
              "635363                Tim Bogenn                    Brady Games   \n",
              "684354              Jacob McBane         Macmillan Computer Pub   \n",
              "684353               Ed Ricciuti  BDD Promotional Books Company   \n",
              "\n",
              "                                              Image-URL-L  User-ID  \\\n",
              "477142  http://images.amazon.com/images/P/0807553913.0...    38273   \n",
              "684352  http://images.amazon.com/images/P/0807528374.0...    38273   \n",
              "684356  http://images.amazon.com/images/P/1892049163.0...    38273   \n",
              "684355  http://images.amazon.com/images/P/157840990X.0...    38273   \n",
              "623420  http://images.amazon.com/images/P/0307021459.0...    38273   \n",
              "623850  http://images.amazon.com/images/P/0380728850.0...    38273   \n",
              "633110  http://images.amazon.com/images/P/2258036429.0...    38273   \n",
              "635363  http://images.amazon.com/images/P/074400098X.0...    38273   \n",
              "684354  http://images.amazon.com/images/P/1566868157.0...    38273   \n",
              "684353  http://images.amazon.com/images/P/0792458036.0...    38273   \n",
              "\n",
              "        Book-Rating  \n",
              "477142           10  \n",
              "684352           10  \n",
              "684356           10  \n",
              "684355           10  \n",
              "623420           10  \n",
              "623850           10  \n",
              "633110           10  \n",
              "635363           10  \n",
              "684354           10  \n",
              "684353           10  "
            ],
            "text/html": [
              "\n",
              "  <div id=\"df-d6421c79-fbcd-4025-be44-cc01d13ec1a9\">\n",
              "    <div class=\"colab-df-container\">\n",
              "      <div>\n",
              "<style scoped>\n",
              "    .dataframe tbody tr th:only-of-type {\n",
              "        vertical-align: middle;\n",
              "    }\n",
              "\n",
              "    .dataframe tbody tr th {\n",
              "        vertical-align: top;\n",
              "    }\n",
              "\n",
              "    .dataframe thead th {\n",
              "        text-align: right;\n",
              "    }\n",
              "</style>\n",
              "<table border=\"1\" class=\"dataframe\">\n",
              "  <thead>\n",
              "    <tr style=\"text-align: right;\">\n",
              "      <th></th>\n",
              "      <th>Book-Title</th>\n",
              "      <th>Book-Author</th>\n",
              "      <th>Publisher</th>\n",
              "      <th>Image-URL-L</th>\n",
              "      <th>User-ID</th>\n",
              "      <th>Book-Rating</th>\n",
              "    </tr>\n",
              "  </thead>\n",
              "  <tbody>\n",
              "    <tr>\n",
              "      <th>477142</th>\n",
              "      <td>Mystery Ranch Boxcar Children Series No 4</td>\n",
              "      <td>Gertrude Chandler Warner</td>\n",
              "      <td>Albert Whitman &amp;amp; Company</td>\n",
              "      <td>http://images.amazon.com/images/P/0807553913.0...</td>\n",
              "      <td>38273</td>\n",
              "      <td>10</td>\n",
              "    </tr>\n",
              "    <tr>\n",
              "      <th>684352</th>\n",
              "      <td>Gertrude Chandler Warner and the Boxcar Children</td>\n",
              "      <td>Mary Ellen Ellsworth</td>\n",
              "      <td>Albert Whitman &amp;amp; Company</td>\n",
              "      <td>http://images.amazon.com/images/P/0807528374.0...</td>\n",
              "      <td>38273</td>\n",
              "      <td>10</td>\n",
              "    </tr>\n",
              "    <tr>\n",
              "      <th>684356</th>\n",
              "      <td>Wow World of Wrestling Best of Wcw</td>\n",
              "      <td>Benchmark</td>\n",
              "      <td>Benchmark Press</td>\n",
              "      <td>http://images.amazon.com/images/P/1892049163.0...</td>\n",
              "      <td>38273</td>\n",
              "      <td>10</td>\n",
              "    </tr>\n",
              "    <tr>\n",
              "      <th>684355</th>\n",
              "      <td>WWF War Zone Official Strategy Guide for PlayS...</td>\n",
              "      <td>Bill Kunkel</td>\n",
              "      <td>Acclaim Books</td>\n",
              "      <td>http://images.amazon.com/images/P/157840990X.0...</td>\n",
              "      <td>38273</td>\n",
              "      <td>10</td>\n",
              "    </tr>\n",
              "    <tr>\n",
              "      <th>623420</th>\n",
              "      <td>Walt Disney s Donald Duck s toy sailboat A Lit...</td>\n",
              "      <td>Annie North Bedford</td>\n",
              "      <td>Western Pub. Co</td>\n",
              "      <td>http://images.amazon.com/images/P/0307021459.0...</td>\n",
              "      <td>38273</td>\n",
              "      <td>10</td>\n",
              "    </tr>\n",
              "    <tr>\n",
              "      <th>623850</th>\n",
              "      <td>The True Confessions of Charlotte Doyle</td>\n",
              "      <td>Avi</td>\n",
              "      <td>HarperTrophy</td>\n",
              "      <td>http://images.amazon.com/images/P/0380728850.0...</td>\n",
              "      <td>38273</td>\n",
              "      <td>10</td>\n",
              "    </tr>\n",
              "    <tr>\n",
              "      <th>633110</th>\n",
              "      <td>Calvin Et Hobbes Que Fait LA Police Calvin and...</td>\n",
              "      <td>Bill Watterson</td>\n",
              "      <td>Distribooks</td>\n",
              "      <td>http://images.amazon.com/images/P/2258036429.0...</td>\n",
              "      <td>38273</td>\n",
              "      <td>10</td>\n",
              "    </tr>\n",
              "    <tr>\n",
              "      <th>635363</th>\n",
              "      <td>Grand Theft Auto 3 Official Strategy Guide</td>\n",
              "      <td>Tim Bogenn</td>\n",
              "      <td>Brady Games</td>\n",
              "      <td>http://images.amazon.com/images/P/074400098X.0...</td>\n",
              "      <td>38273</td>\n",
              "      <td>10</td>\n",
              "    </tr>\n",
              "    <tr>\n",
              "      <th>684354</th>\n",
              "      <td>Totally Unauthorized WWF Warzone Pocket Guide</td>\n",
              "      <td>Jacob McBane</td>\n",
              "      <td>Macmillan Computer Pub</td>\n",
              "      <td>http://images.amazon.com/images/P/1566868157.0...</td>\n",
              "      <td>38273</td>\n",
              "      <td>10</td>\n",
              "    </tr>\n",
              "    <tr>\n",
              "      <th>684353</th>\n",
              "      <td>Wwf Wrestling The Official Book</td>\n",
              "      <td>Ed Ricciuti</td>\n",
              "      <td>BDD Promotional Books Company</td>\n",
              "      <td>http://images.amazon.com/images/P/0792458036.0...</td>\n",
              "      <td>38273</td>\n",
              "      <td>10</td>\n",
              "    </tr>\n",
              "  </tbody>\n",
              "</table>\n",
              "</div>\n",
              "      <button class=\"colab-df-convert\" onclick=\"convertToInteractive('df-d6421c79-fbcd-4025-be44-cc01d13ec1a9')\"\n",
              "              title=\"Convert this dataframe to an interactive table.\"\n",
              "              style=\"display:none;\">\n",
              "        \n",
              "  <svg xmlns=\"http://www.w3.org/2000/svg\" height=\"24px\"viewBox=\"0 0 24 24\"\n",
              "       width=\"24px\">\n",
              "    <path d=\"M0 0h24v24H0V0z\" fill=\"none\"/>\n",
              "    <path d=\"M18.56 5.44l.94 2.06.94-2.06 2.06-.94-2.06-.94-.94-2.06-.94 2.06-2.06.94zm-11 1L8.5 8.5l.94-2.06 2.06-.94-2.06-.94L8.5 2.5l-.94 2.06-2.06.94zm10 10l.94 2.06.94-2.06 2.06-.94-2.06-.94-.94-2.06-.94 2.06-2.06.94z\"/><path d=\"M17.41 7.96l-1.37-1.37c-.4-.4-.92-.59-1.43-.59-.52 0-1.04.2-1.43.59L10.3 9.45l-7.72 7.72c-.78.78-.78 2.05 0 2.83L4 21.41c.39.39.9.59 1.41.59.51 0 1.02-.2 1.41-.59l7.78-7.78 2.81-2.81c.8-.78.8-2.07 0-2.86zM5.41 20L4 18.59l7.72-7.72 1.47 1.35L5.41 20z\"/>\n",
              "  </svg>\n",
              "      </button>\n",
              "      \n",
              "  <style>\n",
              "    .colab-df-container {\n",
              "      display:flex;\n",
              "      flex-wrap:wrap;\n",
              "      gap: 12px;\n",
              "    }\n",
              "\n",
              "    .colab-df-convert {\n",
              "      background-color: #E8F0FE;\n",
              "      border: none;\n",
              "      border-radius: 50%;\n",
              "      cursor: pointer;\n",
              "      display: none;\n",
              "      fill: #1967D2;\n",
              "      height: 32px;\n",
              "      padding: 0 0 0 0;\n",
              "      width: 32px;\n",
              "    }\n",
              "\n",
              "    .colab-df-convert:hover {\n",
              "      background-color: #E2EBFA;\n",
              "      box-shadow: 0px 1px 2px rgba(60, 64, 67, 0.3), 0px 1px 3px 1px rgba(60, 64, 67, 0.15);\n",
              "      fill: #174EA6;\n",
              "    }\n",
              "\n",
              "    [theme=dark] .colab-df-convert {\n",
              "      background-color: #3B4455;\n",
              "      fill: #D2E3FC;\n",
              "    }\n",
              "\n",
              "    [theme=dark] .colab-df-convert:hover {\n",
              "      background-color: #434B5C;\n",
              "      box-shadow: 0px 1px 3px 1px rgba(0, 0, 0, 0.15);\n",
              "      filter: drop-shadow(0px 1px 2px rgba(0, 0, 0, 0.3));\n",
              "      fill: #FFFFFF;\n",
              "    }\n",
              "  </style>\n",
              "\n",
              "      <script>\n",
              "        const buttonEl =\n",
              "          document.querySelector('#df-d6421c79-fbcd-4025-be44-cc01d13ec1a9 button.colab-df-convert');\n",
              "        buttonEl.style.display =\n",
              "          google.colab.kernel.accessAllowed ? 'block' : 'none';\n",
              "\n",
              "        async function convertToInteractive(key) {\n",
              "          const element = document.querySelector('#df-d6421c79-fbcd-4025-be44-cc01d13ec1a9');\n",
              "          const dataTable =\n",
              "            await google.colab.kernel.invokeFunction('convertToInteractive',\n",
              "                                                     [key], {});\n",
              "          if (!dataTable) return;\n",
              "\n",
              "          const docLinkHtml = 'Like what you see? Visit the ' +\n",
              "            '<a target=\"_blank\" href=https://colab.research.google.com/notebooks/data_table.ipynb>data table notebook</a>'\n",
              "            + ' to learn more about interactive tables.';\n",
              "          element.innerHTML = '';\n",
              "          dataTable['output_type'] = 'display_data';\n",
              "          await google.colab.output.renderOutput(dataTable, element);\n",
              "          const docLink = document.createElement('div');\n",
              "          docLink.innerHTML = docLinkHtml;\n",
              "          element.appendChild(docLink);\n",
              "        }\n",
              "      </script>\n",
              "    </div>\n",
              "  </div>\n",
              "  "
            ]
          },
          "metadata": {},
          "execution_count": 291
        }
      ]
    },
    {
      "cell_type": "code",
      "source": [
        "# getting user based data for particular random user id\n",
        "user_based=user_based_collaborative(new_df,random_user_id)\n",
        "# getting recomended books for that particular random user id\n",
        "book_suggesions_user=common(new_df,user_based,random_user_id)\n",
        "# ceating a dataframe to store the results\n",
        "book_suggesions_user=pd.DataFrame(book_suggesions_user,columns=[\"Book-Title\"])\n",
        "book_suggesions_user"
      ],
      "metadata": {
        "id": "t-Ad5Iwj8omW",
        "colab": {
          "base_uri": "https://localhost:8080/",
          "height": 363
        },
        "outputId": "ebd1a7e7-7f66-40a6-c3b2-5bc76eedcce8"
      },
      "execution_count": 292,
      "outputs": [
        {
          "output_type": "execute_result",
          "data": {
            "text/plain": [
              "                                          Book-Title\n",
              "0  Scientific Progress Goes Boink A Calvin and Ho...\n",
              "1                The Indispensable Calvin And Hobbes\n",
              "2  The Dreamer s Workbook A Complete Guide To Int...\n",
              "3                              Art of Robert Bateman\n",
              "4                                    The Empty Chair\n",
              "5                            World of Robert Bateman\n",
              "6              BETTER HOMES AND GARDENS NEW COOKBOOK\n",
              "7          The Harrowsmith Illustrated Book of Herbs\n",
              "8                     Vampire The Masquerade Vampire\n",
              "9  Vinnie s Giant Roller Coaster Period Chart amp..."
            ],
            "text/html": [
              "\n",
              "  <div id=\"df-e656aecc-a9d5-4fd2-8ab9-1836588b6070\">\n",
              "    <div class=\"colab-df-container\">\n",
              "      <div>\n",
              "<style scoped>\n",
              "    .dataframe tbody tr th:only-of-type {\n",
              "        vertical-align: middle;\n",
              "    }\n",
              "\n",
              "    .dataframe tbody tr th {\n",
              "        vertical-align: top;\n",
              "    }\n",
              "\n",
              "    .dataframe thead th {\n",
              "        text-align: right;\n",
              "    }\n",
              "</style>\n",
              "<table border=\"1\" class=\"dataframe\">\n",
              "  <thead>\n",
              "    <tr style=\"text-align: right;\">\n",
              "      <th></th>\n",
              "      <th>Book-Title</th>\n",
              "    </tr>\n",
              "  </thead>\n",
              "  <tbody>\n",
              "    <tr>\n",
              "      <th>0</th>\n",
              "      <td>Scientific Progress Goes Boink A Calvin and Ho...</td>\n",
              "    </tr>\n",
              "    <tr>\n",
              "      <th>1</th>\n",
              "      <td>The Indispensable Calvin And Hobbes</td>\n",
              "    </tr>\n",
              "    <tr>\n",
              "      <th>2</th>\n",
              "      <td>The Dreamer s Workbook A Complete Guide To Int...</td>\n",
              "    </tr>\n",
              "    <tr>\n",
              "      <th>3</th>\n",
              "      <td>Art of Robert Bateman</td>\n",
              "    </tr>\n",
              "    <tr>\n",
              "      <th>4</th>\n",
              "      <td>The Empty Chair</td>\n",
              "    </tr>\n",
              "    <tr>\n",
              "      <th>5</th>\n",
              "      <td>World of Robert Bateman</td>\n",
              "    </tr>\n",
              "    <tr>\n",
              "      <th>6</th>\n",
              "      <td>BETTER HOMES AND GARDENS NEW COOKBOOK</td>\n",
              "    </tr>\n",
              "    <tr>\n",
              "      <th>7</th>\n",
              "      <td>The Harrowsmith Illustrated Book of Herbs</td>\n",
              "    </tr>\n",
              "    <tr>\n",
              "      <th>8</th>\n",
              "      <td>Vampire The Masquerade Vampire</td>\n",
              "    </tr>\n",
              "    <tr>\n",
              "      <th>9</th>\n",
              "      <td>Vinnie s Giant Roller Coaster Period Chart amp...</td>\n",
              "    </tr>\n",
              "  </tbody>\n",
              "</table>\n",
              "</div>\n",
              "      <button class=\"colab-df-convert\" onclick=\"convertToInteractive('df-e656aecc-a9d5-4fd2-8ab9-1836588b6070')\"\n",
              "              title=\"Convert this dataframe to an interactive table.\"\n",
              "              style=\"display:none;\">\n",
              "        \n",
              "  <svg xmlns=\"http://www.w3.org/2000/svg\" height=\"24px\"viewBox=\"0 0 24 24\"\n",
              "       width=\"24px\">\n",
              "    <path d=\"M0 0h24v24H0V0z\" fill=\"none\"/>\n",
              "    <path d=\"M18.56 5.44l.94 2.06.94-2.06 2.06-.94-2.06-.94-.94-2.06-.94 2.06-2.06.94zm-11 1L8.5 8.5l.94-2.06 2.06-.94-2.06-.94L8.5 2.5l-.94 2.06-2.06.94zm10 10l.94 2.06.94-2.06 2.06-.94-2.06-.94-.94-2.06-.94 2.06-2.06.94z\"/><path d=\"M17.41 7.96l-1.37-1.37c-.4-.4-.92-.59-1.43-.59-.52 0-1.04.2-1.43.59L10.3 9.45l-7.72 7.72c-.78.78-.78 2.05 0 2.83L4 21.41c.39.39.9.59 1.41.59.51 0 1.02-.2 1.41-.59l7.78-7.78 2.81-2.81c.8-.78.8-2.07 0-2.86zM5.41 20L4 18.59l7.72-7.72 1.47 1.35L5.41 20z\"/>\n",
              "  </svg>\n",
              "      </button>\n",
              "      \n",
              "  <style>\n",
              "    .colab-df-container {\n",
              "      display:flex;\n",
              "      flex-wrap:wrap;\n",
              "      gap: 12px;\n",
              "    }\n",
              "\n",
              "    .colab-df-convert {\n",
              "      background-color: #E8F0FE;\n",
              "      border: none;\n",
              "      border-radius: 50%;\n",
              "      cursor: pointer;\n",
              "      display: none;\n",
              "      fill: #1967D2;\n",
              "      height: 32px;\n",
              "      padding: 0 0 0 0;\n",
              "      width: 32px;\n",
              "    }\n",
              "\n",
              "    .colab-df-convert:hover {\n",
              "      background-color: #E2EBFA;\n",
              "      box-shadow: 0px 1px 2px rgba(60, 64, 67, 0.3), 0px 1px 3px 1px rgba(60, 64, 67, 0.15);\n",
              "      fill: #174EA6;\n",
              "    }\n",
              "\n",
              "    [theme=dark] .colab-df-convert {\n",
              "      background-color: #3B4455;\n",
              "      fill: #D2E3FC;\n",
              "    }\n",
              "\n",
              "    [theme=dark] .colab-df-convert:hover {\n",
              "      background-color: #434B5C;\n",
              "      box-shadow: 0px 1px 3px 1px rgba(0, 0, 0, 0.15);\n",
              "      filter: drop-shadow(0px 1px 2px rgba(0, 0, 0, 0.3));\n",
              "      fill: #FFFFFF;\n",
              "    }\n",
              "  </style>\n",
              "\n",
              "      <script>\n",
              "        const buttonEl =\n",
              "          document.querySelector('#df-e656aecc-a9d5-4fd2-8ab9-1836588b6070 button.colab-df-convert');\n",
              "        buttonEl.style.display =\n",
              "          google.colab.kernel.accessAllowed ? 'block' : 'none';\n",
              "\n",
              "        async function convertToInteractive(key) {\n",
              "          const element = document.querySelector('#df-e656aecc-a9d5-4fd2-8ab9-1836588b6070');\n",
              "          const dataTable =\n",
              "            await google.colab.kernel.invokeFunction('convertToInteractive',\n",
              "                                                     [key], {});\n",
              "          if (!dataTable) return;\n",
              "\n",
              "          const docLinkHtml = 'Like what you see? Visit the ' +\n",
              "            '<a target=\"_blank\" href=https://colab.research.google.com/notebooks/data_table.ipynb>data table notebook</a>'\n",
              "            + ' to learn more about interactive tables.';\n",
              "          element.innerHTML = '';\n",
              "          dataTable['output_type'] = 'display_data';\n",
              "          await google.colab.output.renderOutput(dataTable, element);\n",
              "          const docLink = document.createElement('div');\n",
              "          docLink.innerHTML = docLinkHtml;\n",
              "          element.appendChild(docLink);\n",
              "        }\n",
              "      </script>\n",
              "    </div>\n",
              "  </div>\n",
              "  "
            ]
          },
          "metadata": {},
          "execution_count": 292
        }
      ]
    },
    {
      "cell_type": "markdown",
      "source": [
        "### **Item Based Collaborative Filtering**\n",
        "\n",
        "*  In Item based collaborative filtering we try to find similar items based on the items whichs user has liked or interacted with .It suggests an item based on items the user has previously consumed. It looks for the items the user has consumed then it finds other items similar to consumed items and recommends accordingly"
      ],
      "metadata": {
        "id": "Y5JVf8V6-EY3"
      }
    },
    {
      "cell_type": "code",
      "source": [
        "def item_based_approach(data,querry_bookTitle,number_of_suggesions):\n",
        "    querry_bookTitle=str(querry_bookTitle)\n",
        "    \n",
        "    if querry_bookTitle in data[\"Book-Title\"].values:\n",
        "        count_rating=pd.DataFrame(data[\"Book-Title\"].value_counts())\n",
        "        # seperating rare books\n",
        "        rare=count_rating[count_rating[\"Book-Title\"]<=100].index\n",
        "        # defining common books \n",
        "        # as those books which are not rare are common books\n",
        "        common_b=data[~data[\"Book-Title\"].isin(rare)]\n",
        "        \n",
        "        # If the qerry book title is very rare then we would suggest the most common books\n",
        "        if querry_bookTitle in rare:\n",
        "            # storing most common books \n",
        "            ran5=pd.Series(common_b[\"Book-Title\"].unique()).sample(5).values\n",
        "            print(\"No hard recomendation for this book can be suggested\")\n",
        "            print(\"but you can try with most common books \")\n",
        "            # suggesting randomly 5 books from set of common books\n",
        "            print(f\"1st {ran5[0]}\")\n",
        "            print(f\"2nd {ran5[1]}\")\n",
        "            print(f\"3rd {ran5[2]}\")\n",
        "            print(f\"4th {ran5[3]}\")\n",
        "            print(f\"5th {ran5[4]}\")\n",
        "        else:\n",
        "            common_b_pivot=common_b.pivot_table(index=[\"User-ID\"],columns=[\"Book-Title\"],values=\"Book-Rating\")\n",
        "            # defining book-title as t\n",
        "            t=common_b_pivot[querry_bookTitle]\n",
        "            # making suggesions based on the correlation\n",
        "            suggesion_df=pd.DataFrame(common_b_pivot.corrwith(t).sort_values(ascending=False)).reset_index(drop=False)\n",
        "            \n",
        "            if querry_bookTitle in [ele for ele in suggesion_df[\"Book-Title\"]]:\n",
        "                suggesion_df=suggesion_df.drop(suggesion_df[suggesion_df[\"Book-Title\"]==querry_bookTitle].index[0])\n",
        "                \n",
        "            less_rating=[]\n",
        "            for ele in suggesion_df[\"Book-Title\"]:\n",
        "                if data[data[\"Book-Title\"]==ele][\"Book-Rating\"].mean() < 5:\n",
        "                    less_rating.append(ele)\n",
        "            if suggesion_df.shape[0] - len(less_rating) > 5:\n",
        "                suggesion_df=suggesion_df[~suggesion_df[\"Book-Title\"].isin(less_rating)]\n",
        "                \n",
        "            suggesion_df=suggesion_df[0:number_of_suggesions]\n",
        "            suggesion_df.columns=[\"Book-Title\",\"Correlation\"]\n",
        "\n",
        "            return suggesion_df\n",
        "            \n",
        "    else:\n",
        "        print(\"No Results Found  !!!\")"
      ],
      "metadata": {
        "id": "f1-nc-Sx-M4W"
      },
      "execution_count": 293,
      "outputs": []
    },
    {
      "cell_type": "code",
      "source": [
        "# getting top 10 suggesions from item-based approach\n",
        "item_based_approach(df_books_rating_copy,\"The Da Vinci Code\",10)"
      ],
      "metadata": {
        "id": "PajxtNes_nPf",
        "colab": {
          "base_uri": "https://localhost:8080/",
          "height": 363
        },
        "outputId": "92e6134f-efc7-42e8-fa9b-54b02c60f9f7"
      },
      "execution_count": 294,
      "outputs": [
        {
          "output_type": "execute_result",
          "data": {
            "text/plain": [
              "                                           Book-Title  Correlation\n",
              "1                                Silence of the Lambs     1.000000\n",
              "2     Dance upon the Air Three Sisters Island Trilogy     1.000000\n",
              "3                                  Unnatural Exposure     0.946118\n",
              "4   The Divine Secrets of the Ya Ya Sisterhood A N...     0.943242\n",
              "5                                    The Smoke Jumper     0.896258\n",
              "6                                     Four Blind Mice     0.887437\n",
              "7                                          Back Roads     0.883452\n",
              "8                                    Girl Interrupted     0.877346\n",
              "9                The Hitchhiker s Guide to the Galaxy     0.857690\n",
              "10                                Pop Goes the Weasel     0.850640"
            ],
            "text/html": [
              "\n",
              "  <div id=\"df-679d6492-895d-4343-b2f6-5850347d76bd\">\n",
              "    <div class=\"colab-df-container\">\n",
              "      <div>\n",
              "<style scoped>\n",
              "    .dataframe tbody tr th:only-of-type {\n",
              "        vertical-align: middle;\n",
              "    }\n",
              "\n",
              "    .dataframe tbody tr th {\n",
              "        vertical-align: top;\n",
              "    }\n",
              "\n",
              "    .dataframe thead th {\n",
              "        text-align: right;\n",
              "    }\n",
              "</style>\n",
              "<table border=\"1\" class=\"dataframe\">\n",
              "  <thead>\n",
              "    <tr style=\"text-align: right;\">\n",
              "      <th></th>\n",
              "      <th>Book-Title</th>\n",
              "      <th>Correlation</th>\n",
              "    </tr>\n",
              "  </thead>\n",
              "  <tbody>\n",
              "    <tr>\n",
              "      <th>1</th>\n",
              "      <td>Silence of the Lambs</td>\n",
              "      <td>1.000000</td>\n",
              "    </tr>\n",
              "    <tr>\n",
              "      <th>2</th>\n",
              "      <td>Dance upon the Air Three Sisters Island Trilogy</td>\n",
              "      <td>1.000000</td>\n",
              "    </tr>\n",
              "    <tr>\n",
              "      <th>3</th>\n",
              "      <td>Unnatural Exposure</td>\n",
              "      <td>0.946118</td>\n",
              "    </tr>\n",
              "    <tr>\n",
              "      <th>4</th>\n",
              "      <td>The Divine Secrets of the Ya Ya Sisterhood A N...</td>\n",
              "      <td>0.943242</td>\n",
              "    </tr>\n",
              "    <tr>\n",
              "      <th>5</th>\n",
              "      <td>The Smoke Jumper</td>\n",
              "      <td>0.896258</td>\n",
              "    </tr>\n",
              "    <tr>\n",
              "      <th>6</th>\n",
              "      <td>Four Blind Mice</td>\n",
              "      <td>0.887437</td>\n",
              "    </tr>\n",
              "    <tr>\n",
              "      <th>7</th>\n",
              "      <td>Back Roads</td>\n",
              "      <td>0.883452</td>\n",
              "    </tr>\n",
              "    <tr>\n",
              "      <th>8</th>\n",
              "      <td>Girl Interrupted</td>\n",
              "      <td>0.877346</td>\n",
              "    </tr>\n",
              "    <tr>\n",
              "      <th>9</th>\n",
              "      <td>The Hitchhiker s Guide to the Galaxy</td>\n",
              "      <td>0.857690</td>\n",
              "    </tr>\n",
              "    <tr>\n",
              "      <th>10</th>\n",
              "      <td>Pop Goes the Weasel</td>\n",
              "      <td>0.850640</td>\n",
              "    </tr>\n",
              "  </tbody>\n",
              "</table>\n",
              "</div>\n",
              "      <button class=\"colab-df-convert\" onclick=\"convertToInteractive('df-679d6492-895d-4343-b2f6-5850347d76bd')\"\n",
              "              title=\"Convert this dataframe to an interactive table.\"\n",
              "              style=\"display:none;\">\n",
              "        \n",
              "  <svg xmlns=\"http://www.w3.org/2000/svg\" height=\"24px\"viewBox=\"0 0 24 24\"\n",
              "       width=\"24px\">\n",
              "    <path d=\"M0 0h24v24H0V0z\" fill=\"none\"/>\n",
              "    <path d=\"M18.56 5.44l.94 2.06.94-2.06 2.06-.94-2.06-.94-.94-2.06-.94 2.06-2.06.94zm-11 1L8.5 8.5l.94-2.06 2.06-.94-2.06-.94L8.5 2.5l-.94 2.06-2.06.94zm10 10l.94 2.06.94-2.06 2.06-.94-2.06-.94-.94-2.06-.94 2.06-2.06.94z\"/><path d=\"M17.41 7.96l-1.37-1.37c-.4-.4-.92-.59-1.43-.59-.52 0-1.04.2-1.43.59L10.3 9.45l-7.72 7.72c-.78.78-.78 2.05 0 2.83L4 21.41c.39.39.9.59 1.41.59.51 0 1.02-.2 1.41-.59l7.78-7.78 2.81-2.81c.8-.78.8-2.07 0-2.86zM5.41 20L4 18.59l7.72-7.72 1.47 1.35L5.41 20z\"/>\n",
              "  </svg>\n",
              "      </button>\n",
              "      \n",
              "  <style>\n",
              "    .colab-df-container {\n",
              "      display:flex;\n",
              "      flex-wrap:wrap;\n",
              "      gap: 12px;\n",
              "    }\n",
              "\n",
              "    .colab-df-convert {\n",
              "      background-color: #E8F0FE;\n",
              "      border: none;\n",
              "      border-radius: 50%;\n",
              "      cursor: pointer;\n",
              "      display: none;\n",
              "      fill: #1967D2;\n",
              "      height: 32px;\n",
              "      padding: 0 0 0 0;\n",
              "      width: 32px;\n",
              "    }\n",
              "\n",
              "    .colab-df-convert:hover {\n",
              "      background-color: #E2EBFA;\n",
              "      box-shadow: 0px 1px 2px rgba(60, 64, 67, 0.3), 0px 1px 3px 1px rgba(60, 64, 67, 0.15);\n",
              "      fill: #174EA6;\n",
              "    }\n",
              "\n",
              "    [theme=dark] .colab-df-convert {\n",
              "      background-color: #3B4455;\n",
              "      fill: #D2E3FC;\n",
              "    }\n",
              "\n",
              "    [theme=dark] .colab-df-convert:hover {\n",
              "      background-color: #434B5C;\n",
              "      box-shadow: 0px 1px 3px 1px rgba(0, 0, 0, 0.15);\n",
              "      filter: drop-shadow(0px 1px 2px rgba(0, 0, 0, 0.3));\n",
              "      fill: #FFFFFF;\n",
              "    }\n",
              "  </style>\n",
              "\n",
              "      <script>\n",
              "        const buttonEl =\n",
              "          document.querySelector('#df-679d6492-895d-4343-b2f6-5850347d76bd button.colab-df-convert');\n",
              "        buttonEl.style.display =\n",
              "          google.colab.kernel.accessAllowed ? 'block' : 'none';\n",
              "\n",
              "        async function convertToInteractive(key) {\n",
              "          const element = document.querySelector('#df-679d6492-895d-4343-b2f6-5850347d76bd');\n",
              "          const dataTable =\n",
              "            await google.colab.kernel.invokeFunction('convertToInteractive',\n",
              "                                                     [key], {});\n",
              "          if (!dataTable) return;\n",
              "\n",
              "          const docLinkHtml = 'Like what you see? Visit the ' +\n",
              "            '<a target=\"_blank\" href=https://colab.research.google.com/notebooks/data_table.ipynb>data table notebook</a>'\n",
              "            + ' to learn more about interactive tables.';\n",
              "          element.innerHTML = '';\n",
              "          dataTable['output_type'] = 'display_data';\n",
              "          await google.colab.output.renderOutput(dataTable, element);\n",
              "          const docLink = document.createElement('div');\n",
              "          docLink.innerHTML = docLinkHtml;\n",
              "          element.appendChild(docLink);\n",
              "        }\n",
              "      </script>\n",
              "    </div>\n",
              "  </div>\n",
              "  "
            ]
          },
          "metadata": {},
          "execution_count": 294
        }
      ]
    },
    {
      "cell_type": "code",
      "source": [
        "# when the book title is not present\n",
        "item_based_approach(df_books_rating_copy,\"machine learning\",10)"
      ],
      "metadata": {
        "id": "s1rafgfPFUmJ",
        "colab": {
          "base_uri": "https://localhost:8080/"
        },
        "outputId": "1e43a5cd-27ce-4f53-86f2-e205e99d8f4c"
      },
      "execution_count": 295,
      "outputs": [
        {
          "output_type": "stream",
          "name": "stdout",
          "text": [
            "No Results Found  !!!\n"
          ]
        }
      ]
    },
    {
      "cell_type": "markdown",
      "source": [
        "## **7. Content based**"
      ],
      "metadata": {
        "id": "F9SghLjTQIZq"
      }
    },
    {
      "cell_type": "markdown",
      "source": [
        "In Content based Filtering approach we recomend item to the users based on the content we have about the history of users. We recomend similar books  based what other books that particular user has read.In simple words based on what we like ,the algorithm will simply pick the items with similar content to recomend us.\n",
        "\n",
        "\n",
        "![content.png](data:image/png;base64,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)\n",
        "\n",
        "source:[click here](https://miro.medium.com/max/720/1*BME1JjIlBEAI9BV5pOO5Mg.webp)"
      ],
      "metadata": {
        "id": "IWuUzbER8D3-"
      }
    },
    {
      "cell_type": "code",
      "source": [
        "def content_based_approach(data,querry_bookTitle,number_of_books):\n",
        "    querry_bookTitle=str(querry_bookTitle)\n",
        "    \n",
        "    if querry_bookTitle in data[\"Book-Title\"].values:\n",
        "        count_rating=pd.DataFrame(data[\"Book-Title\"].value_counts())\n",
        "        # seperating rare books\n",
        "        rare=count_rating[count_rating[\"Book-Title\"]<=100].index\n",
        "        # defining common books \n",
        "        # as those books which are not rare are common books\n",
        "        common_b=data[~data[\"Book-Title\"].isin(rare)]\n",
        "        \n",
        "        # If the qerry book title is very rare then we would suggest the most common books\n",
        "        if querry_bookTitle in rare:\n",
        "            # storing most common books \n",
        "            ran5=pd.Series(common_b[\"Book-Title\"].unique()).sample(5).values\n",
        "            print(\"No hard recomendation for this book can be suggested\")\n",
        "            print(\"but you can try with most common books \")\n",
        "            # suggesting randomly 5 books from set of common books\n",
        "            print(f\"1st {ran5[0]}\")\n",
        "            print(f\"2nd {ran5[1]}\")\n",
        "            print(f\"3rd {ran5[2]}\")\n",
        "            print(f\"4th {ran5[3]}\")\n",
        "            print(f\"5th {ran5[4]}\")\n",
        "        else:\n",
        "            #first we drop the dulplicates Book Title\n",
        "            common_b=common_b.drop_duplicates(subset=[\"Book-Title\"])\n",
        "            common_b.reset_index(inplace=True)\n",
        "            # setting the index to length of unique common books\n",
        "            common_b[\"index\"]=[ele for ele in range(common_b.shape[0])]\n",
        "            # taking content based book-title , book-Author and publisher\n",
        "            list_of_targets=[\"Book-Title\",\"Book-Author\",\"Publisher\"]\n",
        "            common_b[\"all_features\"] = [\" \".join(common_b[list_of_targets].iloc[ele,].values) for ele in range(common_b[list_of_targets].shape[0])]\n",
        "            # transfforming into vectorized form\n",
        "            vectorizer=CountVectorizer()\n",
        "            common_booksVector=vectorizer.fit_transform(common_b[\"all_features\"])\n",
        "            # finding similarity based on book-title , book-Author and publisher\n",
        "            similar=cosine_similarity(common_booksVector)\n",
        "            index=common_b[common_b[\"Book-Title\"]==querry_bookTitle][\"index\"].values[0]\n",
        "            similar_books_list=list(enumerate(similar[index]))\n",
        "            similar_books_sorted=sorted(similar_books_list,key=lambda ele:ele[1],reverse=True)[1:number_of_books+1]\n",
        "            suggested_books=[]\n",
        "            for ele in range(len(similar_books_sorted)):\n",
        "                \n",
        "                suggested_books.append(common_b[common_b[\"index\"]==similar_books_sorted[ele][0]][\"Book-Title\"].item())\n",
        "            return suggested_books\n",
        "    else:\n",
        "        print(\" COULD NOT FIND THE CONTENT\") "
      ],
      "metadata": {
        "id": "jdf1KV6QQH7q"
      },
      "execution_count": 296,
      "outputs": []
    },
    {
      "cell_type": "code",
      "source": [
        "content_based_approach(df_books_rating_copy,'The Da Vinci Code',10)"
      ],
      "metadata": {
        "id": "D66kUl4TVazU",
        "colab": {
          "base_uri": "https://localhost:8080/"
        },
        "outputId": "3f165b57-d21b-4dc3-db71-1db4f0ca4f54"
      },
      "execution_count": 297,
      "outputs": [
        {
          "output_type": "execute_result",
          "data": {
            "text/plain": [
              "['The Catcher in the Rye',\n",
              " 'The Brethren',\n",
              " 'The Firm',\n",
              " 'The Client',\n",
              " 'The Chamber',\n",
              " 'The Partner',\n",
              " 'The Hobbit The Enchanting Prelude to The Lord of the Rings',\n",
              " 'Angels amp Demons',\n",
              " 'The Fellowship of the Ring The Lord of the Rings Part 1',\n",
              " 'The Return of the King The Lord of the Rings Part 3']"
            ]
          },
          "metadata": {},
          "execution_count": 297
        }
      ]
    },
    {
      "cell_type": "markdown",
      "source": [
        "## ***8. Model Based Approach***"
      ],
      "metadata": {
        "id": "VfCC591jGiD4"
      }
    },
    {
      "cell_type": "markdown",
      "source": [
        "**Singular Value Decomposition (SVD)**, is a popular method in field of Data Science and Machine Learning .It is a classical method from the Linear Algebra concept. It is popular beacuse of its properties and its use in Recomendation System. We can use this in recomending Books, movies etc.\n",
        "\n",
        "SVD is a method from linear algebra that has been generally used as a dimensionality reduction technique in ML problems. It is a matrix Factorisation technique which tries to reduce the number of feature or attributes by reducing the sapce dimension from N dimension to I dimension.SVD is used as a collaborative filtering technique in recomendation technique domain. It consist of a matrix structure where the rows define the users and columns defines the item.\n",
        "\n",
        "\n",
        "**Non- Negetive Matrix Factorisation(NMF) :** Our goal in NMF is to approximate the users-item V matrix by the dot product of two arrays W and H. Dimensions of the arrays are defined by dimensions of V and number of components we set to the algorithm. If V has n rows and m columns and we want to decompose it to k components, then W has n rows, and k columns and H has k rows and m columns.This is actually matrix factorization part of the algorithm. The Non-negative part refers to V, W, and H — all the values have to be equal or greater than zero, i.e., non-negative.\n",
        "\n",
        "![NMF.png](data:image/png;base64,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)\n",
        "\n",
        "\n",
        "Source:[Click here](https://www.google.com/url?sa=i&url=https%3A%2F%2Fpredictivehacks.com%2Fnon-negative-matrix-factorization-for-dimensionality-reduction%2F&psig=AOvVaw1hRiKieTP6oX2TMPPRoxiz&ust=1671441917992000&source=images&cd=vfe&ved=0CBAQjRxqFwoTCLDK4cDsgvwCFQAAAAAdAAAAABAE)"
      ],
      "metadata": {
        "id": "UVnW_HCfdTvH"
      }
    },
    {
      "cell_type": "markdown",
      "source": [
        "### ML Model - 1"
      ],
      "metadata": {
        "id": "OB4l2ZhMeS1U"
      }
    },
    {
      "cell_type": "code",
      "source": [
        "# cosidering valid ratings only\n",
        "df_ratings=df_ratings[df_ratings['Book-Rating'] != 0]\n",
        "df_merge=pd.merge(df_users, df_ratings, on=\"User-ID\")\n",
        "df_merge=pd.merge(df_merge,df_books, on=\"ISBN\")"
      ],
      "metadata": {
        "id": "y_y9D_0hi1a-"
      },
      "execution_count": 298,
      "outputs": []
    },
    {
      "cell_type": "code",
      "source": [
        "df_merge.info()"
      ],
      "metadata": {
        "id": "tvIIOLcZj0iD",
        "colab": {
          "base_uri": "https://localhost:8080/"
        },
        "outputId": "da500323-88ca-4752-f98d-f0c0422444c7"
      },
      "execution_count": 299,
      "outputs": [
        {
          "output_type": "stream",
          "name": "stdout",
          "text": [
            "<class 'pandas.core.frame.DataFrame'>\n",
            "Int64Index: 383842 entries, 0 to 383841\n",
            "Data columns (total 12 columns):\n",
            " #   Column               Non-Null Count   Dtype  \n",
            "---  ------               --------------   -----  \n",
            " 0   User-ID              383842 non-null  int64  \n",
            " 1   Location             383842 non-null  object \n",
            " 2   Age                  383842 non-null  float64\n",
            " 3   ISBN                 383842 non-null  object \n",
            " 4   Book-Rating          383842 non-null  int64  \n",
            " 5   Book-Title           383842 non-null  object \n",
            " 6   Book-Author          383842 non-null  object \n",
            " 7   Year-Of-Publication  383842 non-null  float64\n",
            " 8   Publisher            383842 non-null  object \n",
            " 9   Image-URL-S          383842 non-null  object \n",
            " 10  Image-URL-M          383842 non-null  object \n",
            " 11  Image-URL-L          383841 non-null  object \n",
            "dtypes: float64(2), int64(2), object(8)\n",
            "memory usage: 38.1+ MB\n"
          ]
        }
      ]
    },
    {
      "cell_type": "code",
      "source": [
        "df_merge.drop(['Image-URL-M','Image-URL-S','Image-URL-L'],axis=1,inplace=True)"
      ],
      "metadata": {
        "id": "4GYYnHRxkJU-"
      },
      "execution_count": 300,
      "outputs": []
    },
    {
      "cell_type": "code",
      "source": [
        "df_merge.isnull().sum()"
      ],
      "metadata": {
        "id": "-5AX69IFj6GH",
        "colab": {
          "base_uri": "https://localhost:8080/"
        },
        "outputId": "c7448107-9f3a-4d80-a01d-5c58587dce71"
      },
      "execution_count": 301,
      "outputs": [
        {
          "output_type": "execute_result",
          "data": {
            "text/plain": [
              "User-ID                0\n",
              "Location               0\n",
              "Age                    0\n",
              "ISBN                   0\n",
              "Book-Rating            0\n",
              "Book-Title             0\n",
              "Book-Author            0\n",
              "Year-Of-Publication    0\n",
              "Publisher              0\n",
              "dtype: int64"
            ]
          },
          "metadata": {},
          "execution_count": 301
        }
      ]
    },
    {
      "cell_type": "code",
      "source": [
        "# ML Model - 1 Implementation\n",
        "reader = Reader(rating_scale=(1, 10))\n",
        "data = Dataset.load_from_df(df_merge[['User-ID', 'ISBN', 'Book-Rating']], reader)\n",
        "# Fit the Algorithm\n",
        "svd_default = SVD()\n",
        "results_svd = cross_validate(svd_default, data, cv=3)\n",
        "pd.DataFrame(results_svd).mean()\n",
        "# Predict on the model"
      ],
      "metadata": {
        "id": "7ebyywQieS1U",
        "colab": {
          "base_uri": "https://localhost:8080/"
        },
        "outputId": "9223c9cb-9ac9-427e-8050-2fd188a15486"
      },
      "execution_count": 302,
      "outputs": [
        {
          "output_type": "execute_result",
          "data": {
            "text/plain": [
              "test_rmse    1.642756\n",
              "test_mae     1.269286\n",
              "fit_time     7.277300\n",
              "test_time    2.047859\n",
              "dtype: float64"
            ]
          },
          "metadata": {},
          "execution_count": 302
        }
      ]
    },
    {
      "cell_type": "code",
      "source": [
        "#implimentation of NMF\n",
        "nmf = NMF()\n",
        "results_nmf = cross_validate(nmf, data, cv=3)\n",
        "pd.DataFrame(results_nmf).mean()"
      ],
      "metadata": {
        "id": "RCAhiC8Wlvku",
        "colab": {
          "base_uri": "https://localhost:8080/"
        },
        "outputId": "491476ce-5111-4192-f161-13805a5bf732"
      },
      "execution_count": 303,
      "outputs": [
        {
          "output_type": "execute_result",
          "data": {
            "text/plain": [
              "test_rmse     2.473635\n",
              "test_mae      2.054891\n",
              "fit_time     23.080653\n",
              "test_time     1.963657\n",
              "dtype: float64"
            ]
          },
          "metadata": {},
          "execution_count": 303
        }
      ]
    },
    {
      "cell_type": "markdown",
      "source": [
        "#### 2. Cross- Validation & Hyperparameter Tuning"
      ],
      "metadata": {
        "id": "4qY1EAkEfxKe"
      }
    },
    {
      "cell_type": "markdown",
      "source": [
        "* **As SVD model is working good with deafault parameters so, we would try hypertunning on SVD model only**"
      ],
      "metadata": {
        "id": "1NZiGTC4pQDg"
      }
    },
    {
      "cell_type": "markdown",
      "source": [
        "Hyperparameter tunning is a process where we tune our model that is we try to find the odel parameters which would give best results \n",
        "* Here we have use GridSearchCV which check the results for all possible combination from the parameter grid\n",
        "\n",
        "* we will try to find the model parameters \n",
        "            'n_factors'- number of factors\n",
        "            'n_epochs'- number of epochs i.e number of iteration of the SVD procedure \n",
        "            'lr_all'- learning rate\n",
        "            'reg_all- the regularisation term for all parameters"
      ],
      "metadata": {
        "id": "grAq6598aNT1"
      }
    },
    {
      "cell_type": "code",
      "source": [
        "# ML Model - 1 Implementation with hyperparameter optimization techniques (i.e., GridSearch CV, RandomSearch CV, Bayesian Optimization etc.)\n",
        "param_grid = {'n_factors': [60,50],\n",
        "              'n_epochs': [6, 16],\n",
        "              'lr_all': [0.01, 0.001],\n",
        "              'reg_all': [0.1, 0.9]}\n",
        "\n",
        "opt_svd = GridSearchCV(SVD, param_grid, measures=['rmse', 'mae'], cv=3)\n",
        "opt_svd.fit(data)\n",
        "\n",
        "print(opt_svd.best_score['rmse'])\n",
        "print(opt_svd.best_params['rmse'])"
      ],
      "metadata": {
        "id": "Dy61ujd6fxKe",
        "colab": {
          "base_uri": "https://localhost:8080/"
        },
        "outputId": "5d72626e-346b-41fe-b1f4-395f966faaa3"
      },
      "execution_count": 304,
      "outputs": [
        {
          "output_type": "stream",
          "name": "stdout",
          "text": [
            "1.6335604587631352\n",
            "{'n_factors': 50, 'n_epochs': 16, 'lr_all': 0.01, 'reg_all': 0.1}\n"
          ]
        }
      ]
    },
    {
      "cell_type": "markdown",
      "source": [
        "**Hypertunning SVD model**"
      ],
      "metadata": {
        "id": "UPXx6QmXoqVj"
      }
    },
    {
      "cell_type": "code",
      "source": [
        "# Spliting the dataset in train teat and predict\n",
        "train, test = train_test_split(data, test_size=0.2)\n",
        "best_params=opt_svd.best_params['rmse']\n",
        "optimized_svd = SVD(n_factors=best_params['n_factors'], n_epochs=best_params['n_epochs'], lr_all=best_params['lr_all'], reg_all=best_params['reg_all'])\n",
        "optimized_svd.fit(train)\n",
        "pred = optimized_svd.test(test)"
      ],
      "metadata": {
        "id": "fChAyKVcnGf6"
      },
      "execution_count": 305,
      "outputs": []
    },
    {
      "cell_type": "code",
      "source": [
        "results_svd = cross_validate(optimized_svd, data, cv=3)\n",
        "pd.DataFrame(results_svd).mean()"
      ],
      "metadata": {
        "id": "lkU50c7rp6cF",
        "colab": {
          "base_uri": "https://localhost:8080/"
        },
        "outputId": "94846f11-6324-4d52-f00e-8a56d212fdd3"
      },
      "execution_count": 306,
      "outputs": [
        {
          "output_type": "execute_result",
          "data": {
            "text/plain": [
              "test_rmse    1.632748\n",
              "test_mae     1.264783\n",
              "fit_time     4.779001\n",
              "test_time    1.128626\n",
              "dtype: float64"
            ]
          },
          "metadata": {},
          "execution_count": 306
        }
      ]
    },
    {
      "cell_type": "code",
      "source": [
        "# To see predictions\n",
        "df_pred = pd.DataFrame(pred, columns=['user_id', 'isbn', 'actual_rating', 'pred_rating', 'details'])\n",
        "df_pred['impossible'] = df_pred['details'].apply(lambda x: x['was_impossible'])\n",
        "df_pred['pred_rating_round'] = df_pred['pred_rating'].round()\n",
        "df_pred['abs_err'] = abs(df_pred['pred_rating'] - df_pred['actual_rating'])\n",
        "df_pred.drop(['details'], axis=1, inplace=True)\n",
        "df_pred.sample(10)"
      ],
      "metadata": {
        "id": "3QQgOU4-ozMZ",
        "colab": {
          "base_uri": "https://localhost:8080/",
          "height": 363
        },
        "outputId": "b6eb0730-2d43-4298-9e43-2b4a8950db01"
      },
      "execution_count": 307,
      "outputs": [
        {
          "output_type": "execute_result",
          "data": {
            "text/plain": [
              "       user_id        isbn  actual_rating  pred_rating  impossible  \\\n",
              "18301   118180  044651862X            6.0     7.036224       False   \n",
              "31781   125396  0590944649            5.0     6.797697       False   \n",
              "18205   260424  8804500646            8.0     7.916279       False   \n",
              "17739    28790  0671028200            5.0     7.149106       False   \n",
              "72365   110934  0312290314            8.0     7.806935       False   \n",
              "22864   189835  0140378251            5.0     5.203493       False   \n",
              "31681    91012  0811200701            8.0     8.467437       False   \n",
              "222     269566  080694756X            8.0     6.636774       False   \n",
              "12607   208390  0446525502            8.0     7.429166       False   \n",
              "29328    35859  0451160959            8.0     7.875842       False   \n",
              "\n",
              "       pred_rating_round   abs_err  \n",
              "18301                7.0  1.036224  \n",
              "31781                7.0  1.797697  \n",
              "18205                8.0  0.083721  \n",
              "17739                7.0  2.149106  \n",
              "72365                8.0  0.193065  \n",
              "22864                5.0  0.203493  \n",
              "31681                8.0  0.467437  \n",
              "222                  7.0  1.363226  \n",
              "12607                7.0  0.570834  \n",
              "29328                8.0  0.124158  "
            ],
            "text/html": [
              "\n",
              "  <div id=\"df-d8e45ea3-9c45-41e6-a777-ae5ed0530ed5\">\n",
              "    <div class=\"colab-df-container\">\n",
              "      <div>\n",
              "<style scoped>\n",
              "    .dataframe tbody tr th:only-of-type {\n",
              "        vertical-align: middle;\n",
              "    }\n",
              "\n",
              "    .dataframe tbody tr th {\n",
              "        vertical-align: top;\n",
              "    }\n",
              "\n",
              "    .dataframe thead th {\n",
              "        text-align: right;\n",
              "    }\n",
              "</style>\n",
              "<table border=\"1\" class=\"dataframe\">\n",
              "  <thead>\n",
              "    <tr style=\"text-align: right;\">\n",
              "      <th></th>\n",
              "      <th>user_id</th>\n",
              "      <th>isbn</th>\n",
              "      <th>actual_rating</th>\n",
              "      <th>pred_rating</th>\n",
              "      <th>impossible</th>\n",
              "      <th>pred_rating_round</th>\n",
              "      <th>abs_err</th>\n",
              "    </tr>\n",
              "  </thead>\n",
              "  <tbody>\n",
              "    <tr>\n",
              "      <th>18301</th>\n",
              "      <td>118180</td>\n",
              "      <td>044651862X</td>\n",
              "      <td>6.0</td>\n",
              "      <td>7.036224</td>\n",
              "      <td>False</td>\n",
              "      <td>7.0</td>\n",
              "      <td>1.036224</td>\n",
              "    </tr>\n",
              "    <tr>\n",
              "      <th>31781</th>\n",
              "      <td>125396</td>\n",
              "      <td>0590944649</td>\n",
              "      <td>5.0</td>\n",
              "      <td>6.797697</td>\n",
              "      <td>False</td>\n",
              "      <td>7.0</td>\n",
              "      <td>1.797697</td>\n",
              "    </tr>\n",
              "    <tr>\n",
              "      <th>18205</th>\n",
              "      <td>260424</td>\n",
              "      <td>8804500646</td>\n",
              "      <td>8.0</td>\n",
              "      <td>7.916279</td>\n",
              "      <td>False</td>\n",
              "      <td>8.0</td>\n",
              "      <td>0.083721</td>\n",
              "    </tr>\n",
              "    <tr>\n",
              "      <th>17739</th>\n",
              "      <td>28790</td>\n",
              "      <td>0671028200</td>\n",
              "      <td>5.0</td>\n",
              "      <td>7.149106</td>\n",
              "      <td>False</td>\n",
              "      <td>7.0</td>\n",
              "      <td>2.149106</td>\n",
              "    </tr>\n",
              "    <tr>\n",
              "      <th>72365</th>\n",
              "      <td>110934</td>\n",
              "      <td>0312290314</td>\n",
              "      <td>8.0</td>\n",
              "      <td>7.806935</td>\n",
              "      <td>False</td>\n",
              "      <td>8.0</td>\n",
              "      <td>0.193065</td>\n",
              "    </tr>\n",
              "    <tr>\n",
              "      <th>22864</th>\n",
              "      <td>189835</td>\n",
              "      <td>0140378251</td>\n",
              "      <td>5.0</td>\n",
              "      <td>5.203493</td>\n",
              "      <td>False</td>\n",
              "      <td>5.0</td>\n",
              "      <td>0.203493</td>\n",
              "    </tr>\n",
              "    <tr>\n",
              "      <th>31681</th>\n",
              "      <td>91012</td>\n",
              "      <td>0811200701</td>\n",
              "      <td>8.0</td>\n",
              "      <td>8.467437</td>\n",
              "      <td>False</td>\n",
              "      <td>8.0</td>\n",
              "      <td>0.467437</td>\n",
              "    </tr>\n",
              "    <tr>\n",
              "      <th>222</th>\n",
              "      <td>269566</td>\n",
              "      <td>080694756X</td>\n",
              "      <td>8.0</td>\n",
              "      <td>6.636774</td>\n",
              "      <td>False</td>\n",
              "      <td>7.0</td>\n",
              "      <td>1.363226</td>\n",
              "    </tr>\n",
              "    <tr>\n",
              "      <th>12607</th>\n",
              "      <td>208390</td>\n",
              "      <td>0446525502</td>\n",
              "      <td>8.0</td>\n",
              "      <td>7.429166</td>\n",
              "      <td>False</td>\n",
              "      <td>7.0</td>\n",
              "      <td>0.570834</td>\n",
              "    </tr>\n",
              "    <tr>\n",
              "      <th>29328</th>\n",
              "      <td>35859</td>\n",
              "      <td>0451160959</td>\n",
              "      <td>8.0</td>\n",
              "      <td>7.875842</td>\n",
              "      <td>False</td>\n",
              "      <td>8.0</td>\n",
              "      <td>0.124158</td>\n",
              "    </tr>\n",
              "  </tbody>\n",
              "</table>\n",
              "</div>\n",
              "      <button class=\"colab-df-convert\" onclick=\"convertToInteractive('df-d8e45ea3-9c45-41e6-a777-ae5ed0530ed5')\"\n",
              "              title=\"Convert this dataframe to an interactive table.\"\n",
              "              style=\"display:none;\">\n",
              "        \n",
              "  <svg xmlns=\"http://www.w3.org/2000/svg\" height=\"24px\"viewBox=\"0 0 24 24\"\n",
              "       width=\"24px\">\n",
              "    <path d=\"M0 0h24v24H0V0z\" fill=\"none\"/>\n",
              "    <path d=\"M18.56 5.44l.94 2.06.94-2.06 2.06-.94-2.06-.94-.94-2.06-.94 2.06-2.06.94zm-11 1L8.5 8.5l.94-2.06 2.06-.94-2.06-.94L8.5 2.5l-.94 2.06-2.06.94zm10 10l.94 2.06.94-2.06 2.06-.94-2.06-.94-.94-2.06-.94 2.06-2.06.94z\"/><path d=\"M17.41 7.96l-1.37-1.37c-.4-.4-.92-.59-1.43-.59-.52 0-1.04.2-1.43.59L10.3 9.45l-7.72 7.72c-.78.78-.78 2.05 0 2.83L4 21.41c.39.39.9.59 1.41.59.51 0 1.02-.2 1.41-.59l7.78-7.78 2.81-2.81c.8-.78.8-2.07 0-2.86zM5.41 20L4 18.59l7.72-7.72 1.47 1.35L5.41 20z\"/>\n",
              "  </svg>\n",
              "      </button>\n",
              "      \n",
              "  <style>\n",
              "    .colab-df-container {\n",
              "      display:flex;\n",
              "      flex-wrap:wrap;\n",
              "      gap: 12px;\n",
              "    }\n",
              "\n",
              "    .colab-df-convert {\n",
              "      background-color: #E8F0FE;\n",
              "      border: none;\n",
              "      border-radius: 50%;\n",
              "      cursor: pointer;\n",
              "      display: none;\n",
              "      fill: #1967D2;\n",
              "      height: 32px;\n",
              "      padding: 0 0 0 0;\n",
              "      width: 32px;\n",
              "    }\n",
              "\n",
              "    .colab-df-convert:hover {\n",
              "      background-color: #E2EBFA;\n",
              "      box-shadow: 0px 1px 2px rgba(60, 64, 67, 0.3), 0px 1px 3px 1px rgba(60, 64, 67, 0.15);\n",
              "      fill: #174EA6;\n",
              "    }\n",
              "\n",
              "    [theme=dark] .colab-df-convert {\n",
              "      background-color: #3B4455;\n",
              "      fill: #D2E3FC;\n",
              "    }\n",
              "\n",
              "    [theme=dark] .colab-df-convert:hover {\n",
              "      background-color: #434B5C;\n",
              "      box-shadow: 0px 1px 3px 1px rgba(0, 0, 0, 0.15);\n",
              "      filter: drop-shadow(0px 1px 2px rgba(0, 0, 0, 0.3));\n",
              "      fill: #FFFFFF;\n",
              "    }\n",
              "  </style>\n",
              "\n",
              "      <script>\n",
              "        const buttonEl =\n",
              "          document.querySelector('#df-d8e45ea3-9c45-41e6-a777-ae5ed0530ed5 button.colab-df-convert');\n",
              "        buttonEl.style.display =\n",
              "          google.colab.kernel.accessAllowed ? 'block' : 'none';\n",
              "\n",
              "        async function convertToInteractive(key) {\n",
              "          const element = document.querySelector('#df-d8e45ea3-9c45-41e6-a777-ae5ed0530ed5');\n",
              "          const dataTable =\n",
              "            await google.colab.kernel.invokeFunction('convertToInteractive',\n",
              "                                                     [key], {});\n",
              "          if (!dataTable) return;\n",
              "\n",
              "          const docLinkHtml = 'Like what you see? Visit the ' +\n",
              "            '<a target=\"_blank\" href=https://colab.research.google.com/notebooks/data_table.ipynb>data table notebook</a>'\n",
              "            + ' to learn more about interactive tables.';\n",
              "          element.innerHTML = '';\n",
              "          dataTable['output_type'] = 'display_data';\n",
              "          await google.colab.output.renderOutput(dataTable, element);\n",
              "          const docLink = document.createElement('div');\n",
              "          docLink.innerHTML = docLinkHtml;\n",
              "          element.appendChild(docLink);\n",
              "        }\n",
              "      </script>\n",
              "    </div>\n",
              "  </div>\n",
              "  "
            ]
          },
          "metadata": {},
          "execution_count": 307
        }
      ]
    },
    {
      "cell_type": "markdown",
      "source": [
        "##### Which hyperparameter optimization technique have you used and why?"
      ],
      "metadata": {
        "id": "PiV4Ypx8fxKe"
      }
    },
    {
      "cell_type": "markdown",
      "source": [
        "*  GridSearchCV , As we have to check results for all possible combination of parameters from the param grid"
      ],
      "metadata": {
        "id": "negyGRa7fxKf"
      }
    },
    {
      "cell_type": "markdown",
      "source": [
        "##### Have you seen any improvement? Note down the improvement with updates Evaluation metric Score Chart."
      ],
      "metadata": {
        "id": "TfvqoZmBfxKf"
      }
    },
    {
      "cell_type": "markdown",
      "source": [
        "* yes , the test_rmse has been reduced by 0.01"
      ],
      "metadata": {
        "id": "OaLui8CcfxKf"
      }
    },
    {
      "cell_type": "markdown",
      "source": [
        "# **Conclusion**"
      ],
      "metadata": {
        "id": "gCX9965dhzqZ"
      }
    },
    {
      "cell_type": "markdown",
      "source": [
        "**For EDA part** \n",
        "* Top-10 most rated books were essentially novels. Books like The Lovely Bone and Wild Animus were very famous \n",
        "\n",
        "* Most of the books were  pulblised by Hariequin, Silhouette and Pocket\n",
        "\n",
        "* As per this dataset Stephen King is the Author who got maximum number of ratings by the users\n",
        "\n",
        "* Based on this dataset Agatha Christie released maximums books .Followed by William Shakespeare and Stephen King are 2nd and 3rd most Authors who have relased maximum books.\n",
        "* Most commom rating given by the user is 8\n",
        "\n",
        "**Modelling part**\n",
        "\n",
        "* SVD model works better than NMF model as it has lower RMSE and MAE score."
      ],
      "metadata": {
        "id": "Fjb1IsQkh3yE"
      }
    },
    {
      "cell_type": "markdown",
      "source": [
        "### ***Hurrah! You have successfully completed your Machine Learning Capstone Project !!!***"
      ],
      "metadata": {
        "id": "gIfDvo9L0UH2"
      }
    }
  ]
}